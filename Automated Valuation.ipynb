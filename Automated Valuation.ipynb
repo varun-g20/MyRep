{
 "cells": [
  {
   "cell_type": "code",
   "execution_count": 1,
   "metadata": {},
   "outputs": [],
   "source": [
    "#ALWAYS run the first 2 blocks of code. ALWAYS!\n",
    "import pandas as pd\n",
    "import numpy as np\n",
    "import numpy.linalg as linalg\n",
    "import numpy.random as rnd\n",
    "import matplotlib.pyplot as plt\n",
    "import zipfile\n",
    "import yfinance as yf\n",
    "import plotly.express as px\n",
    "import plotly.graph_objects as go\n",
    "from plotly.subplots import make_subplots\n",
    "import pandas_datareader as pdr\n",
    "from selenium import webdriver\n",
    "from selenium.webdriver.common.keys import Keys\n",
    "import requests\n",
    "from bs4 import BeautifulSoup\n",
    "import time\n",
    "import re"
   ]
  },
  {
   "cell_type": "code",
   "execution_count": 2,
   "metadata": {},
   "outputs": [
    {
     "name": "stdout",
     "output_type": "stream",
     "text": [
      "/Users/varunginde/Downloads\n"
     ]
    }
   ],
   "source": [
    "%cd downloads"
   ]
  },
  {
   "cell_type": "code",
   "execution_count": 3,
   "metadata": {},
   "outputs": [],
   "source": [
    "driver = webdriver.Chrome('/usr/local/bin/chromedriver version 91')"
   ]
  },
  {
   "cell_type": "markdown",
   "metadata": {},
   "source": [
    "## Scraping Financial Statements\n",
    "For the purpose of valuation, I'll mainly need the balance sheet, income statement and the various ratios of the company. The browser controlled by Selenium will scrape this data from _moneycontrol_. This scraper is meant for companies which have been listed for at least 5 years."
   ]
  },
  {
   "cell_type": "code",
   "execution_count": 4,
   "metadata": {},
   "outputs": [],
   "source": [
    "def stock_ki_kundali(stock_name,params,con=True):\n",
    "    df_list = []\n",
    "\n",
    "    if type(params)==str:\n",
    "        params = [params]\n",
    "    for param in params:\n",
    "        driver.get('https://www.google.com/')\n",
    "        soup = BeautifulSoup(driver.page_source,'lxml')\n",
    "        \n",
    "        search_box = driver.find_element_by_name('q') \n",
    "        search_box.send_keys(f\"moneycontrol {stock_name} {param}\") \n",
    "        search_box.submit()\n",
    "    \n",
    "        soup_1 = BeautifulSoup(driver.page_source,'lxml')\n",
    "    \n",
    "        s = soup_1.find_all('div',{'class':'yuRUbf'})[0]\n",
    "        soup_2 = s.find_all('a',href=True)\n",
    "        driver.get((soup_2[0]['href']))\n",
    "        \n",
    "        soup = BeautifulSoup(driver.page_source,'lxml')\n",
    "        if con==True:\n",
    "            for i in soup.find_all('a'):\n",
    "                if 'Consolidated' in i.text:\n",
    "                    driver.get(i['href'])\n",
    "                    break\n",
    "        #else:\n",
    "            #for i in soup.find_all('a'):\n",
    "                #if 'Standalone' in i.text:\n",
    "                    #driver.get(i['href'])\n",
    "                    #break\n",
    "    \n",
    "        soup = BeautifulSoup(driver.page_source,'lxml')\n",
    "        titles = []\n",
    "        numbers = []\n",
    "        l = []\n",
    "        if param not in ['ratios','profit and loss statement']:\n",
    "            for data in soup.find_all('tr',{'class':'lightbg'}):\n",
    "                for nos in data.find_all('td'):\n",
    "                    l.append(nos.text)\n",
    "        else:\n",
    "            for data in soup.find_all('tr'):\n",
    "                for nos in data.find_all('td'):\n",
    "                    l.append(nos.text)\n",
    "            l = l[1:]\n",
    "            \n",
    "        for i in range(len(l)//7):\n",
    "            titles.append(l[7*i])\n",
    "            numbers.append(l[7*i+1:7*i+6])\n",
    "        df = pd.DataFrame(numbers,index=titles)\n",
    "        header = df.iloc[0]\n",
    "        df.drop(df.index[0],axis=0,inplace=True)\n",
    "        df.columns = header\n",
    "        for col in df.columns:\n",
    "            try:\n",
    "                df[col] = df[col].apply(lambda x:float(x.replace(',','')))\n",
    "            except ValueError:\n",
    "                pass\n",
    "        df_list.append(df)\n",
    "        \n",
    "    return df_list"
   ]
  },
  {
   "cell_type": "code",
   "execution_count": 5,
   "metadata": {},
   "outputs": [],
   "source": [
    "kundali = stock_ki_kundali('Infosys',['ratios','profit and loss statement','balance sheet'])\n",
    "df1 = kundali[0]\n",
    "df2 = kundali[1]\n",
    "df3 = kundali[2]"
   ]
  },
  {
   "cell_type": "markdown",
   "metadata": {},
   "source": [
    "The 3 dataframes above consist of the data for Infosys. The 1st one consists of the various ratios, the 2nd consists of the income statement and the 3rd consists of the balance sheet."
   ]
  },
  {
   "cell_type": "code",
   "execution_count": 6,
   "metadata": {},
   "outputs": [
    {
     "data": {
      "text/html": [
       "<div>\n",
       "<style scoped>\n",
       "    .dataframe tbody tr th:only-of-type {\n",
       "        vertical-align: middle;\n",
       "    }\n",
       "\n",
       "    .dataframe tbody tr th {\n",
       "        vertical-align: top;\n",
       "    }\n",
       "\n",
       "    .dataframe thead th {\n",
       "        text-align: right;\n",
       "    }\n",
       "</style>\n",
       "<table border=\"1\" class=\"dataframe\">\n",
       "  <thead>\n",
       "    <tr style=\"text-align: right;\">\n",
       "      <th>Profit &amp; Loss account of Infosys (in Rs. Cr.)</th>\n",
       "      <th>Mar 21</th>\n",
       "      <th>Mar 20</th>\n",
       "      <th>Mar 19</th>\n",
       "      <th>Mar 18</th>\n",
       "      <th>Mar 17</th>\n",
       "    </tr>\n",
       "  </thead>\n",
       "  <tbody>\n",
       "    <tr>\n",
       "      <th></th>\n",
       "      <td>12 mths</td>\n",
       "      <td>12 mths</td>\n",
       "      <td>12 mths</td>\n",
       "      <td>12 mths</td>\n",
       "      <td>12 mths</td>\n",
       "    </tr>\n",
       "    <tr>\n",
       "      <th>INCOME</th>\n",
       "      <td></td>\n",
       "      <td></td>\n",
       "      <td></td>\n",
       "      <td></td>\n",
       "      <td></td>\n",
       "    </tr>\n",
       "    <tr>\n",
       "      <th>Revenue From Operations [Gross]</th>\n",
       "      <td>100,472.00</td>\n",
       "      <td>90,791.00</td>\n",
       "      <td>82,675.00</td>\n",
       "      <td>70,522.00</td>\n",
       "      <td>68,484.00</td>\n",
       "    </tr>\n",
       "    <tr>\n",
       "      <th>Less: Excise/Sevice Tax/Other Levies</th>\n",
       "      <td>0.00</td>\n",
       "      <td>0.00</td>\n",
       "      <td>0.00</td>\n",
       "      <td>0.00</td>\n",
       "      <td>0.00</td>\n",
       "    </tr>\n",
       "    <tr>\n",
       "      <th>Revenue From Operations [Net]</th>\n",
       "      <td>100,472.00</td>\n",
       "      <td>90,791.00</td>\n",
       "      <td>82,675.00</td>\n",
       "      <td>70,522.00</td>\n",
       "      <td>68,484.00</td>\n",
       "    </tr>\n",
       "    <tr>\n",
       "      <th>Total Operating Revenues</th>\n",
       "      <td>100,472.00</td>\n",
       "      <td>90,791.00</td>\n",
       "      <td>82,675.00</td>\n",
       "      <td>70,522.00</td>\n",
       "      <td>68,484.00</td>\n",
       "    </tr>\n",
       "    <tr>\n",
       "      <th>Other Income</th>\n",
       "      <td>2,201.00</td>\n",
       "      <td>2,803.00</td>\n",
       "      <td>2,882.00</td>\n",
       "      <td>3,193.00</td>\n",
       "      <td>3,080.00</td>\n",
       "    </tr>\n",
       "    <tr>\n",
       "      <th>Total Revenue</th>\n",
       "      <td>102,673.00</td>\n",
       "      <td>93,594.00</td>\n",
       "      <td>85,557.00</td>\n",
       "      <td>73,715.00</td>\n",
       "      <td>71,564.00</td>\n",
       "    </tr>\n",
       "    <tr>\n",
       "      <th>EXPENSES</th>\n",
       "      <td></td>\n",
       "      <td></td>\n",
       "      <td></td>\n",
       "      <td></td>\n",
       "      <td></td>\n",
       "    </tr>\n",
       "    <tr>\n",
       "      <th>Cost Of Materials Consumed</th>\n",
       "      <td>0.00</td>\n",
       "      <td>0.00</td>\n",
       "      <td>0.00</td>\n",
       "      <td>0.00</td>\n",
       "      <td>0.00</td>\n",
       "    </tr>\n",
       "    <tr>\n",
       "      <th>Operating And Direct Expenses</th>\n",
       "      <td>13,756.00</td>\n",
       "      <td>13,981.00</td>\n",
       "      <td>12,814.00</td>\n",
       "      <td>6,167.00</td>\n",
       "      <td>5,430.00</td>\n",
       "    </tr>\n",
       "    <tr>\n",
       "      <th>Employee Benefit Expenses</th>\n",
       "      <td>55,541.00</td>\n",
       "      <td>50,887.00</td>\n",
       "      <td>45,315.00</td>\n",
       "      <td>38,893.00</td>\n",
       "      <td>37,659.00</td>\n",
       "    </tr>\n",
       "    <tr>\n",
       "      <th>Finance Costs</th>\n",
       "      <td>195.00</td>\n",
       "      <td>170.00</td>\n",
       "      <td>0.00</td>\n",
       "      <td>0.00</td>\n",
       "      <td>0.00</td>\n",
       "    </tr>\n",
       "    <tr>\n",
       "      <th>Depreciation And Amortisation Expenses</th>\n",
       "      <td>3,267.00</td>\n",
       "      <td>2,893.00</td>\n",
       "      <td>2,011.00</td>\n",
       "      <td>1,863.00</td>\n",
       "      <td>1,703.00</td>\n",
       "    </tr>\n",
       "    <tr>\n",
       "      <th>Other Expenses</th>\n",
       "      <td>3,286.00</td>\n",
       "      <td>3,656.00</td>\n",
       "      <td>4,376.00</td>\n",
       "      <td>6,451.00</td>\n",
       "      <td>6,791.00</td>\n",
       "    </tr>\n",
       "    <tr>\n",
       "      <th>Total Expenses</th>\n",
       "      <td>76,045.00</td>\n",
       "      <td>71,587.00</td>\n",
       "      <td>64,516.00</td>\n",
       "      <td>53,374.00</td>\n",
       "      <td>51,583.00</td>\n",
       "    </tr>\n",
       "    <tr>\n",
       "      <th>Profit/Loss Before Exceptional, ExtraOrdinary Items And Tax</th>\n",
       "      <td>26,628.00</td>\n",
       "      <td>22,007.00</td>\n",
       "      <td>21,041.00</td>\n",
       "      <td>20,341.00</td>\n",
       "      <td>19,981.00</td>\n",
       "    </tr>\n",
       "    <tr>\n",
       "      <th>Exceptional Items</th>\n",
       "      <td>0.00</td>\n",
       "      <td>0.00</td>\n",
       "      <td>0.00</td>\n",
       "      <td>0.00</td>\n",
       "      <td>0.00</td>\n",
       "    </tr>\n",
       "    <tr>\n",
       "      <th>Profit/Loss Before Tax</th>\n",
       "      <td>26,628.00</td>\n",
       "      <td>22,007.00</td>\n",
       "      <td>21,041.00</td>\n",
       "      <td>20,341.00</td>\n",
       "      <td>19,981.00</td>\n",
       "    </tr>\n",
       "    <tr>\n",
       "      <th>Tax Expenses-Continued Operations</th>\n",
       "      <td></td>\n",
       "      <td></td>\n",
       "      <td></td>\n",
       "      <td></td>\n",
       "      <td></td>\n",
       "    </tr>\n",
       "    <tr>\n",
       "      <th>Current Tax</th>\n",
       "      <td>6,672.00</td>\n",
       "      <td>5,775.00</td>\n",
       "      <td>5,727.00</td>\n",
       "      <td>4,581.00</td>\n",
       "      <td>5,653.00</td>\n",
       "    </tr>\n",
       "    <tr>\n",
       "      <th>Less: MAT Credit Entitlement</th>\n",
       "      <td>0.00</td>\n",
       "      <td>0.00</td>\n",
       "      <td>0.00</td>\n",
       "      <td>0.00</td>\n",
       "      <td>0.00</td>\n",
       "    </tr>\n",
       "    <tr>\n",
       "      <th>Deferred Tax</th>\n",
       "      <td>533.00</td>\n",
       "      <td>-407.00</td>\n",
       "      <td>-96.00</td>\n",
       "      <td>-340.00</td>\n",
       "      <td>-55.00</td>\n",
       "    </tr>\n",
       "    <tr>\n",
       "      <th>Other Direct Taxes</th>\n",
       "      <td>0.00</td>\n",
       "      <td>0.00</td>\n",
       "      <td>0.00</td>\n",
       "      <td>0.00</td>\n",
       "      <td>0.00</td>\n",
       "    </tr>\n",
       "    <tr>\n",
       "      <th>Total Tax Expenses</th>\n",
       "      <td>7,205.00</td>\n",
       "      <td>5,368.00</td>\n",
       "      <td>5,631.00</td>\n",
       "      <td>4,241.00</td>\n",
       "      <td>5,598.00</td>\n",
       "    </tr>\n",
       "    <tr>\n",
       "      <th>Profit/Loss After Tax And Before ExtraOrdinary Items</th>\n",
       "      <td>19,423.00</td>\n",
       "      <td>16,639.00</td>\n",
       "      <td>15,410.00</td>\n",
       "      <td>16,100.00</td>\n",
       "      <td>14,383.00</td>\n",
       "    </tr>\n",
       "    <tr>\n",
       "      <th>Profit/Loss From Continuing Operations</th>\n",
       "      <td>19,423.00</td>\n",
       "      <td>16,639.00</td>\n",
       "      <td>15,410.00</td>\n",
       "      <td>16,100.00</td>\n",
       "      <td>14,383.00</td>\n",
       "    </tr>\n",
       "    <tr>\n",
       "      <th>Profit/Loss For The Period</th>\n",
       "      <td>19,423.00</td>\n",
       "      <td>16,639.00</td>\n",
       "      <td>15,410.00</td>\n",
       "      <td>16,100.00</td>\n",
       "      <td>14,383.00</td>\n",
       "    </tr>\n",
       "    <tr>\n",
       "      <th>Minority Interest</th>\n",
       "      <td>-72.00</td>\n",
       "      <td>-45.00</td>\n",
       "      <td>-6.00</td>\n",
       "      <td>0.00</td>\n",
       "      <td>0.00</td>\n",
       "    </tr>\n",
       "    <tr>\n",
       "      <th>Consolidated Profit/Loss After MI And Associates</th>\n",
       "      <td>19,351.00</td>\n",
       "      <td>16,594.00</td>\n",
       "      <td>15,404.00</td>\n",
       "      <td>16,029.00</td>\n",
       "      <td>14,353.00</td>\n",
       "    </tr>\n",
       "    <tr>\n",
       "      <th>OTHER ADDITIONAL INFORMATION</th>\n",
       "      <td></td>\n",
       "      <td></td>\n",
       "      <td></td>\n",
       "      <td></td>\n",
       "      <td></td>\n",
       "    </tr>\n",
       "    <tr>\n",
       "      <th>EARNINGS PER SHARE</th>\n",
       "      <td></td>\n",
       "      <td></td>\n",
       "      <td></td>\n",
       "      <td></td>\n",
       "      <td></td>\n",
       "    </tr>\n",
       "    <tr>\n",
       "      <th>Basic EPS (Rs.)</th>\n",
       "      <td>46.00</td>\n",
       "      <td>39.00</td>\n",
       "      <td>35.00</td>\n",
       "      <td>71.00</td>\n",
       "      <td>63.00</td>\n",
       "    </tr>\n",
       "    <tr>\n",
       "      <th>Diluted EPS (Rs.)</th>\n",
       "      <td>46.00</td>\n",
       "      <td>39.00</td>\n",
       "      <td>35.00</td>\n",
       "      <td>71.00</td>\n",
       "      <td>63.00</td>\n",
       "    </tr>\n",
       "    <tr>\n",
       "      <th>DIVIDEND AND DIVIDEND PERCENTAGE</th>\n",
       "      <td></td>\n",
       "      <td></td>\n",
       "      <td></td>\n",
       "      <td></td>\n",
       "      <td></td>\n",
       "    </tr>\n",
       "    <tr>\n",
       "      <th>Equity Share Dividend</th>\n",
       "      <td>9,120.00</td>\n",
       "      <td>9,517.00</td>\n",
       "      <td>13,712.00</td>\n",
       "      <td>7,469.00</td>\n",
       "      <td>6,952.00</td>\n",
       "    </tr>\n",
       "    <tr>\n",
       "      <th>Tax On Dividend</th>\n",
       "      <td>0.00</td>\n",
       "      <td>0.00</td>\n",
       "      <td>0.00</td>\n",
       "      <td>0.00</td>\n",
       "      <td>0.00</td>\n",
       "    </tr>\n",
       "  </tbody>\n",
       "</table>\n",
       "</div>"
      ],
      "text/plain": [
       "Profit & Loss account of Infosys (in Rs. Cr.)           Mar 21     Mar 20  \\\n",
       "                                                       12 mths    12 mths   \n",
       "INCOME                                                                      \n",
       "Revenue From Operations [Gross]                     100,472.00  90,791.00   \n",
       "Less: Excise/Sevice Tax/Other Levies                      0.00       0.00   \n",
       "Revenue From Operations [Net]                       100,472.00  90,791.00   \n",
       "Total Operating Revenues                            100,472.00  90,791.00   \n",
       "Other Income                                          2,201.00   2,803.00   \n",
       "Total Revenue                                       102,673.00  93,594.00   \n",
       "EXPENSES                                                                    \n",
       "Cost Of Materials Consumed                                0.00       0.00   \n",
       "Operating And Direct Expenses                        13,756.00  13,981.00   \n",
       "Employee Benefit Expenses                            55,541.00  50,887.00   \n",
       "Finance Costs                                           195.00     170.00   \n",
       "Depreciation And Amortisation Expenses                3,267.00   2,893.00   \n",
       "Other Expenses                                        3,286.00   3,656.00   \n",
       "Total Expenses                                       76,045.00  71,587.00   \n",
       "Profit/Loss Before Exceptional, ExtraOrdinary I...   26,628.00  22,007.00   \n",
       "Exceptional Items                                         0.00       0.00   \n",
       "Profit/Loss Before Tax                               26,628.00  22,007.00   \n",
       "Tax Expenses-Continued Operations                                           \n",
       "Current Tax                                           6,672.00   5,775.00   \n",
       "Less: MAT Credit Entitlement                              0.00       0.00   \n",
       "Deferred Tax                                            533.00    -407.00   \n",
       "Other Direct Taxes                                        0.00       0.00   \n",
       "Total Tax Expenses                                    7,205.00   5,368.00   \n",
       "Profit/Loss After Tax And Before ExtraOrdinary ...   19,423.00  16,639.00   \n",
       "Profit/Loss From Continuing Operations               19,423.00  16,639.00   \n",
       "Profit/Loss For The Period                           19,423.00  16,639.00   \n",
       "Minority Interest                                       -72.00     -45.00   \n",
       "Consolidated Profit/Loss After MI And Associates     19,351.00  16,594.00   \n",
       "OTHER ADDITIONAL INFORMATION                                                \n",
       "EARNINGS PER SHARE                                                          \n",
       "Basic EPS (Rs.)                                          46.00      39.00   \n",
       "Diluted EPS (Rs.)                                        46.00      39.00   \n",
       "DIVIDEND AND DIVIDEND PERCENTAGE                                            \n",
       "Equity Share Dividend                                 9,120.00   9,517.00   \n",
       "Tax On Dividend                                           0.00       0.00   \n",
       "\n",
       "Profit & Loss account of Infosys (in Rs. Cr.)          Mar 19     Mar 18  \\\n",
       "                                                      12 mths    12 mths   \n",
       "INCOME                                                                     \n",
       "Revenue From Operations [Gross]                     82,675.00  70,522.00   \n",
       "Less: Excise/Sevice Tax/Other Levies                     0.00       0.00   \n",
       "Revenue From Operations [Net]                       82,675.00  70,522.00   \n",
       "Total Operating Revenues                            82,675.00  70,522.00   \n",
       "Other Income                                         2,882.00   3,193.00   \n",
       "Total Revenue                                       85,557.00  73,715.00   \n",
       "EXPENSES                                                                   \n",
       "Cost Of Materials Consumed                               0.00       0.00   \n",
       "Operating And Direct Expenses                       12,814.00   6,167.00   \n",
       "Employee Benefit Expenses                           45,315.00  38,893.00   \n",
       "Finance Costs                                            0.00       0.00   \n",
       "Depreciation And Amortisation Expenses               2,011.00   1,863.00   \n",
       "Other Expenses                                       4,376.00   6,451.00   \n",
       "Total Expenses                                      64,516.00  53,374.00   \n",
       "Profit/Loss Before Exceptional, ExtraOrdinary I...  21,041.00  20,341.00   \n",
       "Exceptional Items                                        0.00       0.00   \n",
       "Profit/Loss Before Tax                              21,041.00  20,341.00   \n",
       "Tax Expenses-Continued Operations                                          \n",
       "Current Tax                                          5,727.00   4,581.00   \n",
       "Less: MAT Credit Entitlement                             0.00       0.00   \n",
       "Deferred Tax                                           -96.00    -340.00   \n",
       "Other Direct Taxes                                       0.00       0.00   \n",
       "Total Tax Expenses                                   5,631.00   4,241.00   \n",
       "Profit/Loss After Tax And Before ExtraOrdinary ...  15,410.00  16,100.00   \n",
       "Profit/Loss From Continuing Operations              15,410.00  16,100.00   \n",
       "Profit/Loss For The Period                          15,410.00  16,100.00   \n",
       "Minority Interest                                       -6.00       0.00   \n",
       "Consolidated Profit/Loss After MI And Associates    15,404.00  16,029.00   \n",
       "OTHER ADDITIONAL INFORMATION                                               \n",
       "EARNINGS PER SHARE                                                         \n",
       "Basic EPS (Rs.)                                         35.00      71.00   \n",
       "Diluted EPS (Rs.)                                       35.00      71.00   \n",
       "DIVIDEND AND DIVIDEND PERCENTAGE                                           \n",
       "Equity Share Dividend                               13,712.00   7,469.00   \n",
       "Tax On Dividend                                          0.00       0.00   \n",
       "\n",
       "Profit & Loss account of Infosys (in Rs. Cr.)          Mar 17  \n",
       "                                                      12 mths  \n",
       "INCOME                                                         \n",
       "Revenue From Operations [Gross]                     68,484.00  \n",
       "Less: Excise/Sevice Tax/Other Levies                     0.00  \n",
       "Revenue From Operations [Net]                       68,484.00  \n",
       "Total Operating Revenues                            68,484.00  \n",
       "Other Income                                         3,080.00  \n",
       "Total Revenue                                       71,564.00  \n",
       "EXPENSES                                                       \n",
       "Cost Of Materials Consumed                               0.00  \n",
       "Operating And Direct Expenses                        5,430.00  \n",
       "Employee Benefit Expenses                           37,659.00  \n",
       "Finance Costs                                            0.00  \n",
       "Depreciation And Amortisation Expenses               1,703.00  \n",
       "Other Expenses                                       6,791.00  \n",
       "Total Expenses                                      51,583.00  \n",
       "Profit/Loss Before Exceptional, ExtraOrdinary I...  19,981.00  \n",
       "Exceptional Items                                        0.00  \n",
       "Profit/Loss Before Tax                              19,981.00  \n",
       "Tax Expenses-Continued Operations                              \n",
       "Current Tax                                          5,653.00  \n",
       "Less: MAT Credit Entitlement                             0.00  \n",
       "Deferred Tax                                           -55.00  \n",
       "Other Direct Taxes                                       0.00  \n",
       "Total Tax Expenses                                   5,598.00  \n",
       "Profit/Loss After Tax And Before ExtraOrdinary ...  14,383.00  \n",
       "Profit/Loss From Continuing Operations              14,383.00  \n",
       "Profit/Loss For The Period                          14,383.00  \n",
       "Minority Interest                                        0.00  \n",
       "Consolidated Profit/Loss After MI And Associates    14,353.00  \n",
       "OTHER ADDITIONAL INFORMATION                                   \n",
       "EARNINGS PER SHARE                                             \n",
       "Basic EPS (Rs.)                                         63.00  \n",
       "Diluted EPS (Rs.)                                       63.00  \n",
       "DIVIDEND AND DIVIDEND PERCENTAGE                               \n",
       "Equity Share Dividend                                6,952.00  \n",
       "Tax On Dividend                                          0.00  "
      ]
     },
     "execution_count": 6,
     "metadata": {},
     "output_type": "execute_result"
    }
   ],
   "source": [
    "df2"
   ]
  },
  {
   "cell_type": "markdown",
   "metadata": {},
   "source": [
    "## The Capital Asset Pricing Model (CAPM)\n",
    "I'm going to value Infosys by discounting its cash flows. In order to calculate the discount rate,  I'll use the CAPM. As per the CAPM, the expected rate of return for an asset can be written as :\n",
    "\n",
    "$$r = R_f + \\beta(Equity Risk Premium)$$\n",
    "\n",
    "Here, the R_f denotes the risk-free rate of interest. For the US (and any other market which is mature), I have assumed the risk-free rate to be the 10-year T Bill rate. The $\\beta$ is the measure of the volatility or the risk. By definition, it is the ratio of the covariance of the company's returns and the market returns (Nifty50 in this case), to the variance of the returns of the market. The equity risk premium is estimated by subtracting the expected return on bonds from the expected return of the equity market. This sheet (updated Jan 2021) consists of ERP data for most countries. "
   ]
  },
  {
   "cell_type": "code",
   "execution_count": 7,
   "metadata": {},
   "outputs": [],
   "source": [
    "erpdata2021 = pd.read_excel('ctryprem.xlsx',sheet_name=6)\n",
    "erpdata2021.set_index('Country',inplace=True)"
   ]
  },
  {
   "cell_type": "code",
   "execution_count": 8,
   "metadata": {},
   "outputs": [
    {
     "data": {
      "text/plain": [
       "GDP (in billions) in 2019      2875.1\n",
       "Moody's rating                   Baa3\n",
       "Sovereign CDS                  0.0124\n",
       "Adj. Default Spread          0.019453\n",
       "Equity Risk Premium          0.068519\n",
       "Country Risk Premium         0.021319\n",
       "Corporate Tax Rate                0.3\n",
       "Region                           Asia\n",
       "Name: India, dtype: object"
      ]
     },
     "execution_count": 8,
     "metadata": {},
     "output_type": "execute_result"
    }
   ],
   "source": [
    "erpdata2021.loc['India',:]"
   ]
  },
  {
   "cell_type": "markdown",
   "metadata": {},
   "source": [
    "The 2 dataframes below consist of the data for Indian companies and the $\\beta$ value for each sector. "
   ]
  },
  {
   "cell_type": "code",
   "execution_count": 9,
   "metadata": {},
   "outputs": [
    {
     "data": {
      "text/html": [
       "<div>\n",
       "<style scoped>\n",
       "    .dataframe tbody tr th:only-of-type {\n",
       "        vertical-align: middle;\n",
       "    }\n",
       "\n",
       "    .dataframe tbody tr th {\n",
       "        vertical-align: top;\n",
       "    }\n",
       "\n",
       "    .dataframe thead th {\n",
       "        text-align: right;\n",
       "    }\n",
       "</style>\n",
       "<table border=\"1\" class=\"dataframe\">\n",
       "  <thead>\n",
       "    <tr style=\"text-align: right;\">\n",
       "      <th></th>\n",
       "      <th>Company Name</th>\n",
       "      <th>Exchange:Ticker</th>\n",
       "      <th>Industry Group</th>\n",
       "      <th>Country</th>\n",
       "      <th>Broad Group</th>\n",
       "      <th>Sub Group</th>\n",
       "    </tr>\n",
       "  </thead>\n",
       "  <tbody>\n",
       "    <tr>\n",
       "      <th>3684</th>\n",
       "      <td>Deepak Nitrite Limited (BSE:506401)</td>\n",
       "      <td>BSE:506401</td>\n",
       "      <td>Chemical (Basic)</td>\n",
       "      <td>India</td>\n",
       "      <td>Emerging Markets</td>\n",
       "      <td>India</td>\n",
       "    </tr>\n",
       "  </tbody>\n",
       "</table>\n",
       "</div>"
      ],
      "text/plain": [
       "                             Company Name Exchange:Ticker    Industry Group  \\\n",
       "3684  Deepak Nitrite Limited (BSE:506401)      BSE:506401  Chemical (Basic)   \n",
       "\n",
       "     Country       Broad Group Sub Group  \n",
       "3684   India  Emerging Markets     India  "
      ]
     },
     "execution_count": 9,
     "metadata": {},
     "output_type": "execute_result"
    }
   ],
   "source": [
    "companies2021 = pd.read_excel('indname.xls',sheet_name=3)\n",
    "companies2021[companies2021['Company Name'].str.match('(^Deepak Nitrite.*)')==True]"
   ]
  },
  {
   "cell_type": "code",
   "execution_count": 10,
   "metadata": {},
   "outputs": [],
   "source": [
    "betas2021 = pd.read_excel('totalbetaIndia.xls',skiprows=6)\n",
    "betas2021.columns = betas2021.iloc[0,:]\n",
    "betas2021 = betas2021.drop(0)\n",
    "betas2021.set_index('Industry Name',inplace=True)"
   ]
  },
  {
   "cell_type": "code",
   "execution_count": 11,
   "metadata": {},
   "outputs": [
    {
     "data": {
      "text/plain": [
       "0\n",
       "Number of firms                             130\n",
       "Average Unlevered Beta                  1.03998\n",
       "Average Levered Beta                    1.11706\n",
       "Average correlation with the market    0.247883\n",
       "Total Unlevered Beta                    4.19544\n",
       "Total Levered Beta                      4.50639\n",
       "Name: Chemical (Basic), dtype: object"
      ]
     },
     "execution_count": 11,
     "metadata": {},
     "output_type": "execute_result"
    }
   ],
   "source": [
    "betas2021.loc['Chemical (Basic)',:]"
   ]
  },
  {
   "cell_type": "markdown",
   "metadata": {},
   "source": [
    "The class below does most of the heavy lifting. It takes in the company data as well as the 3 dataframes above in order to estimate various important inputs that will be needed for valuation. Depending on the company, I'll decide whether to use dividends, free cash flows to equity or free cash flows to the firm. "
   ]
  },
  {
   "cell_type": "code",
   "execution_count": 12,
   "metadata": {},
   "outputs": [],
   "source": [
    "class valuer:\n",
    "    def __init__(self,beta_df,comp_df,erp_df,comp,ratios,pnl,balance,capex,shares,risk_free_rate=0.0429,dcf_type='firm'):\n",
    "        self.beta_df = beta_df\n",
    "        self.comp_df = comp_df\n",
    "        self.erp_df = erp_df\n",
    "        self.comp = comp\n",
    "        self.ratios = ratios\n",
    "        self.pnl = pnl\n",
    "        self.balance = balance\n",
    "        self.capex = capex\n",
    "        self.risk_free_rate = risk_free_rate\n",
    "        self.dcf_type = dcf_type\n",
    "        self.shares = shares\n",
    "        \n",
    "    def t(self):\n",
    "        return self.erp_df.loc['India','Corporate Tax Rate']\n",
    "    \n",
    "    def change_wc(self):\n",
    "        wc_pres=self.balance.loc['Total Current Assets','Mar 21'] - self.balance.loc['Total Current Liabilities','Mar 21']\n",
    "        wc_past=self.balance.loc['Total Current Assets','Mar 20'] - self.balance.loc['Total Current Liabilities','Mar 20']\n",
    "        return (wc_pres - wc_past)\n",
    "    \n",
    "    def DE(self):\n",
    "        return float(self.ratios.loc['Total Debt/Equity (X)','Mar 21'])\n",
    "    \n",
    "    def DR(self):\n",
    "        de = float(self.ratios.loc['Total Debt/Equity (X)','Mar 21'])\n",
    "        return de/(1+de)\n",
    "    \n",
    "    def dep(self):\n",
    "        return float(self.pnl.loc['Depreciation And Amortisation Expenses','Mar 21'].replace(',',''))\n",
    "    \n",
    "    def net_capex(self):\n",
    "        return self.capex - float(self.pnl.loc['Depreciation And Amortisation Expenses','Mar 21'].replace(',',''))\n",
    "    \n",
    "    def EBIT(self):\n",
    "        try:\n",
    "            pbt = float(self.pnl.loc['Profit/Loss Before Tax','Mar 21'].replace(',',''))\n",
    "            ie = float(self.pnl.loc['Finance Costs','Mar 21'].replace(',',''))\n",
    "            return pbt+ie\n",
    "        except KeyError:\n",
    "            pbt = float(self.pnl.loc['Net Profit / Loss for The Year'].replace(',',''))\n",
    "            ie = float(self.pnl.loc['Finance Costs','Mar 21'].replace(',',''))\n",
    "            return pbt+ie\n",
    "    \n",
    "    def FCFF(self):\n",
    "        return self.EBIT()*(1-self.t()) - self.net_capex() - self.dep()\n",
    "    \n",
    "    def reinvestment(self):\n",
    "        if self.dcf_type=='firm':\n",
    "            return (self.net_capex() + self.dep())/(self.EBIT()*(1-self.t()))\n",
    "        elif self.dcf_type=='equity':\n",
    "            ni = float(self.pnl.loc['Profit/Loss For The Period','Mar 21'].replace(',',''))\n",
    "            return (1-self.DR())*(self.net_capex()+self.change_wc())/ni\n",
    "    \n",
    "    def rev_growth(self):\n",
    "        rev_recent = float(self.pnl.loc['Depreciation And Amortisation Expenses','Mar 21'].replace(',',''))\n",
    "        rev_past = float(self.pnl.loc['Depreciation And Amortisation Expenses','Mar 17'].replace(',',''))\n",
    "        return (rev_recent/rev_past)**0.25 - 1\n",
    "    \n",
    "    def FCFE(self):\n",
    "        ni = float(self.pnl.loc['Profit/Loss For The Period','Mar 21'].replace(',',''))\n",
    "        return ni - (1-self.DR())*(self.net_capex()+self.change_wc())\n",
    "    \n",
    "    def crp(self):\n",
    "        return self.erp_df.loc['India','Country Risk Premium'] \n",
    "    \n",
    "    def erp(self):\n",
    "        return self.erp_df.loc['India','Equity Risk Premium'] \n",
    "    \n",
    "    def mature_market_prem(self):\n",
    "        return self.erp_df.loc['United States','Equity Risk Premium']\n",
    "    \n",
    "    def sector(self):\n",
    "        s1 = self.comp_df[self.comp_df['Company Name'].str.match(f'(^{self.comp}.*)')==True]\n",
    "        a = s1['Industry Group']\n",
    "        return a.iloc[0]\n",
    "    \n",
    "    def industry_beta_unlevered(self):\n",
    "        b = self.beta_df.loc[self.sector(),'Average Unlevered Beta']\n",
    "        return b\n",
    "        \n",
    "    def beta(self):\n",
    "        b = self.industry_beta_unlevered()*(1+(1-self.t())*self.DE())\n",
    "        return b\n",
    "    \n",
    "    def r_equity(self,model='capm',l=1):\n",
    "        if model=='capm':\n",
    "            return self.risk_free_rate + self.beta()*self.erp()\n",
    "        elif model == 'modified capm':\n",
    "            return self.risk_free_rate + self.crp() + self.beta()*self.mature_market_prem()\n",
    "        elif model == 'lambda':\n",
    "            return self.risk_free_rate + l*self.crp() + self.beta()*self.mature_market_prem()\n",
    "    \n",
    "    def r_debt(self):\n",
    "        spread = self.erp_df.loc['India','Adj. Default Spread']\n",
    "        return (self.risk_free_rate + spread)*(1-self.t())    \n",
    "    \n",
    "    def r(self):\n",
    "        if self.dcf_type=='firm':\n",
    "            d = self.DR()\n",
    "            e = 1 - d\n",
    "            return e*self.r_equity() + d*self.r_debt()\n",
    "        elif self.dcf_type in ['equity','dividend']:\n",
    "            return self.r_equity()\n",
    "        \n",
    "    def roe(self):\n",
    "        return (self.ratios.loc['Return on Networth/Equity (%)',:].astype(float)).mean()/100\n",
    "    \n",
    "    def roc(self):\n",
    "        return (self.ratios.loc['Return on Capital Employed (%)',:].astype(float)).mean()/100\n",
    "    \n",
    "    def avg_sector_DE(self):\n",
    "        b_unlevered = self.beta_df.loc[self.sector(),'Average Unlevered Beta']\n",
    "        b_levered = self.beta_df.loc[self.sector(),'Average Levered Beta']\n",
    "        return ((b_levered/b_unlevered) - 1)/(1-self.t())\n",
    "    \n",
    "    def r_stable(self,model='capm',l=1):\n",
    "        b = self.beta_df.loc[self.sector(),'Average Levered Beta']\n",
    "        m = model\n",
    "        if m == 'capm':\n",
    "            r_eq = self.risk_free_rate + b*self.erp()\n",
    "        elif m == 'modified capm':\n",
    "            r_eq = self.risk_free_rate + self.crp() + b*self.mature_market_prem()\n",
    "        elif m == 'lambda':\n",
    "            r_eq = self.risk_free_rate + l*self.crp() + b*self.mature_market_prem()\n",
    "            \n",
    "        d = self.avg_sector_DE()/(1+self.avg_sector_DE())\n",
    "        e = 1 - d\n",
    "        if self.dcf_type=='firm':\n",
    "            return d*self.r_debt() + e*r_eq\n",
    "        elif self.dcf_type in ['equity','dividend']:\n",
    "            return r_eq\n",
    "        \n",
    "    def stock_value(self,time=5):\n",
    "        if self.dcf_type=='firm':\n",
    "            g = self.reinvestment()*self.roc()\n",
    "            g_stable = round(100*self.risk_free_rate)/100\n",
    "            s = 0\n",
    "            for i in range(1,1+time):\n",
    "                s += self.FCFF()*((1+g)/(1+self.r()))**i\n",
    "            terminal_val = (1+g_stable)*self.FCFF()*((1+g)/(1+self.r()))**5\n",
    "            terminal_val = terminal_val/(self.r_stable() - g_stable)\n",
    "            return (terminal_val + s)*(10**7)/self.shares\n",
    "    \n",
    "    def growth_ni(self):\n",
    "        ni_series = self.pnl.loc['Profit/Loss For The Period',:].apply(lambda s : float(s.replace(',','')))\n",
    "        return (ni_series[0]/ni_series[-1])**0.25 - 1"
   ]
  },
  {
   "cell_type": "markdown",
   "metadata": {},
   "source": [
    "## Infosys"
   ]
  },
  {
   "cell_type": "code",
   "execution_count": 38,
   "metadata": {},
   "outputs": [],
   "source": [
    "infy_data = valuer(betas2021,companies2021,erpdata2021,'Infosys',df1,df2,df3,2107,dcf_type='firm',shares=551682338*100/12.95)"
   ]
  },
  {
   "cell_type": "code",
   "execution_count": 39,
   "metadata": {},
   "outputs": [
    {
     "data": {
      "text/html": [
       "<div>\n",
       "<style scoped>\n",
       "    .dataframe tbody tr th:only-of-type {\n",
       "        vertical-align: middle;\n",
       "    }\n",
       "\n",
       "    .dataframe tbody tr th {\n",
       "        vertical-align: top;\n",
       "    }\n",
       "\n",
       "    .dataframe thead th {\n",
       "        text-align: right;\n",
       "    }\n",
       "</style>\n",
       "<table border=\"1\" class=\"dataframe\">\n",
       "  <thead>\n",
       "    <tr style=\"text-align: right;\">\n",
       "      <th>Profit &amp; Loss account of Infosys (in Rs. Cr.)</th>\n",
       "      <th>Mar 21</th>\n",
       "      <th>Mar 20</th>\n",
       "      <th>Mar 19</th>\n",
       "      <th>Mar 18</th>\n",
       "      <th>Mar 17</th>\n",
       "    </tr>\n",
       "  </thead>\n",
       "  <tbody>\n",
       "    <tr>\n",
       "      <th></th>\n",
       "      <td>12 mths</td>\n",
       "      <td>12 mths</td>\n",
       "      <td>12 mths</td>\n",
       "      <td>12 mths</td>\n",
       "      <td>12 mths</td>\n",
       "    </tr>\n",
       "    <tr>\n",
       "      <th>INCOME</th>\n",
       "      <td></td>\n",
       "      <td></td>\n",
       "      <td></td>\n",
       "      <td></td>\n",
       "      <td></td>\n",
       "    </tr>\n",
       "    <tr>\n",
       "      <th>Revenue From Operations [Gross]</th>\n",
       "      <td>100,472.00</td>\n",
       "      <td>90,791.00</td>\n",
       "      <td>82,675.00</td>\n",
       "      <td>70,522.00</td>\n",
       "      <td>68,484.00</td>\n",
       "    </tr>\n",
       "    <tr>\n",
       "      <th>Less: Excise/Sevice Tax/Other Levies</th>\n",
       "      <td>0.00</td>\n",
       "      <td>0.00</td>\n",
       "      <td>0.00</td>\n",
       "      <td>0.00</td>\n",
       "      <td>0.00</td>\n",
       "    </tr>\n",
       "    <tr>\n",
       "      <th>Revenue From Operations [Net]</th>\n",
       "      <td>100,472.00</td>\n",
       "      <td>90,791.00</td>\n",
       "      <td>82,675.00</td>\n",
       "      <td>70,522.00</td>\n",
       "      <td>68,484.00</td>\n",
       "    </tr>\n",
       "    <tr>\n",
       "      <th>Total Operating Revenues</th>\n",
       "      <td>100,472.00</td>\n",
       "      <td>90,791.00</td>\n",
       "      <td>82,675.00</td>\n",
       "      <td>70,522.00</td>\n",
       "      <td>68,484.00</td>\n",
       "    </tr>\n",
       "    <tr>\n",
       "      <th>Other Income</th>\n",
       "      <td>2,201.00</td>\n",
       "      <td>2,803.00</td>\n",
       "      <td>2,882.00</td>\n",
       "      <td>3,193.00</td>\n",
       "      <td>3,080.00</td>\n",
       "    </tr>\n",
       "    <tr>\n",
       "      <th>Total Revenue</th>\n",
       "      <td>102,673.00</td>\n",
       "      <td>93,594.00</td>\n",
       "      <td>85,557.00</td>\n",
       "      <td>73,715.00</td>\n",
       "      <td>71,564.00</td>\n",
       "    </tr>\n",
       "    <tr>\n",
       "      <th>EXPENSES</th>\n",
       "      <td></td>\n",
       "      <td></td>\n",
       "      <td></td>\n",
       "      <td></td>\n",
       "      <td></td>\n",
       "    </tr>\n",
       "    <tr>\n",
       "      <th>Cost Of Materials Consumed</th>\n",
       "      <td>0.00</td>\n",
       "      <td>0.00</td>\n",
       "      <td>0.00</td>\n",
       "      <td>0.00</td>\n",
       "      <td>0.00</td>\n",
       "    </tr>\n",
       "    <tr>\n",
       "      <th>Operating And Direct Expenses</th>\n",
       "      <td>13,756.00</td>\n",
       "      <td>13,981.00</td>\n",
       "      <td>12,814.00</td>\n",
       "      <td>6,167.00</td>\n",
       "      <td>5,430.00</td>\n",
       "    </tr>\n",
       "    <tr>\n",
       "      <th>Employee Benefit Expenses</th>\n",
       "      <td>55,541.00</td>\n",
       "      <td>50,887.00</td>\n",
       "      <td>45,315.00</td>\n",
       "      <td>38,893.00</td>\n",
       "      <td>37,659.00</td>\n",
       "    </tr>\n",
       "    <tr>\n",
       "      <th>Finance Costs</th>\n",
       "      <td>195.00</td>\n",
       "      <td>170.00</td>\n",
       "      <td>0.00</td>\n",
       "      <td>0.00</td>\n",
       "      <td>0.00</td>\n",
       "    </tr>\n",
       "    <tr>\n",
       "      <th>Depreciation And Amortisation Expenses</th>\n",
       "      <td>3,267.00</td>\n",
       "      <td>2,893.00</td>\n",
       "      <td>2,011.00</td>\n",
       "      <td>1,863.00</td>\n",
       "      <td>1,703.00</td>\n",
       "    </tr>\n",
       "    <tr>\n",
       "      <th>Other Expenses</th>\n",
       "      <td>3,286.00</td>\n",
       "      <td>3,656.00</td>\n",
       "      <td>4,376.00</td>\n",
       "      <td>6,451.00</td>\n",
       "      <td>6,791.00</td>\n",
       "    </tr>\n",
       "    <tr>\n",
       "      <th>Total Expenses</th>\n",
       "      <td>76,045.00</td>\n",
       "      <td>71,587.00</td>\n",
       "      <td>64,516.00</td>\n",
       "      <td>53,374.00</td>\n",
       "      <td>51,583.00</td>\n",
       "    </tr>\n",
       "    <tr>\n",
       "      <th>Profit/Loss Before Exceptional, ExtraOrdinary Items And Tax</th>\n",
       "      <td>26,628.00</td>\n",
       "      <td>22,007.00</td>\n",
       "      <td>21,041.00</td>\n",
       "      <td>20,341.00</td>\n",
       "      <td>19,981.00</td>\n",
       "    </tr>\n",
       "    <tr>\n",
       "      <th>Exceptional Items</th>\n",
       "      <td>0.00</td>\n",
       "      <td>0.00</td>\n",
       "      <td>0.00</td>\n",
       "      <td>0.00</td>\n",
       "      <td>0.00</td>\n",
       "    </tr>\n",
       "    <tr>\n",
       "      <th>Profit/Loss Before Tax</th>\n",
       "      <td>26,628.00</td>\n",
       "      <td>22,007.00</td>\n",
       "      <td>21,041.00</td>\n",
       "      <td>20,341.00</td>\n",
       "      <td>19,981.00</td>\n",
       "    </tr>\n",
       "    <tr>\n",
       "      <th>Tax Expenses-Continued Operations</th>\n",
       "      <td></td>\n",
       "      <td></td>\n",
       "      <td></td>\n",
       "      <td></td>\n",
       "      <td></td>\n",
       "    </tr>\n",
       "    <tr>\n",
       "      <th>Current Tax</th>\n",
       "      <td>6,672.00</td>\n",
       "      <td>5,775.00</td>\n",
       "      <td>5,727.00</td>\n",
       "      <td>4,581.00</td>\n",
       "      <td>5,653.00</td>\n",
       "    </tr>\n",
       "    <tr>\n",
       "      <th>Less: MAT Credit Entitlement</th>\n",
       "      <td>0.00</td>\n",
       "      <td>0.00</td>\n",
       "      <td>0.00</td>\n",
       "      <td>0.00</td>\n",
       "      <td>0.00</td>\n",
       "    </tr>\n",
       "    <tr>\n",
       "      <th>Deferred Tax</th>\n",
       "      <td>533.00</td>\n",
       "      <td>-407.00</td>\n",
       "      <td>-96.00</td>\n",
       "      <td>-340.00</td>\n",
       "      <td>-55.00</td>\n",
       "    </tr>\n",
       "    <tr>\n",
       "      <th>Other Direct Taxes</th>\n",
       "      <td>0.00</td>\n",
       "      <td>0.00</td>\n",
       "      <td>0.00</td>\n",
       "      <td>0.00</td>\n",
       "      <td>0.00</td>\n",
       "    </tr>\n",
       "    <tr>\n",
       "      <th>Total Tax Expenses</th>\n",
       "      <td>7,205.00</td>\n",
       "      <td>5,368.00</td>\n",
       "      <td>5,631.00</td>\n",
       "      <td>4,241.00</td>\n",
       "      <td>5,598.00</td>\n",
       "    </tr>\n",
       "    <tr>\n",
       "      <th>Profit/Loss After Tax And Before ExtraOrdinary Items</th>\n",
       "      <td>19,423.00</td>\n",
       "      <td>16,639.00</td>\n",
       "      <td>15,410.00</td>\n",
       "      <td>16,100.00</td>\n",
       "      <td>14,383.00</td>\n",
       "    </tr>\n",
       "    <tr>\n",
       "      <th>Profit/Loss From Continuing Operations</th>\n",
       "      <td>19,423.00</td>\n",
       "      <td>16,639.00</td>\n",
       "      <td>15,410.00</td>\n",
       "      <td>16,100.00</td>\n",
       "      <td>14,383.00</td>\n",
       "    </tr>\n",
       "    <tr>\n",
       "      <th>Profit/Loss For The Period</th>\n",
       "      <td>19,423.00</td>\n",
       "      <td>16,639.00</td>\n",
       "      <td>15,410.00</td>\n",
       "      <td>16,100.00</td>\n",
       "      <td>14,383.00</td>\n",
       "    </tr>\n",
       "    <tr>\n",
       "      <th>Minority Interest</th>\n",
       "      <td>-72.00</td>\n",
       "      <td>-45.00</td>\n",
       "      <td>-6.00</td>\n",
       "      <td>0.00</td>\n",
       "      <td>0.00</td>\n",
       "    </tr>\n",
       "    <tr>\n",
       "      <th>Consolidated Profit/Loss After MI And Associates</th>\n",
       "      <td>19,351.00</td>\n",
       "      <td>16,594.00</td>\n",
       "      <td>15,404.00</td>\n",
       "      <td>16,029.00</td>\n",
       "      <td>14,353.00</td>\n",
       "    </tr>\n",
       "    <tr>\n",
       "      <th>OTHER ADDITIONAL INFORMATION</th>\n",
       "      <td></td>\n",
       "      <td></td>\n",
       "      <td></td>\n",
       "      <td></td>\n",
       "      <td></td>\n",
       "    </tr>\n",
       "    <tr>\n",
       "      <th>EARNINGS PER SHARE</th>\n",
       "      <td></td>\n",
       "      <td></td>\n",
       "      <td></td>\n",
       "      <td></td>\n",
       "      <td></td>\n",
       "    </tr>\n",
       "    <tr>\n",
       "      <th>Basic EPS (Rs.)</th>\n",
       "      <td>46.00</td>\n",
       "      <td>39.00</td>\n",
       "      <td>35.00</td>\n",
       "      <td>71.00</td>\n",
       "      <td>63.00</td>\n",
       "    </tr>\n",
       "    <tr>\n",
       "      <th>Diluted EPS (Rs.)</th>\n",
       "      <td>46.00</td>\n",
       "      <td>39.00</td>\n",
       "      <td>35.00</td>\n",
       "      <td>71.00</td>\n",
       "      <td>63.00</td>\n",
       "    </tr>\n",
       "    <tr>\n",
       "      <th>DIVIDEND AND DIVIDEND PERCENTAGE</th>\n",
       "      <td></td>\n",
       "      <td></td>\n",
       "      <td></td>\n",
       "      <td></td>\n",
       "      <td></td>\n",
       "    </tr>\n",
       "    <tr>\n",
       "      <th>Equity Share Dividend</th>\n",
       "      <td>9,120.00</td>\n",
       "      <td>9,517.00</td>\n",
       "      <td>13,712.00</td>\n",
       "      <td>7,469.00</td>\n",
       "      <td>6,952.00</td>\n",
       "    </tr>\n",
       "    <tr>\n",
       "      <th>Tax On Dividend</th>\n",
       "      <td>0.00</td>\n",
       "      <td>0.00</td>\n",
       "      <td>0.00</td>\n",
       "      <td>0.00</td>\n",
       "      <td>0.00</td>\n",
       "    </tr>\n",
       "  </tbody>\n",
       "</table>\n",
       "</div>"
      ],
      "text/plain": [
       "Profit & Loss account of Infosys (in Rs. Cr.)           Mar 21     Mar 20  \\\n",
       "                                                       12 mths    12 mths   \n",
       "INCOME                                                                      \n",
       "Revenue From Operations [Gross]                     100,472.00  90,791.00   \n",
       "Less: Excise/Sevice Tax/Other Levies                      0.00       0.00   \n",
       "Revenue From Operations [Net]                       100,472.00  90,791.00   \n",
       "Total Operating Revenues                            100,472.00  90,791.00   \n",
       "Other Income                                          2,201.00   2,803.00   \n",
       "Total Revenue                                       102,673.00  93,594.00   \n",
       "EXPENSES                                                                    \n",
       "Cost Of Materials Consumed                                0.00       0.00   \n",
       "Operating And Direct Expenses                        13,756.00  13,981.00   \n",
       "Employee Benefit Expenses                            55,541.00  50,887.00   \n",
       "Finance Costs                                           195.00     170.00   \n",
       "Depreciation And Amortisation Expenses                3,267.00   2,893.00   \n",
       "Other Expenses                                        3,286.00   3,656.00   \n",
       "Total Expenses                                       76,045.00  71,587.00   \n",
       "Profit/Loss Before Exceptional, ExtraOrdinary I...   26,628.00  22,007.00   \n",
       "Exceptional Items                                         0.00       0.00   \n",
       "Profit/Loss Before Tax                               26,628.00  22,007.00   \n",
       "Tax Expenses-Continued Operations                                           \n",
       "Current Tax                                           6,672.00   5,775.00   \n",
       "Less: MAT Credit Entitlement                              0.00       0.00   \n",
       "Deferred Tax                                            533.00    -407.00   \n",
       "Other Direct Taxes                                        0.00       0.00   \n",
       "Total Tax Expenses                                    7,205.00   5,368.00   \n",
       "Profit/Loss After Tax And Before ExtraOrdinary ...   19,423.00  16,639.00   \n",
       "Profit/Loss From Continuing Operations               19,423.00  16,639.00   \n",
       "Profit/Loss For The Period                           19,423.00  16,639.00   \n",
       "Minority Interest                                       -72.00     -45.00   \n",
       "Consolidated Profit/Loss After MI And Associates     19,351.00  16,594.00   \n",
       "OTHER ADDITIONAL INFORMATION                                                \n",
       "EARNINGS PER SHARE                                                          \n",
       "Basic EPS (Rs.)                                          46.00      39.00   \n",
       "Diluted EPS (Rs.)                                        46.00      39.00   \n",
       "DIVIDEND AND DIVIDEND PERCENTAGE                                            \n",
       "Equity Share Dividend                                 9,120.00   9,517.00   \n",
       "Tax On Dividend                                           0.00       0.00   \n",
       "\n",
       "Profit & Loss account of Infosys (in Rs. Cr.)          Mar 19     Mar 18  \\\n",
       "                                                      12 mths    12 mths   \n",
       "INCOME                                                                     \n",
       "Revenue From Operations [Gross]                     82,675.00  70,522.00   \n",
       "Less: Excise/Sevice Tax/Other Levies                     0.00       0.00   \n",
       "Revenue From Operations [Net]                       82,675.00  70,522.00   \n",
       "Total Operating Revenues                            82,675.00  70,522.00   \n",
       "Other Income                                         2,882.00   3,193.00   \n",
       "Total Revenue                                       85,557.00  73,715.00   \n",
       "EXPENSES                                                                   \n",
       "Cost Of Materials Consumed                               0.00       0.00   \n",
       "Operating And Direct Expenses                       12,814.00   6,167.00   \n",
       "Employee Benefit Expenses                           45,315.00  38,893.00   \n",
       "Finance Costs                                            0.00       0.00   \n",
       "Depreciation And Amortisation Expenses               2,011.00   1,863.00   \n",
       "Other Expenses                                       4,376.00   6,451.00   \n",
       "Total Expenses                                      64,516.00  53,374.00   \n",
       "Profit/Loss Before Exceptional, ExtraOrdinary I...  21,041.00  20,341.00   \n",
       "Exceptional Items                                        0.00       0.00   \n",
       "Profit/Loss Before Tax                              21,041.00  20,341.00   \n",
       "Tax Expenses-Continued Operations                                          \n",
       "Current Tax                                          5,727.00   4,581.00   \n",
       "Less: MAT Credit Entitlement                             0.00       0.00   \n",
       "Deferred Tax                                           -96.00    -340.00   \n",
       "Other Direct Taxes                                       0.00       0.00   \n",
       "Total Tax Expenses                                   5,631.00   4,241.00   \n",
       "Profit/Loss After Tax And Before ExtraOrdinary ...  15,410.00  16,100.00   \n",
       "Profit/Loss From Continuing Operations              15,410.00  16,100.00   \n",
       "Profit/Loss For The Period                          15,410.00  16,100.00   \n",
       "Minority Interest                                       -6.00       0.00   \n",
       "Consolidated Profit/Loss After MI And Associates    15,404.00  16,029.00   \n",
       "OTHER ADDITIONAL INFORMATION                                               \n",
       "EARNINGS PER SHARE                                                         \n",
       "Basic EPS (Rs.)                                         35.00      71.00   \n",
       "Diluted EPS (Rs.)                                       35.00      71.00   \n",
       "DIVIDEND AND DIVIDEND PERCENTAGE                                           \n",
       "Equity Share Dividend                               13,712.00   7,469.00   \n",
       "Tax On Dividend                                          0.00       0.00   \n",
       "\n",
       "Profit & Loss account of Infosys (in Rs. Cr.)          Mar 17  \n",
       "                                                      12 mths  \n",
       "INCOME                                                         \n",
       "Revenue From Operations [Gross]                     68,484.00  \n",
       "Less: Excise/Sevice Tax/Other Levies                     0.00  \n",
       "Revenue From Operations [Net]                       68,484.00  \n",
       "Total Operating Revenues                            68,484.00  \n",
       "Other Income                                         3,080.00  \n",
       "Total Revenue                                       71,564.00  \n",
       "EXPENSES                                                       \n",
       "Cost Of Materials Consumed                               0.00  \n",
       "Operating And Direct Expenses                        5,430.00  \n",
       "Employee Benefit Expenses                           37,659.00  \n",
       "Finance Costs                                            0.00  \n",
       "Depreciation And Amortisation Expenses               1,703.00  \n",
       "Other Expenses                                       6,791.00  \n",
       "Total Expenses                                      51,583.00  \n",
       "Profit/Loss Before Exceptional, ExtraOrdinary I...  19,981.00  \n",
       "Exceptional Items                                        0.00  \n",
       "Profit/Loss Before Tax                              19,981.00  \n",
       "Tax Expenses-Continued Operations                              \n",
       "Current Tax                                          5,653.00  \n",
       "Less: MAT Credit Entitlement                             0.00  \n",
       "Deferred Tax                                           -55.00  \n",
       "Other Direct Taxes                                       0.00  \n",
       "Total Tax Expenses                                   5,598.00  \n",
       "Profit/Loss After Tax And Before ExtraOrdinary ...  14,383.00  \n",
       "Profit/Loss From Continuing Operations              14,383.00  \n",
       "Profit/Loss For The Period                          14,383.00  \n",
       "Minority Interest                                        0.00  \n",
       "Consolidated Profit/Loss After MI And Associates    14,353.00  \n",
       "OTHER ADDITIONAL INFORMATION                                   \n",
       "EARNINGS PER SHARE                                             \n",
       "Basic EPS (Rs.)                                         63.00  \n",
       "Diluted EPS (Rs.)                                       63.00  \n",
       "DIVIDEND AND DIVIDEND PERCENTAGE                               \n",
       "Equity Share Dividend                                6,952.00  \n",
       "Tax On Dividend                                          0.00  "
      ]
     },
     "execution_count": 39,
     "metadata": {},
     "output_type": "execute_result"
    }
   ],
   "source": [
    "infy_data.pnl"
   ]
  },
  {
   "cell_type": "code",
   "execution_count": 40,
   "metadata": {},
   "outputs": [
    {
     "data": {
      "text/plain": [
       "0.09618015125442662"
      ]
     },
     "execution_count": 40,
     "metadata": {},
     "output_type": "execute_result"
    }
   ],
   "source": [
    "infy_data.r_stable()"
   ]
  },
  {
   "cell_type": "code",
   "execution_count": 41,
   "metadata": {},
   "outputs": [
    {
     "data": {
      "text/plain": [
       "708.247808351289"
      ]
     },
     "execution_count": 41,
     "metadata": {},
     "output_type": "execute_result"
    }
   ],
   "source": [
    "infy_data.stock_value()"
   ]
  },
  {
   "cell_type": "code",
   "execution_count": 42,
   "metadata": {},
   "outputs": [
    {
     "data": {
      "text/plain": [
       "26823.0"
      ]
     },
     "execution_count": 42,
     "metadata": {},
     "output_type": "execute_result"
    }
   ],
   "source": [
    "infy_data.EBIT()"
   ]
  },
  {
   "cell_type": "code",
   "execution_count": 43,
   "metadata": {},
   "outputs": [
    {
     "data": {
      "text/plain": [
       "16669.1"
      ]
     },
     "execution_count": 43,
     "metadata": {},
     "output_type": "execute_result"
    }
   ],
   "source": [
    "\n",
    "infy_data.FCFF()"
   ]
  },
  {
   "cell_type": "code",
   "execution_count": 44,
   "metadata": {},
   "outputs": [
    {
     "data": {
      "text/plain": [
       "0.0959240298722952"
      ]
     },
     "execution_count": 44,
     "metadata": {},
     "output_type": "execute_result"
    }
   ],
   "source": [
    "infy_data.r()"
   ]
  },
  {
   "cell_type": "code",
   "execution_count": 45,
   "metadata": {},
   "outputs": [
    {
     "data": {
      "text/plain": [
       "-0.01661372319385901"
      ]
     },
     "execution_count": 45,
     "metadata": {},
     "output_type": "execute_result"
    }
   ],
   "source": [
    "infy_data.avg_sector_DE()"
   ]
  },
  {
   "cell_type": "code",
   "execution_count": 46,
   "metadata": {},
   "outputs": [
    {
     "data": {
      "text/plain": [
       "0.043647076013418065"
      ]
     },
     "execution_count": 46,
     "metadata": {},
     "output_type": "execute_result"
    }
   ],
   "source": [
    "infy_data.r_debt()"
   ]
  },
  {
   "cell_type": "code",
   "execution_count": 47,
   "metadata": {},
   "outputs": [
    {
     "data": {
      "text/plain": [
       "0.0"
      ]
     },
     "execution_count": 47,
     "metadata": {},
     "output_type": "execute_result"
    }
   ],
   "source": [
    "infy_data.DE()"
   ]
  },
  {
   "cell_type": "code",
   "execution_count": 48,
   "metadata": {},
   "outputs": [
    {
     "data": {
      "text/plain": [
       "17435.0"
      ]
     },
     "execution_count": 48,
     "metadata": {},
     "output_type": "execute_result"
    }
   ],
   "source": [
    "infy_data.FCFE()"
   ]
  },
  {
   "cell_type": "code",
   "execution_count": 49,
   "metadata": {},
   "outputs": [
    {
     "data": {
      "text/plain": [
       "0.17688389992172038"
      ]
     },
     "execution_count": 49,
     "metadata": {},
     "output_type": "execute_result"
    }
   ],
   "source": [
    "infy_data.rev_growth()"
   ]
  },
  {
   "cell_type": "code",
   "execution_count": 50,
   "metadata": {},
   "outputs": [],
   "source": [
    "ni_series = infy_data.pnl.loc['Profit/Loss For The Period',:].apply(lambda s : float(s.replace(',','')))"
   ]
  },
  {
   "cell_type": "code",
   "execution_count": 51,
   "metadata": {},
   "outputs": [],
   "source": [
    "growth_ni = (ni_series[0]/ni_series[-1])**0.25 - 1"
   ]
  },
  {
   "cell_type": "code",
   "execution_count": 52,
   "metadata": {},
   "outputs": [
    {
     "data": {
      "text/plain": [
       "0.07799490303428502"
      ]
     },
     "execution_count": 52,
     "metadata": {},
     "output_type": "execute_result"
    }
   ],
   "source": [
    "growth_ni"
   ]
  },
  {
   "cell_type": "code",
   "execution_count": 53,
   "metadata": {},
   "outputs": [
    {
     "data": {
      "text/plain": [
       "0.0429"
      ]
     },
     "execution_count": 53,
     "metadata": {},
     "output_type": "execute_result"
    }
   ],
   "source": [
    "infy_data.risk_free_rate"
   ]
  },
  {
   "cell_type": "code",
   "execution_count": 54,
   "metadata": {},
   "outputs": [
    {
     "data": {
      "text/plain": [
       "0.06851895817076799"
      ]
     },
     "execution_count": 54,
     "metadata": {},
     "output_type": "execute_result"
    }
   ],
   "source": [
    "infy_data.erp()"
   ]
  },
  {
   "cell_type": "code",
   "execution_count": 55,
   "metadata": {},
   "outputs": [
    {
     "data": {
      "text/plain": [
       "0.7738592542540534"
      ]
     },
     "execution_count": 55,
     "metadata": {},
     "output_type": "execute_result"
    }
   ],
   "source": [
    "infy_data.beta()"
   ]
  },
  {
   "cell_type": "code",
   "execution_count": 56,
   "metadata": {},
   "outputs": [],
   "source": [
    "#Assuming stable growth\n",
    "shares = 560182338*100/12.84\n",
    "value = infy_data.FCFE()*(1+growth_ni)/(infy_data.r_equity() - growth_ni)"
   ]
  },
  {
   "cell_type": "code",
   "execution_count": 57,
   "metadata": {},
   "outputs": [],
   "source": [
    "r1 = (1+infy_data.growth_ni())/(1+infy_data.r_equity())"
   ]
  },
  {
   "cell_type": "code",
   "execution_count": 58,
   "metadata": {},
   "outputs": [
    {
     "data": {
      "text/plain": [
       "3148.0"
      ]
     },
     "execution_count": 58,
     "metadata": {},
     "output_type": "execute_result"
    }
   ],
   "source": [
    "infy_data.change_wc()"
   ]
  },
  {
   "cell_type": "code",
   "execution_count": 59,
   "metadata": {},
   "outputs": [
    {
     "data": {
      "text/plain": [
       "-1160.0"
      ]
     },
     "execution_count": 59,
     "metadata": {},
     "output_type": "execute_result"
    }
   ],
   "source": [
    "infy_data.net_capex()"
   ]
  },
  {
   "cell_type": "code",
   "execution_count": 60,
   "metadata": {},
   "outputs": [
    {
     "data": {
      "text/plain": [
       "3267.0"
      ]
     },
     "execution_count": 60,
     "metadata": {},
     "output_type": "execute_result"
    }
   ],
   "source": [
    "infy_data.dep()"
   ]
  },
  {
   "cell_type": "code",
   "execution_count": 61,
   "metadata": {},
   "outputs": [
    {
     "data": {
      "text/plain": [
       "4260095274.131274"
      ]
     },
     "execution_count": 61,
     "metadata": {},
     "output_type": "execute_result"
    }
   ],
   "source": [
    "infy_data.shares"
   ]
  },
  {
   "cell_type": "code",
   "execution_count": 64,
   "metadata": {},
   "outputs": [],
   "source": [
    "tot = infy_data.FCFE()*r1*(1 - r1**5)/(1-r1) + infy_data.FCFE()*(r1**5)*(1.05)/(infy_data.r_equity() - 0.05)"
   ]
  },
  {
   "cell_type": "code",
   "execution_count": 65,
   "metadata": {},
   "outputs": [
    {
     "name": "stdout",
     "output_type": "stream",
     "text": [
      "Infosys has a price per share of ₹2460.71\n"
     ]
    }
   ],
   "source": [
    "per_share_value = (10**7)*value/infy_data.shares\n",
    "print(f'{infy_data.comp} has a price per share of ₹{round(per_share_value,2)}')"
   ]
  },
  {
   "cell_type": "markdown",
   "metadata": {},
   "source": [
    "## HCL"
   ]
  },
  {
   "cell_type": "code",
   "execution_count": 101,
   "metadata": {},
   "outputs": [],
   "source": [
    "kundali_tcs = stock_ki_kundali('HCL Technologies',['ratios','profit and loss statement','balance sheet'])\n",
    "hcl_df1 = kundali_tcs[0]\n",
    "hcl_df2 = kundali_tcs[1]\n",
    "hcl_df3 = kundali_tcs[2]"
   ]
  },
  {
   "cell_type": "code",
   "execution_count": 104,
   "metadata": {},
   "outputs": [
    {
     "data": {
      "text/html": [
       "<div>\n",
       "<style scoped>\n",
       "    .dataframe tbody tr th:only-of-type {\n",
       "        vertical-align: middle;\n",
       "    }\n",
       "\n",
       "    .dataframe tbody tr th {\n",
       "        vertical-align: top;\n",
       "    }\n",
       "\n",
       "    .dataframe thead th {\n",
       "        text-align: right;\n",
       "    }\n",
       "</style>\n",
       "<table border=\"1\" class=\"dataframe\">\n",
       "  <thead>\n",
       "    <tr style=\"text-align: right;\">\n",
       "      <th>Balance Sheet of HCL Technologies (in Rs. Cr.)</th>\n",
       "      <th>Mar 21</th>\n",
       "      <th>Mar 20</th>\n",
       "      <th>Mar 19</th>\n",
       "      <th>Mar 18</th>\n",
       "      <th>Mar 17</th>\n",
       "    </tr>\n",
       "  </thead>\n",
       "  <tbody>\n",
       "    <tr>\n",
       "      <th>Total Share Capital</th>\n",
       "      <td>543.0</td>\n",
       "      <td>543.0</td>\n",
       "      <td>271.0</td>\n",
       "      <td>278.0</td>\n",
       "      <td>285.0</td>\n",
       "    </tr>\n",
       "    <tr>\n",
       "      <th>Total Reserves and Surplus</th>\n",
       "      <td>59370.0</td>\n",
       "      <td>50724.0</td>\n",
       "      <td>41095.0</td>\n",
       "      <td>36108.0</td>\n",
       "      <td>32664.0</td>\n",
       "    </tr>\n",
       "    <tr>\n",
       "      <th>Total Shareholders Funds</th>\n",
       "      <td>59913.0</td>\n",
       "      <td>51267.0</td>\n",
       "      <td>41366.0</td>\n",
       "      <td>36386.0</td>\n",
       "      <td>32949.0</td>\n",
       "    </tr>\n",
       "    <tr>\n",
       "      <th>Total Non-Current Liabilities</th>\n",
       "      <td>8729.0</td>\n",
       "      <td>7755.0</td>\n",
       "      <td>4807.0</td>\n",
       "      <td>1530.0</td>\n",
       "      <td>1305.0</td>\n",
       "    </tr>\n",
       "    <tr>\n",
       "      <th>Total Current Liabilities</th>\n",
       "      <td>17383.0</td>\n",
       "      <td>23730.0</td>\n",
       "      <td>12299.0</td>\n",
       "      <td>10107.0</td>\n",
       "      <td>11335.0</td>\n",
       "    </tr>\n",
       "    <tr>\n",
       "      <th>Total Capital And Liabilities</th>\n",
       "      <td>86194.0</td>\n",
       "      <td>82906.0</td>\n",
       "      <td>58575.0</td>\n",
       "      <td>48023.0</td>\n",
       "      <td>45762.0</td>\n",
       "    </tr>\n",
       "    <tr>\n",
       "      <th>Fixed Assets</th>\n",
       "      <td>20265.0</td>\n",
       "      <td>21736.0</td>\n",
       "      <td>14062.0</td>\n",
       "      <td>12274.0</td>\n",
       "      <td>9179.0</td>\n",
       "    </tr>\n",
       "    <tr>\n",
       "      <th>Total Non-Current Assets</th>\n",
       "      <td>43143.0</td>\n",
       "      <td>44486.0</td>\n",
       "      <td>28853.0</td>\n",
       "      <td>23465.0</td>\n",
       "      <td>19299.0</td>\n",
       "    </tr>\n",
       "    <tr>\n",
       "      <th>Total Current Assets</th>\n",
       "      <td>43051.0</td>\n",
       "      <td>38420.0</td>\n",
       "      <td>29722.0</td>\n",
       "      <td>24558.0</td>\n",
       "      <td>26463.0</td>\n",
       "    </tr>\n",
       "    <tr>\n",
       "      <th>Total Assets</th>\n",
       "      <td>86194.0</td>\n",
       "      <td>82906.0</td>\n",
       "      <td>58575.0</td>\n",
       "      <td>48023.0</td>\n",
       "      <td>45762.0</td>\n",
       "    </tr>\n",
       "  </tbody>\n",
       "</table>\n",
       "</div>"
      ],
      "text/plain": [
       "Balance Sheet of HCL Technologies (in Rs. Cr.)   Mar 21   Mar 20   Mar 19  \\\n",
       "Total Share Capital                               543.0    543.0    271.0   \n",
       "Total Reserves and Surplus                      59370.0  50724.0  41095.0   \n",
       "Total Shareholders Funds                        59913.0  51267.0  41366.0   \n",
       "Total Non-Current Liabilities                    8729.0   7755.0   4807.0   \n",
       "Total Current Liabilities                       17383.0  23730.0  12299.0   \n",
       "Total Capital And Liabilities                   86194.0  82906.0  58575.0   \n",
       "Fixed Assets                                    20265.0  21736.0  14062.0   \n",
       "Total Non-Current Assets                        43143.0  44486.0  28853.0   \n",
       "Total Current Assets                            43051.0  38420.0  29722.0   \n",
       "Total Assets                                    86194.0  82906.0  58575.0   \n",
       "\n",
       "Balance Sheet of HCL Technologies (in Rs. Cr.)   Mar 18   Mar 17  \n",
       "Total Share Capital                               278.0    285.0  \n",
       "Total Reserves and Surplus                      36108.0  32664.0  \n",
       "Total Shareholders Funds                        36386.0  32949.0  \n",
       "Total Non-Current Liabilities                    1530.0   1305.0  \n",
       "Total Current Liabilities                       10107.0  11335.0  \n",
       "Total Capital And Liabilities                   48023.0  45762.0  \n",
       "Fixed Assets                                    12274.0   9179.0  \n",
       "Total Non-Current Assets                        23465.0  19299.0  \n",
       "Total Current Assets                            24558.0  26463.0  \n",
       "Total Assets                                    48023.0  45762.0  "
      ]
     },
     "execution_count": 104,
     "metadata": {},
     "output_type": "execute_result"
    }
   ],
   "source": [
    "hcl_df3"
   ]
  },
  {
   "cell_type": "code",
   "execution_count": 105,
   "metadata": {},
   "outputs": [],
   "source": [
    "hcl_data = valuer(betas2021,companies2021,erpdata2021,'HCL Technologies',hcl_df1,hcl_df2,hcl_df3,1964.6,dcf_type='firm',shares=2713665096)"
   ]
  },
  {
   "cell_type": "code",
   "execution_count": 106,
   "metadata": {},
   "outputs": [
    {
     "data": {
      "text/plain": [
       "0.09506590913937424"
      ]
     },
     "execution_count": 106,
     "metadata": {},
     "output_type": "execute_result"
    }
   ],
   "source": [
    "hcl_data.r()"
   ]
  },
  {
   "cell_type": "code",
   "execution_count": 107,
   "metadata": {},
   "outputs": [
    {
     "data": {
      "text/plain": [
       "3309.0"
      ]
     },
     "execution_count": 107,
     "metadata": {},
     "output_type": "execute_result"
    }
   ],
   "source": [
    "hcl_data.FCFE()"
   ]
  },
  {
   "cell_type": "code",
   "execution_count": 108,
   "metadata": {},
   "outputs": [
    {
     "data": {
      "text/plain": [
       "9490.199999999999"
      ]
     },
     "execution_count": 108,
     "metadata": {},
     "output_type": "execute_result"
    }
   ],
   "source": [
    "hcl_data.FCFF()"
   ]
  },
  {
   "cell_type": "code",
   "execution_count": 109,
   "metadata": {},
   "outputs": [],
   "source": [
    "ni_series_hcl = hcl_data.pnl.loc['Profit/Loss For The Period',:].apply(lambda s : float(s.replace(',','')))"
   ]
  },
  {
   "cell_type": "code",
   "execution_count": 110,
   "metadata": {},
   "outputs": [
    {
     "data": {
      "text/plain": [
       "Profit & Loss account of HCL Technologies (in Rs. Cr.)\n",
       "Mar 21    11169.0\n",
       "Mar 20    11057.0\n",
       "Mar 19    10120.0\n",
       "Mar 18     8709.0\n",
       "Mar 17     8604.0\n",
       "Name: Profit/Loss For The Period, dtype: float64"
      ]
     },
     "execution_count": 110,
     "metadata": {},
     "output_type": "execute_result"
    }
   ],
   "source": [
    "ni_series_hcl"
   ]
  },
  {
   "cell_type": "code",
   "execution_count": 111,
   "metadata": {},
   "outputs": [
    {
     "data": {
      "text/plain": [
       "0.06"
      ]
     },
     "execution_count": 111,
     "metadata": {},
     "output_type": "execute_result"
    }
   ],
   "source": [
    "hcl_data.DE()"
   ]
  },
  {
   "cell_type": "code",
   "execution_count": 113,
   "metadata": {},
   "outputs": [
    {
     "data": {
      "text/plain": [
       "9490.199999999999"
      ]
     },
     "execution_count": 113,
     "metadata": {},
     "output_type": "execute_result"
    }
   ],
   "source": [
    "hcl_data.FCFF()"
   ]
  },
  {
   "cell_type": "code",
   "execution_count": 114,
   "metadata": {},
   "outputs": [
    {
     "data": {
      "text/plain": [
       "0.5361767803172597"
      ]
     },
     "execution_count": 114,
     "metadata": {},
     "output_type": "execute_result"
    }
   ],
   "source": [
    "hcl_data.rev_growth()"
   ]
  },
  {
   "cell_type": "code",
   "execution_count": 115,
   "metadata": {},
   "outputs": [
    {
     "data": {
      "text/plain": [
       "0.06740313081751359"
      ]
     },
     "execution_count": 115,
     "metadata": {},
     "output_type": "execute_result"
    }
   ],
   "source": [
    "(ni_series_hcl[0]/ni_series_hcl[-1])**0.25 - 1"
   ]
  },
  {
   "cell_type": "code",
   "execution_count": 125,
   "metadata": {},
   "outputs": [],
   "source": [
    "g = hcl_data.roc()*hcl_data.reinvestment()"
   ]
  },
  {
   "cell_type": "code",
   "execution_count": 123,
   "metadata": {},
   "outputs": [
    {
     "data": {
      "text/plain": [
       "0.1715088871040961"
      ]
     },
     "execution_count": 123,
     "metadata": {},
     "output_type": "execute_result"
    }
   ],
   "source": [
    "hcl_data.reinvestment()"
   ]
  },
  {
   "cell_type": "code",
   "execution_count": 119,
   "metadata": {},
   "outputs": [
    {
     "data": {
      "text/plain": [
       "3309.0"
      ]
     },
     "execution_count": 119,
     "metadata": {},
     "output_type": "execute_result"
    }
   ],
   "source": [
    "hcl_data.FCFE()"
   ]
  },
  {
   "cell_type": "code",
   "execution_count": 124,
   "metadata": {},
   "outputs": [
    {
     "data": {
      "text/plain": [
       "0.27198"
      ]
     },
     "execution_count": 124,
     "metadata": {},
     "output_type": "execute_result"
    }
   ],
   "source": [
    "hcl_data.roc()"
   ]
  },
  {
   "cell_type": "code",
   "execution_count": 120,
   "metadata": {},
   "outputs": [
    {
     "data": {
      "text/plain": [
       "0.09506590913937424"
      ]
     },
     "execution_count": 120,
     "metadata": {},
     "output_type": "execute_result"
    }
   ],
   "source": [
    "hcl_data.r()"
   ]
  },
  {
   "cell_type": "code",
   "execution_count": 121,
   "metadata": {},
   "outputs": [
    {
     "data": {
      "text/plain": [
       "0.0981510391269316"
      ]
     },
     "execution_count": 121,
     "metadata": {},
     "output_type": "execute_result"
    }
   ],
   "source": [
    "hcl_data.r_equity()"
   ]
  },
  {
   "cell_type": "code",
   "execution_count": 126,
   "metadata": {},
   "outputs": [
    {
     "data": {
      "text/plain": [
       "9490.199999999999"
      ]
     },
     "execution_count": 126,
     "metadata": {},
     "output_type": "execute_result"
    }
   ],
   "source": [
    "hcl_data.FCFF()"
   ]
  },
  {
   "cell_type": "code",
   "execution_count": 127,
   "metadata": {},
   "outputs": [
    {
     "data": {
      "text/plain": [
       "16364.0"
      ]
     },
     "execution_count": 127,
     "metadata": {},
     "output_type": "execute_result"
    }
   ],
   "source": [
    "hcl_data.EBIT()"
   ]
  },
  {
   "cell_type": "code",
   "execution_count": 129,
   "metadata": {},
   "outputs": [],
   "source": [
    "rat = (1+g)/(1+hcl_data.r())"
   ]
  },
  {
   "cell_type": "code",
   "execution_count": 130,
   "metadata": {},
   "outputs": [
    {
     "data": {
      "text/plain": [
       "2713665096"
      ]
     },
     "execution_count": 130,
     "metadata": {},
     "output_type": "execute_result"
    }
   ],
   "source": [
    "hcl_data.shares"
   ]
  },
  {
   "cell_type": "code",
   "execution_count": 133,
   "metadata": {},
   "outputs": [],
   "source": [
    "total_val = hcl_data.FCFF()*rat*(1 - rat**5)/(1-rat) + hcl_data.FCFF()*(1.045)**6/(hcl_data.r() - 0.045)"
   ]
  },
  {
   "cell_type": "code",
   "execution_count": 135,
   "metadata": {},
   "outputs": [
    {
     "data": {
      "text/plain": [
       "1062.6387013473607"
      ]
     },
     "execution_count": 135,
     "metadata": {},
     "output_type": "execute_result"
    }
   ],
   "source": [
    "total_val*(10**7)/hcl_data.shares"
   ]
  },
  {
   "cell_type": "markdown",
   "metadata": {},
   "source": [
    "## Exide Industries"
   ]
  },
  {
   "cell_type": "code",
   "execution_count": 16,
   "metadata": {},
   "outputs": [],
   "source": [
    "ekundali = stock_ki_kundali('Exide Industries Limited',['ratios','profit and loss statement','balance sheet'])\n",
    "ex_df1 = ekundali[0]\n",
    "ex_df2 = ekundali[1]\n",
    "ex_df3 = ekundali[2]\n",
    "\n",
    "#infy_data = valuer(betas2021,companies2021,erpdata2021,'Infosys',df1,df2,df3,2107,dcf_type='firm',shares=560182338)"
   ]
  },
  {
   "cell_type": "code",
   "execution_count": 30,
   "metadata": {},
   "outputs": [],
   "source": [
    "ex_data = valuer(betas2021,companies2021,erpdata2021,'Exide Industries Limited',ex_df1,ex_df2,ex_df3,capex=501.62,dcf_type='firm',shares=850000000)"
   ]
  },
  {
   "cell_type": "code",
   "execution_count": 31,
   "metadata": {},
   "outputs": [
    {
     "data": {
      "text/plain": [
       "0.1369196335510024"
      ]
     },
     "execution_count": 31,
     "metadata": {},
     "output_type": "execute_result"
    }
   ],
   "source": [
    "ex_data.r()"
   ]
  },
  {
   "cell_type": "code",
   "execution_count": 32,
   "metadata": {},
   "outputs": [
    {
     "data": {
      "text/plain": [
       "0.13878508470175407"
      ]
     },
     "execution_count": 32,
     "metadata": {},
     "output_type": "execute_result"
    }
   ],
   "source": [
    "ex_data.r_equity()"
   ]
  },
  {
   "cell_type": "code",
   "execution_count": 33,
   "metadata": {},
   "outputs": [
    {
     "data": {
      "text/plain": [
       "0.0196078431372549"
      ]
     },
     "execution_count": 33,
     "metadata": {},
     "output_type": "execute_result"
    }
   ],
   "source": [
    "ex_data.DR()"
   ]
  },
  {
   "cell_type": "code",
   "execution_count": 34,
   "metadata": {},
   "outputs": [
    {
     "data": {
      "text/plain": [
       "0.02"
      ]
     },
     "execution_count": 34,
     "metadata": {},
     "output_type": "execute_result"
    }
   ],
   "source": [
    "ex_data.DE()"
   ]
  },
  {
   "cell_type": "code",
   "execution_count": 35,
   "metadata": {},
   "outputs": [
    {
     "data": {
      "text/plain": [
       "-8.70738830143214e-05"
      ]
     },
     "execution_count": 35,
     "metadata": {},
     "output_type": "execute_result"
    }
   ],
   "source": [
    "ex_data.growth_ni()"
   ]
  },
  {
   "cell_type": "code",
   "execution_count": 36,
   "metadata": {},
   "outputs": [
    {
     "data": {
      "text/plain": [
       "1376.6223529411768"
      ]
     },
     "execution_count": 36,
     "metadata": {},
     "output_type": "execute_result"
    }
   ],
   "source": [
    "ex_data.FCFE()"
   ]
  },
  {
   "cell_type": "code",
   "execution_count": 37,
   "metadata": {},
   "outputs": [
    {
     "data": {
      "text/plain": [
       "350.43399999999997"
      ]
     },
     "execution_count": 37,
     "metadata": {},
     "output_type": "execute_result"
    }
   ],
   "source": [
    "ex_data.FCFF()"
   ]
  },
  {
   "cell_type": "code",
   "execution_count": 38,
   "metadata": {},
   "outputs": [
    {
     "data": {
      "text/plain": [
       "67.97000000000003"
      ]
     },
     "execution_count": 38,
     "metadata": {},
     "output_type": "execute_result"
    }
   ],
   "source": [
    "ex_data.net_capex()"
   ]
  },
  {
   "cell_type": "code",
   "execution_count": 39,
   "metadata": {},
   "outputs": [
    {
     "data": {
      "text/plain": [
       "'433.65'"
      ]
     },
     "execution_count": 39,
     "metadata": {},
     "output_type": "execute_result"
    }
   ],
   "source": [
    "ex_data.pnl.loc['Depreciation And Amortisation Expenses','Mar 21']"
   ]
  },
  {
   "cell_type": "code",
   "execution_count": 42,
   "metadata": {},
   "outputs": [
    {
     "data": {
      "text/plain": [
       "1217.22"
      ]
     },
     "execution_count": 42,
     "metadata": {},
     "output_type": "execute_result"
    }
   ],
   "source": [
    "ex_data.EBIT()"
   ]
  },
  {
   "cell_type": "code",
   "execution_count": 43,
   "metadata": {},
   "outputs": [
    {
     "data": {
      "text/plain": [
       "-652.3100000000004"
      ]
     },
     "execution_count": 43,
     "metadata": {},
     "output_type": "execute_result"
    }
   ],
   "source": [
    "ex_data.change_wc()"
   ]
  },
  {
   "cell_type": "code",
   "execution_count": 44,
   "metadata": {},
   "outputs": [
    {
     "data": {
      "text/plain": [
       "0.1369196335510024"
      ]
     },
     "execution_count": 44,
     "metadata": {},
     "output_type": "execute_result"
    }
   ],
   "source": [
    "ex_data.r()"
   ]
  },
  {
   "cell_type": "code",
   "execution_count": 45,
   "metadata": {},
   "outputs": [
    {
     "data": {
      "text/plain": [
       "0.13878508470175407"
      ]
     },
     "execution_count": 45,
     "metadata": {},
     "output_type": "execute_result"
    }
   ],
   "source": [
    "ex_data.r_equity()"
   ]
  },
  {
   "cell_type": "code",
   "execution_count": 48,
   "metadata": {},
   "outputs": [],
   "source": [
    "g = ex_data.reinvestment()*ex_data.roc()"
   ]
  },
  {
   "cell_type": "code",
   "execution_count": 47,
   "metadata": {},
   "outputs": [
    {
     "data": {
      "text/plain": [
       "0.17704037980699794"
      ]
     },
     "execution_count": 47,
     "metadata": {},
     "output_type": "execute_result"
    }
   ],
   "source": [
    "ex_data.rev_growth()"
   ]
  },
  {
   "cell_type": "code",
   "execution_count": 52,
   "metadata": {},
   "outputs": [],
   "source": [
    "#assuming that exide will do well with the arrival of EVs and r will become lower (12%) for stable growth\n",
    "five_year_gs = np.linspace(g,g+0.06,5)"
   ]
  },
  {
   "cell_type": "code",
   "execution_count": 62,
   "metadata": {},
   "outputs": [],
   "source": [
    "numerator = (five_year_gs+1).cumprod()"
   ]
  },
  {
   "cell_type": "code",
   "execution_count": 58,
   "metadata": {},
   "outputs": [],
   "source": [
    "r_ex = ex_data.r()"
   ]
  },
  {
   "cell_type": "code",
   "execution_count": 60,
   "metadata": {},
   "outputs": [],
   "source": [
    "denominator = np.array([(1+r_ex)**i for i in range(1,6)])"
   ]
  },
  {
   "cell_type": "code",
   "execution_count": 61,
   "metadata": {},
   "outputs": [
    {
     "data": {
      "text/plain": [
       "array([1.13691963, 1.29258625, 1.46956669, 1.67077922, 1.8995417 ])"
      ]
     },
     "execution_count": 61,
     "metadata": {},
     "output_type": "execute_result"
    }
   ],
   "source": [
    "denominator"
   ]
  },
  {
   "cell_type": "code",
   "execution_count": 66,
   "metadata": {},
   "outputs": [],
   "source": [
    "year_factors = numerator/denominator"
   ]
  },
  {
   "cell_type": "code",
   "execution_count": 67,
   "metadata": {},
   "outputs": [
    {
     "data": {
      "text/plain": [
       "array([0.91281362, 0.84527196, 0.79388003, 0.75608678, 0.73006817])"
      ]
     },
     "execution_count": 67,
     "metadata": {},
     "output_type": "execute_result"
    }
   ],
   "source": [
    "year_factors"
   ]
  },
  {
   "cell_type": "code",
   "execution_count": 68,
   "metadata": {},
   "outputs": [
    {
     "data": {
      "text/plain": [
       "350.43399999999997"
      ]
     },
     "execution_count": 68,
     "metadata": {},
     "output_type": "execute_result"
    }
   ],
   "source": [
    "ex_data.FCFF()"
   ]
  },
  {
   "cell_type": "code",
   "execution_count": 71,
   "metadata": {},
   "outputs": [],
   "source": [
    "terminal_val = ex_data.FCFF()*numerator[4]*(1+0.05)/(0.12 - 0.05)"
   ]
  },
  {
   "cell_type": "code",
   "execution_count": 72,
   "metadata": {},
   "outputs": [
    {
     "data": {
      "text/plain": [
       "1415.0947427136157"
      ]
     },
     "execution_count": 72,
     "metadata": {},
     "output_type": "execute_result"
    }
   ],
   "source": [
    "ex_data.FCFF()*(year_factors.sum()) "
   ]
  },
  {
   "cell_type": "code",
   "execution_count": 73,
   "metadata": {},
   "outputs": [
    {
     "data": {
      "text/plain": [
       "7289.701469694377"
      ]
     },
     "execution_count": 73,
     "metadata": {},
     "output_type": "execute_result"
    }
   ],
   "source": [
    "terminal_val"
   ]
  },
  {
   "cell_type": "code",
   "execution_count": 75,
   "metadata": {},
   "outputs": [],
   "source": [
    "total_worth = ex_data.FCFF()*(year_factors.sum()) + terminal_val"
   ]
  },
  {
   "cell_type": "code",
   "execution_count": 77,
   "metadata": {},
   "outputs": [],
   "source": [
    "share_price = (10**7)*total_worth/ex_data.shares"
   ]
  },
  {
   "cell_type": "code",
   "execution_count": 78,
   "metadata": {},
   "outputs": [
    {
     "name": "stdout",
     "output_type": "stream",
     "text": [
      "Exide Industries Limited has a price per share of ₹102.41\n"
     ]
    }
   ],
   "source": [
    "print(f'{ex_data.comp} has a price per share of ₹{round(share_price,2)}')"
   ]
  },
  {
   "cell_type": "markdown",
   "metadata": {},
   "source": [
    "## HDFC Bank"
   ]
  },
  {
   "cell_type": "code",
   "execution_count": 61,
   "metadata": {},
   "outputs": [],
   "source": [
    "hdfc_kundali = stock_ki_kundali('HDFC Bank',['ratios','profit and loss statement','balance sheet'])\n",
    "\n",
    "h_df1 = hdfc_kundali[0]\n",
    "h_df2 = hdfc_kundali[1]\n",
    "h_df3 = hdfc_kundali[2]"
   ]
  },
  {
   "cell_type": "code",
   "execution_count": 64,
   "metadata": {},
   "outputs": [
    {
     "data": {
      "text/html": [
       "<div>\n",
       "<style scoped>\n",
       "    .dataframe tbody tr th:only-of-type {\n",
       "        vertical-align: middle;\n",
       "    }\n",
       "\n",
       "    .dataframe tbody tr th {\n",
       "        vertical-align: top;\n",
       "    }\n",
       "\n",
       "    .dataframe thead th {\n",
       "        text-align: right;\n",
       "    }\n",
       "</style>\n",
       "<table border=\"1\" class=\"dataframe\">\n",
       "  <thead>\n",
       "    <tr style=\"text-align: right;\">\n",
       "      <th>Profit &amp; Loss account of HDFC Bank (in Rs. Cr.)</th>\n",
       "      <th>Mar 21</th>\n",
       "      <th>Mar 20</th>\n",
       "      <th>Mar 19</th>\n",
       "      <th>Mar 18</th>\n",
       "      <th>Mar 17</th>\n",
       "    </tr>\n",
       "  </thead>\n",
       "  <tbody>\n",
       "    <tr>\n",
       "      <th></th>\n",
       "      <td>12 mths</td>\n",
       "      <td>12 mths</td>\n",
       "      <td>12 mths</td>\n",
       "      <td>12 mths</td>\n",
       "      <td>12 mths</td>\n",
       "    </tr>\n",
       "    <tr>\n",
       "      <th>INCOME</th>\n",
       "      <td></td>\n",
       "      <td></td>\n",
       "      <td></td>\n",
       "      <td></td>\n",
       "      <td></td>\n",
       "    </tr>\n",
       "    <tr>\n",
       "      <th>Interest / Discount on Advances / Bills</th>\n",
       "      <td>102,299.13</td>\n",
       "      <td>99,079.63</td>\n",
       "      <td>83,736.16</td>\n",
       "      <td>67,658.90</td>\n",
       "      <td>55,986.18</td>\n",
       "    </tr>\n",
       "    <tr>\n",
       "      <th>Income from Investments</th>\n",
       "      <td>23,211.62</td>\n",
       "      <td>20,572.73</td>\n",
       "      <td>19,924.75</td>\n",
       "      <td>16,229.79</td>\n",
       "      <td>15,951.56</td>\n",
       "    </tr>\n",
       "    <tr>\n",
       "      <th>Interest on Balance with RBI and Other Inter-Bank funds</th>\n",
       "      <td>2,414.30</td>\n",
       "      <td>1,868.77</td>\n",
       "      <td>660.62</td>\n",
       "      <td>540.62</td>\n",
       "      <td>544.86</td>\n",
       "    </tr>\n",
       "    <tr>\n",
       "      <th>Others</th>\n",
       "      <td>627.35</td>\n",
       "      <td>668.17</td>\n",
       "      <td>839.21</td>\n",
       "      <td>858.53</td>\n",
       "      <td>788.76</td>\n",
       "    </tr>\n",
       "    <tr>\n",
       "      <th>Total Interest Earned</th>\n",
       "      <td>128,552.40</td>\n",
       "      <td>122,189.29</td>\n",
       "      <td>105,160.74</td>\n",
       "      <td>85,287.84</td>\n",
       "      <td>73,271.35</td>\n",
       "    </tr>\n",
       "    <tr>\n",
       "      <th>Other Income</th>\n",
       "      <td>27,332.88</td>\n",
       "      <td>24,878.97</td>\n",
       "      <td>18,947.05</td>\n",
       "      <td>16,056.60</td>\n",
       "      <td>12,877.63</td>\n",
       "    </tr>\n",
       "    <tr>\n",
       "      <th>Total Income</th>\n",
       "      <td>155,885.28</td>\n",
       "      <td>147,068.27</td>\n",
       "      <td>124,107.79</td>\n",
       "      <td>101,344.45</td>\n",
       "      <td>86,148.99</td>\n",
       "    </tr>\n",
       "    <tr>\n",
       "      <th>EXPENDITURE</th>\n",
       "      <td></td>\n",
       "      <td></td>\n",
       "      <td></td>\n",
       "      <td></td>\n",
       "      <td></td>\n",
       "    </tr>\n",
       "    <tr>\n",
       "      <th>Interest Expended</th>\n",
       "      <td>59,247.59</td>\n",
       "      <td>62,137.42</td>\n",
       "      <td>53,712.69</td>\n",
       "      <td>42,381.48</td>\n",
       "      <td>38,041.58</td>\n",
       "    </tr>\n",
       "    <tr>\n",
       "      <th>Payments to and Provisions for Employees</th>\n",
       "      <td>13,676.67</td>\n",
       "      <td>12,920.13</td>\n",
       "      <td>10,451.15</td>\n",
       "      <td>9,193.90</td>\n",
       "      <td>8,504.70</td>\n",
       "    </tr>\n",
       "    <tr>\n",
       "      <th>Depreciation</th>\n",
       "      <td>0.00</td>\n",
       "      <td>1,276.77</td>\n",
       "      <td>1,220.67</td>\n",
       "      <td>966.78</td>\n",
       "      <td>886.19</td>\n",
       "    </tr>\n",
       "    <tr>\n",
       "      <th>Depreciation on Leased Assets</th>\n",
       "      <td>0.00</td>\n",
       "      <td>0.00</td>\n",
       "      <td>0.00</td>\n",
       "      <td>0.00</td>\n",
       "      <td>0.00</td>\n",
       "    </tr>\n",
       "    <tr>\n",
       "      <th>Operating Expenses (excludes Employee Cost &amp; Depreciation)</th>\n",
       "      <td>21,324.59</td>\n",
       "      <td>18,839.16</td>\n",
       "      <td>16,022.94</td>\n",
       "      <td>13,766.54</td>\n",
       "      <td>11,360.18</td>\n",
       "    </tr>\n",
       "    <tr>\n",
       "      <th>Total Operating Expenses</th>\n",
       "      <td>35,001.26</td>\n",
       "      <td>33,036.06</td>\n",
       "      <td>27,694.76</td>\n",
       "      <td>23,927.22</td>\n",
       "      <td>20,751.07</td>\n",
       "    </tr>\n",
       "    <tr>\n",
       "      <th>Provision Towards Income Tax</th>\n",
       "      <td>10,939.37</td>\n",
       "      <td>10,422.14</td>\n",
       "      <td>12,961.15</td>\n",
       "      <td>10,848.11</td>\n",
       "      <td>8,424.16</td>\n",
       "    </tr>\n",
       "    <tr>\n",
       "      <th>Provision Towards Deferred Tax</th>\n",
       "      <td>0.00</td>\n",
       "      <td>476.45</td>\n",
       "      <td>-1,088.60</td>\n",
       "      <td>-945.03</td>\n",
       "      <td>-346.04</td>\n",
       "    </tr>\n",
       "    <tr>\n",
       "      <th>Other Provisions and Contingencies</th>\n",
       "      <td>18,840.29</td>\n",
       "      <td>13,699.93</td>\n",
       "      <td>8,382.18</td>\n",
       "      <td>6,571.82</td>\n",
       "      <td>3,990.81</td>\n",
       "    </tr>\n",
       "    <tr>\n",
       "      <th>Total Provisions and Contingencies</th>\n",
       "      <td>29,779.66</td>\n",
       "      <td>24,598.52</td>\n",
       "      <td>20,254.73</td>\n",
       "      <td>16,474.90</td>\n",
       "      <td>12,068.93</td>\n",
       "    </tr>\n",
       "    <tr>\n",
       "      <th>Total Expenditure</th>\n",
       "      <td>124,028.51</td>\n",
       "      <td>119,772.00</td>\n",
       "      <td>101,662.18</td>\n",
       "      <td>82,783.61</td>\n",
       "      <td>70,861.58</td>\n",
       "    </tr>\n",
       "    <tr>\n",
       "      <th>Net Profit / Loss for The Year</th>\n",
       "      <td>31,856.77</td>\n",
       "      <td>27,296.27</td>\n",
       "      <td>22,445.61</td>\n",
       "      <td>18,560.84</td>\n",
       "      <td>15,287.40</td>\n",
       "    </tr>\n",
       "    <tr>\n",
       "      <th>Net Profit / Loss After EI &amp; Prior Year Items</th>\n",
       "      <td>31,856.77</td>\n",
       "      <td>27,296.27</td>\n",
       "      <td>22,445.61</td>\n",
       "      <td>18,560.84</td>\n",
       "      <td>15,287.40</td>\n",
       "    </tr>\n",
       "    <tr>\n",
       "      <th>Minority Interest</th>\n",
       "      <td>0.00</td>\n",
       "      <td>-42.31</td>\n",
       "      <td>-113.18</td>\n",
       "      <td>-51.34</td>\n",
       "      <td>-36.72</td>\n",
       "    </tr>\n",
       "    <tr>\n",
       "      <th>Share Of Profit/Loss Of Associates</th>\n",
       "      <td>-23.56</td>\n",
       "      <td>0.00</td>\n",
       "      <td>0.00</td>\n",
       "      <td>0.52</td>\n",
       "      <td>2.34</td>\n",
       "    </tr>\n",
       "    <tr>\n",
       "      <th>Consolidated Profit/Loss After MI And Associates</th>\n",
       "      <td>31,833.21</td>\n",
       "      <td>27,253.95</td>\n",
       "      <td>22,332.43</td>\n",
       "      <td>18,510.02</td>\n",
       "      <td>15,253.03</td>\n",
       "    </tr>\n",
       "    <tr>\n",
       "      <th>Profit / Loss Brought Forward</th>\n",
       "      <td>0.00</td>\n",
       "      <td>52,849.61</td>\n",
       "      <td>43,098.98</td>\n",
       "      <td>34,532.33</td>\n",
       "      <td>24,825.59</td>\n",
       "    </tr>\n",
       "    <tr>\n",
       "      <th>Total Profit / Loss available for Appropriations</th>\n",
       "      <td>0.00</td>\n",
       "      <td>80,103.56</td>\n",
       "      <td>65,431.41</td>\n",
       "      <td>53,042.35</td>\n",
       "      <td>40,106.06</td>\n",
       "    </tr>\n",
       "    <tr>\n",
       "      <th>APPROPRIATIONS</th>\n",
       "      <td></td>\n",
       "      <td></td>\n",
       "      <td></td>\n",
       "      <td></td>\n",
       "      <td></td>\n",
       "    </tr>\n",
       "    <tr>\n",
       "      <th>Transfer To / From Statutory Reserve</th>\n",
       "      <td>0.00</td>\n",
       "      <td>6,771.72</td>\n",
       "      <td>5,499.76</td>\n",
       "      <td>4,562.03</td>\n",
       "      <td>3,777.16</td>\n",
       "    </tr>\n",
       "    <tr>\n",
       "      <th>Transfer To / From Revenue And Other Reserves</th>\n",
       "      <td>0.00</td>\n",
       "      <td>0.00</td>\n",
       "      <td>0.00</td>\n",
       "      <td>0.00</td>\n",
       "      <td>0.00</td>\n",
       "    </tr>\n",
       "    <tr>\n",
       "      <th>Dividend and Dividend Tax for The Previous Year</th>\n",
       "      <td>0.00</td>\n",
       "      <td>4,893.36</td>\n",
       "      <td>0.00</td>\n",
       "      <td>3,390.58</td>\n",
       "      <td>-1.69</td>\n",
       "    </tr>\n",
       "    <tr>\n",
       "      <th>Equity Share Dividend</th>\n",
       "      <td>0.00</td>\n",
       "      <td>1,646.95</td>\n",
       "      <td>4,052.59</td>\n",
       "      <td>50.77</td>\n",
       "      <td>0.00</td>\n",
       "    </tr>\n",
       "    <tr>\n",
       "      <th>Tax On Dividend</th>\n",
       "      <td>0.00</td>\n",
       "      <td>90.27</td>\n",
       "      <td>43.31</td>\n",
       "      <td>0.00</td>\n",
       "      <td>25.60</td>\n",
       "    </tr>\n",
       "    <tr>\n",
       "      <th>Balance Carried Over To Balance Sheet</th>\n",
       "      <td>0.00</td>\n",
       "      <td>61,817.69</td>\n",
       "      <td>52,849.61</td>\n",
       "      <td>43,098.98</td>\n",
       "      <td>34,532.33</td>\n",
       "    </tr>\n",
       "    <tr>\n",
       "      <th>Total Appropriations</th>\n",
       "      <td>0.00</td>\n",
       "      <td>80,103.56</td>\n",
       "      <td>65,431.41</td>\n",
       "      <td>53,042.35</td>\n",
       "      <td>40,106.06</td>\n",
       "    </tr>\n",
       "    <tr>\n",
       "      <th>OTHER ADDITIONAL INFORMATION</th>\n",
       "      <td></td>\n",
       "      <td></td>\n",
       "      <td></td>\n",
       "      <td></td>\n",
       "      <td></td>\n",
       "    </tr>\n",
       "    <tr>\n",
       "      <th>EARNINGS PER SHARE</th>\n",
       "      <td></td>\n",
       "      <td></td>\n",
       "      <td></td>\n",
       "      <td></td>\n",
       "      <td></td>\n",
       "    </tr>\n",
       "    <tr>\n",
       "      <th>Basic EPS (Rs.)</th>\n",
       "      <td>58.00</td>\n",
       "      <td>50.00</td>\n",
       "      <td>83.00</td>\n",
       "      <td>72.00</td>\n",
       "      <td>60.00</td>\n",
       "    </tr>\n",
       "    <tr>\n",
       "      <th>Diluted EPS (Rs.)</th>\n",
       "      <td>58.00</td>\n",
       "      <td>49.00</td>\n",
       "      <td>83.00</td>\n",
       "      <td>71.00</td>\n",
       "      <td>59.00</td>\n",
       "    </tr>\n",
       "  </tbody>\n",
       "</table>\n",
       "</div>"
      ],
      "text/plain": [
       "Profit & Loss account of HDFC Bank (in Rs. Cr.)         Mar 21      Mar 20  \\\n",
       "                                                       12 mths     12 mths   \n",
       "INCOME                                                                       \n",
       "Interest / Discount on Advances / Bills             102,299.13   99,079.63   \n",
       "Income from Investments                              23,211.62   20,572.73   \n",
       "Interest on Balance with RBI and Other Inter-Ba...    2,414.30    1,868.77   \n",
       "Others                                                  627.35      668.17   \n",
       "Total Interest Earned                               128,552.40  122,189.29   \n",
       "Other Income                                         27,332.88   24,878.97   \n",
       "Total Income                                        155,885.28  147,068.27   \n",
       "EXPENDITURE                                                                  \n",
       "Interest Expended                                    59,247.59   62,137.42   \n",
       "Payments to and Provisions for Employees             13,676.67   12,920.13   \n",
       "Depreciation                                              0.00    1,276.77   \n",
       "Depreciation on Leased Assets                             0.00        0.00   \n",
       "Operating Expenses (excludes Employee Cost & De...   21,324.59   18,839.16   \n",
       "Total Operating Expenses                             35,001.26   33,036.06   \n",
       "Provision Towards Income Tax                         10,939.37   10,422.14   \n",
       "Provision Towards Deferred Tax                            0.00      476.45   \n",
       "Other Provisions and Contingencies                   18,840.29   13,699.93   \n",
       "Total Provisions and Contingencies                   29,779.66   24,598.52   \n",
       "Total Expenditure                                   124,028.51  119,772.00   \n",
       "Net Profit / Loss for The Year                       31,856.77   27,296.27   \n",
       "Net Profit / Loss After EI & Prior Year Items        31,856.77   27,296.27   \n",
       "Minority Interest                                         0.00      -42.31   \n",
       "Share Of Profit/Loss Of Associates                      -23.56        0.00   \n",
       "Consolidated Profit/Loss After MI And Associates     31,833.21   27,253.95   \n",
       "Profit / Loss Brought Forward                             0.00   52,849.61   \n",
       "Total Profit / Loss available for Appropriations          0.00   80,103.56   \n",
       "APPROPRIATIONS                                                               \n",
       "Transfer To / From Statutory Reserve                      0.00    6,771.72   \n",
       "Transfer To / From Revenue And Other Reserves             0.00        0.00   \n",
       "Dividend and Dividend Tax for The Previous Year           0.00    4,893.36   \n",
       "Equity Share Dividend                                     0.00    1,646.95   \n",
       "Tax On Dividend                                           0.00       90.27   \n",
       "Balance Carried Over To Balance Sheet                     0.00   61,817.69   \n",
       "Total Appropriations                                      0.00   80,103.56   \n",
       "OTHER ADDITIONAL INFORMATION                                                 \n",
       "EARNINGS PER SHARE                                                           \n",
       "Basic EPS (Rs.)                                          58.00       50.00   \n",
       "Diluted EPS (Rs.)                                        58.00       49.00   \n",
       "\n",
       "Profit & Loss account of HDFC Bank (in Rs. Cr.)         Mar 19      Mar 18  \\\n",
       "                                                       12 mths     12 mths   \n",
       "INCOME                                                                       \n",
       "Interest / Discount on Advances / Bills              83,736.16   67,658.90   \n",
       "Income from Investments                              19,924.75   16,229.79   \n",
       "Interest on Balance with RBI and Other Inter-Ba...      660.62      540.62   \n",
       "Others                                                  839.21      858.53   \n",
       "Total Interest Earned                               105,160.74   85,287.84   \n",
       "Other Income                                         18,947.05   16,056.60   \n",
       "Total Income                                        124,107.79  101,344.45   \n",
       "EXPENDITURE                                                                  \n",
       "Interest Expended                                    53,712.69   42,381.48   \n",
       "Payments to and Provisions for Employees             10,451.15    9,193.90   \n",
       "Depreciation                                          1,220.67      966.78   \n",
       "Depreciation on Leased Assets                             0.00        0.00   \n",
       "Operating Expenses (excludes Employee Cost & De...   16,022.94   13,766.54   \n",
       "Total Operating Expenses                             27,694.76   23,927.22   \n",
       "Provision Towards Income Tax                         12,961.15   10,848.11   \n",
       "Provision Towards Deferred Tax                       -1,088.60     -945.03   \n",
       "Other Provisions and Contingencies                    8,382.18    6,571.82   \n",
       "Total Provisions and Contingencies                   20,254.73   16,474.90   \n",
       "Total Expenditure                                   101,662.18   82,783.61   \n",
       "Net Profit / Loss for The Year                       22,445.61   18,560.84   \n",
       "Net Profit / Loss After EI & Prior Year Items        22,445.61   18,560.84   \n",
       "Minority Interest                                      -113.18      -51.34   \n",
       "Share Of Profit/Loss Of Associates                        0.00        0.52   \n",
       "Consolidated Profit/Loss After MI And Associates     22,332.43   18,510.02   \n",
       "Profit / Loss Brought Forward                        43,098.98   34,532.33   \n",
       "Total Profit / Loss available for Appropriations     65,431.41   53,042.35   \n",
       "APPROPRIATIONS                                                               \n",
       "Transfer To / From Statutory Reserve                  5,499.76    4,562.03   \n",
       "Transfer To / From Revenue And Other Reserves             0.00        0.00   \n",
       "Dividend and Dividend Tax for The Previous Year           0.00    3,390.58   \n",
       "Equity Share Dividend                                 4,052.59       50.77   \n",
       "Tax On Dividend                                          43.31        0.00   \n",
       "Balance Carried Over To Balance Sheet                52,849.61   43,098.98   \n",
       "Total Appropriations                                 65,431.41   53,042.35   \n",
       "OTHER ADDITIONAL INFORMATION                                                 \n",
       "EARNINGS PER SHARE                                                           \n",
       "Basic EPS (Rs.)                                          83.00       72.00   \n",
       "Diluted EPS (Rs.)                                        83.00       71.00   \n",
       "\n",
       "Profit & Loss account of HDFC Bank (in Rs. Cr.)        Mar 17  \n",
       "                                                      12 mths  \n",
       "INCOME                                                         \n",
       "Interest / Discount on Advances / Bills             55,986.18  \n",
       "Income from Investments                             15,951.56  \n",
       "Interest on Balance with RBI and Other Inter-Ba...     544.86  \n",
       "Others                                                 788.76  \n",
       "Total Interest Earned                               73,271.35  \n",
       "Other Income                                        12,877.63  \n",
       "Total Income                                        86,148.99  \n",
       "EXPENDITURE                                                    \n",
       "Interest Expended                                   38,041.58  \n",
       "Payments to and Provisions for Employees             8,504.70  \n",
       "Depreciation                                           886.19  \n",
       "Depreciation on Leased Assets                            0.00  \n",
       "Operating Expenses (excludes Employee Cost & De...  11,360.18  \n",
       "Total Operating Expenses                            20,751.07  \n",
       "Provision Towards Income Tax                         8,424.16  \n",
       "Provision Towards Deferred Tax                        -346.04  \n",
       "Other Provisions and Contingencies                   3,990.81  \n",
       "Total Provisions and Contingencies                  12,068.93  \n",
       "Total Expenditure                                   70,861.58  \n",
       "Net Profit / Loss for The Year                      15,287.40  \n",
       "Net Profit / Loss After EI & Prior Year Items       15,287.40  \n",
       "Minority Interest                                      -36.72  \n",
       "Share Of Profit/Loss Of Associates                       2.34  \n",
       "Consolidated Profit/Loss After MI And Associates    15,253.03  \n",
       "Profit / Loss Brought Forward                       24,825.59  \n",
       "Total Profit / Loss available for Appropriations    40,106.06  \n",
       "APPROPRIATIONS                                                 \n",
       "Transfer To / From Statutory Reserve                 3,777.16  \n",
       "Transfer To / From Revenue And Other Reserves            0.00  \n",
       "Dividend and Dividend Tax for The Previous Year         -1.69  \n",
       "Equity Share Dividend                                    0.00  \n",
       "Tax On Dividend                                         25.60  \n",
       "Balance Carried Over To Balance Sheet               34,532.33  \n",
       "Total Appropriations                                40,106.06  \n",
       "OTHER ADDITIONAL INFORMATION                                   \n",
       "EARNINGS PER SHARE                                             \n",
       "Basic EPS (Rs.)                                         60.00  \n",
       "Diluted EPS (Rs.)                                       59.00  "
      ]
     },
     "execution_count": 64,
     "metadata": {},
     "output_type": "execute_result"
    }
   ],
   "source": [
    "h_df2"
   ]
  },
  {
   "cell_type": "code",
   "execution_count": 81,
   "metadata": {},
   "outputs": [],
   "source": [
    "hdfc_data = valuer(betas2021,companies2021,erpdata2021,'HDFC Bank',h_df1,h_df2,h_df3,capex=1617.38,dcf_type='equity',shares=5512776482)"
   ]
  },
  {
   "cell_type": "code",
   "execution_count": 82,
   "metadata": {},
   "outputs": [
    {
     "data": {
      "text/plain": [
       "2.034328529022314"
      ]
     },
     "execution_count": 82,
     "metadata": {},
     "output_type": "execute_result"
    }
   ],
   "source": [
    "hdfc_data.industry_beta_unlevered()"
   ]
  },
  {
   "cell_type": "code",
   "execution_count": 89,
   "metadata": {},
   "outputs": [],
   "source": [
    "profits = (h_df2.loc['Net Profit / Loss for The Year',:].apply(lambda s:float(s.replace(',',''))))"
   ]
  },
  {
   "cell_type": "code",
   "execution_count": 93,
   "metadata": {},
   "outputs": [],
   "source": [
    "ni_gr = (profits[0]/profits[-1])**0.25 - 1"
   ]
  },
  {
   "cell_type": "code",
   "execution_count": 97,
   "metadata": {},
   "outputs": [],
   "source": [
    "dis = hdfc_data.erp()*hdfc_data.industry_beta_unlevered() + hdfc_data.risk_free_rate"
   ]
  },
  {
   "cell_type": "code",
   "execution_count": 105,
   "metadata": {},
   "outputs": [],
   "source": [
    "gs=np.linspace(ni_gr,ni_gr-0.08,5)"
   ]
  },
  {
   "cell_type": "code",
   "execution_count": 107,
   "metadata": {},
   "outputs": [],
   "source": [
    "facs = (gs+1).cumprod()/np.array([(1+dis)**i for i in range(1,6)])"
   ]
  },
  {
   "cell_type": "code",
   "execution_count": 112,
   "metadata": {},
   "outputs": [],
   "source": [
    "eps0 = h_df1.loc['Diluted EPS (Rs.)',:].astype(float)[0]"
   ]
  },
  {
   "cell_type": "code",
   "execution_count": 118,
   "metadata": {},
   "outputs": [
    {
     "data": {
      "text/plain": [
       "1677.2551937753879"
      ]
     },
     "execution_count": 118,
     "metadata": {},
     "output_type": "execute_result"
    }
   ],
   "source": [
    "#Assume r = 0.15 and g = 6% in the long term\n",
    "eps0*facs.sum() + eps0*facs[-1]*1.06/(0.1-0.06)"
   ]
  },
  {
   "cell_type": "markdown",
   "metadata": {},
   "source": [
    "## Asian Paints"
   ]
  },
  {
   "cell_type": "code",
   "execution_count": 53,
   "metadata": {},
   "outputs": [],
   "source": [
    "ap_kundali = stock_ki_kundali('Asian Paints',['ratios','profit and loss statement','balance sheet'])\n",
    "\n",
    "ap_df1 = ap_kundali[0]\n",
    "ap_df2 = ap_kundali[1]\n",
    "ap_df3 = ap_kundali[2]"
   ]
  },
  {
   "cell_type": "code",
   "execution_count": 54,
   "metadata": {},
   "outputs": [
    {
     "data": {
      "text/html": [
       "<div>\n",
       "<style scoped>\n",
       "    .dataframe tbody tr th:only-of-type {\n",
       "        vertical-align: middle;\n",
       "    }\n",
       "\n",
       "    .dataframe tbody tr th {\n",
       "        vertical-align: top;\n",
       "    }\n",
       "\n",
       "    .dataframe thead th {\n",
       "        text-align: right;\n",
       "    }\n",
       "</style>\n",
       "<table border=\"1\" class=\"dataframe\">\n",
       "  <thead>\n",
       "    <tr style=\"text-align: right;\">\n",
       "      <th>Key Financial Ratios of Asian Paints (in Rs. Cr.)</th>\n",
       "      <th>Mar 21</th>\n",
       "      <th>Mar 20</th>\n",
       "      <th>Mar 19</th>\n",
       "      <th>Mar 18</th>\n",
       "      <th>Mar 17</th>\n",
       "    </tr>\n",
       "  </thead>\n",
       "  <tbody>\n",
       "    <tr>\n",
       "      <th>Per Share Ratios</th>\n",
       "      <td></td>\n",
       "      <td></td>\n",
       "      <td></td>\n",
       "      <td></td>\n",
       "      <td></td>\n",
       "    </tr>\n",
       "    <tr>\n",
       "      <th>Basic EPS (Rs.)</th>\n",
       "      <td>32.73</td>\n",
       "      <td>28.20</td>\n",
       "      <td>22.48</td>\n",
       "      <td>21.26</td>\n",
       "      <td>20.22</td>\n",
       "    </tr>\n",
       "    <tr>\n",
       "      <th>Diluted EPS (Rs.)</th>\n",
       "      <td>32.73</td>\n",
       "      <td>28.20</td>\n",
       "      <td>22.48</td>\n",
       "      <td>21.26</td>\n",
       "      <td>20.22</td>\n",
       "    </tr>\n",
       "    <tr>\n",
       "      <th>Cash EPS (Rs.)</th>\n",
       "      <td>41.38</td>\n",
       "      <td>36.53</td>\n",
       "      <td>29.08</td>\n",
       "      <td>25.15</td>\n",
       "      <td>23.99</td>\n",
       "    </tr>\n",
       "    <tr>\n",
       "      <th>Book Value [ExclRevalReserve]/Share (Rs.)</th>\n",
       "      <td>137.92</td>\n",
       "      <td>109.82</td>\n",
       "      <td>102.50</td>\n",
       "      <td>91.10</td>\n",
       "      <td>83.19</td>\n",
       "    </tr>\n",
       "    <tr>\n",
       "      <th>Book Value [InclRevalReserve]/Share (Rs.)</th>\n",
       "      <td>137.92</td>\n",
       "      <td>109.82</td>\n",
       "      <td>102.50</td>\n",
       "      <td>91.10</td>\n",
       "      <td>83.19</td>\n",
       "    </tr>\n",
       "    <tr>\n",
       "      <th>Revenue from Operations/Share (Rs.)</th>\n",
       "      <td>226.36</td>\n",
       "      <td>210.71</td>\n",
       "      <td>200.59</td>\n",
       "      <td>175.40</td>\n",
       "      <td>157.03</td>\n",
       "    </tr>\n",
       "    <tr>\n",
       "      <th>PBDIT/Share (Rs.)</th>\n",
       "      <td>53.78</td>\n",
       "      <td>46.56</td>\n",
       "      <td>41.69</td>\n",
       "      <td>35.64</td>\n",
       "      <td>33.87</td>\n",
       "    </tr>\n",
       "    <tr>\n",
       "      <th>PBIT/Share (Rs.)</th>\n",
       "      <td>45.53</td>\n",
       "      <td>38.42</td>\n",
       "      <td>35.20</td>\n",
       "      <td>31.88</td>\n",
       "      <td>30.38</td>\n",
       "    </tr>\n",
       "    <tr>\n",
       "      <th>PBT/Share (Rs.)</th>\n",
       "      <td>44.58</td>\n",
       "      <td>37.36</td>\n",
       "      <td>34.10</td>\n",
       "      <td>31.51</td>\n",
       "      <td>30.07</td>\n",
       "    </tr>\n",
       "    <tr>\n",
       "      <th>Net Profit/Share (Rs.)</th>\n",
       "      <td>33.13</td>\n",
       "      <td>28.39</td>\n",
       "      <td>22.59</td>\n",
       "      <td>21.39</td>\n",
       "      <td>20.50</td>\n",
       "    </tr>\n",
       "    <tr>\n",
       "      <th>NP After MI And SOA / Share (Rs.)</th>\n",
       "      <td>32.73</td>\n",
       "      <td>28.20</td>\n",
       "      <td>22.48</td>\n",
       "      <td>21.26</td>\n",
       "      <td>20.22</td>\n",
       "    </tr>\n",
       "    <tr>\n",
       "      <th>Profitability Ratios</th>\n",
       "      <td></td>\n",
       "      <td></td>\n",
       "      <td></td>\n",
       "      <td></td>\n",
       "      <td></td>\n",
       "    </tr>\n",
       "    <tr>\n",
       "      <th>PBDIT Margin (%)</th>\n",
       "      <td>23.75</td>\n",
       "      <td>22.09</td>\n",
       "      <td>20.78</td>\n",
       "      <td>20.31</td>\n",
       "      <td>21.56</td>\n",
       "    </tr>\n",
       "    <tr>\n",
       "      <th>PBIT Margin (%)</th>\n",
       "      <td>20.11</td>\n",
       "      <td>18.23</td>\n",
       "      <td>17.54</td>\n",
       "      <td>18.17</td>\n",
       "      <td>19.34</td>\n",
       "    </tr>\n",
       "    <tr>\n",
       "      <th>PBT Margin (%)</th>\n",
       "      <td>19.69</td>\n",
       "      <td>17.72</td>\n",
       "      <td>17.00</td>\n",
       "      <td>17.96</td>\n",
       "      <td>19.14</td>\n",
       "    </tr>\n",
       "    <tr>\n",
       "      <th>Net Profit Margin (%)</th>\n",
       "      <td>14.63</td>\n",
       "      <td>13.47</td>\n",
       "      <td>11.26</td>\n",
       "      <td>12.19</td>\n",
       "      <td>13.05</td>\n",
       "    </tr>\n",
       "    <tr>\n",
       "      <th>NP After MI And SOA Margin (%)</th>\n",
       "      <td>14.45</td>\n",
       "      <td>13.38</td>\n",
       "      <td>11.20</td>\n",
       "      <td>12.11</td>\n",
       "      <td>12.87</td>\n",
       "    </tr>\n",
       "    <tr>\n",
       "      <th>Return on Networth/Equity (%)</th>\n",
       "      <td>24.51</td>\n",
       "      <td>26.70</td>\n",
       "      <td>22.76</td>\n",
       "      <td>24.24</td>\n",
       "      <td>25.50</td>\n",
       "    </tr>\n",
       "    <tr>\n",
       "      <th>Return on Capital Employed (%)</th>\n",
       "      <td>30.23</td>\n",
       "      <td>31.30</td>\n",
       "      <td>30.42</td>\n",
       "      <td>32.76</td>\n",
       "      <td>34.13</td>\n",
       "    </tr>\n",
       "    <tr>\n",
       "      <th>Return on Assets (%)</th>\n",
       "      <td>15.41</td>\n",
       "      <td>16.74</td>\n",
       "      <td>13.24</td>\n",
       "      <td>14.79</td>\n",
       "      <td>15.61</td>\n",
       "    </tr>\n",
       "    <tr>\n",
       "      <th>Total Debt/Equity (X)</th>\n",
       "      <td>0.03</td>\n",
       "      <td>0.03</td>\n",
       "      <td>0.07</td>\n",
       "      <td>0.06</td>\n",
       "      <td>0.07</td>\n",
       "    </tr>\n",
       "    <tr>\n",
       "      <th>Asset Turnover Ratio (%)</th>\n",
       "      <td>106.59</td>\n",
       "      <td>125.11</td>\n",
       "      <td>118.19</td>\n",
       "      <td>122.06</td>\n",
       "      <td>121.25</td>\n",
       "    </tr>\n",
       "    <tr>\n",
       "      <th>Liquidity Ratios</th>\n",
       "      <td></td>\n",
       "      <td></td>\n",
       "      <td></td>\n",
       "      <td></td>\n",
       "      <td></td>\n",
       "    </tr>\n",
       "    <tr>\n",
       "      <th>Current Ratio (X)</th>\n",
       "      <td>2.03</td>\n",
       "      <td>1.73</td>\n",
       "      <td>1.47</td>\n",
       "      <td>1.55</td>\n",
       "      <td>1.79</td>\n",
       "    </tr>\n",
       "    <tr>\n",
       "      <th>Quick Ratio (X)</th>\n",
       "      <td>1.39</td>\n",
       "      <td>0.96</td>\n",
       "      <td>0.86</td>\n",
       "      <td>0.96</td>\n",
       "      <td>1.12</td>\n",
       "    </tr>\n",
       "    <tr>\n",
       "      <th>Inventory Turnover Ratio (X)</th>\n",
       "      <td>5.72</td>\n",
       "      <td>5.96</td>\n",
       "      <td>6.11</td>\n",
       "      <td>6.33</td>\n",
       "      <td>5.73</td>\n",
       "    </tr>\n",
       "    <tr>\n",
       "      <th>Dividend Payout Ratio (NP) (%)</th>\n",
       "      <td>0.00</td>\n",
       "      <td>64.35</td>\n",
       "      <td>39.59</td>\n",
       "      <td>48.45</td>\n",
       "      <td>39.31</td>\n",
       "    </tr>\n",
       "    <tr>\n",
       "      <th>Dividend Payout Ratio (CP) (%)</th>\n",
       "      <td>0.00</td>\n",
       "      <td>49.94</td>\n",
       "      <td>30.72</td>\n",
       "      <td>41.17</td>\n",
       "      <td>33.53</td>\n",
       "    </tr>\n",
       "    <tr>\n",
       "      <th>Earnings Retention Ratio (%)</th>\n",
       "      <td>0.00</td>\n",
       "      <td>35.65</td>\n",
       "      <td>60.41</td>\n",
       "      <td>51.55</td>\n",
       "      <td>60.69</td>\n",
       "    </tr>\n",
       "    <tr>\n",
       "      <th>Cash Earnings Retention Ratio (%)</th>\n",
       "      <td>0.00</td>\n",
       "      <td>50.06</td>\n",
       "      <td>69.28</td>\n",
       "      <td>58.83</td>\n",
       "      <td>66.47</td>\n",
       "    </tr>\n",
       "    <tr>\n",
       "      <th>Coverage Ratios</th>\n",
       "      <td></td>\n",
       "      <td></td>\n",
       "      <td></td>\n",
       "      <td></td>\n",
       "      <td></td>\n",
       "    </tr>\n",
       "    <tr>\n",
       "      <th>Interest Coverage Ratios (%)</th>\n",
       "      <td>47.66</td>\n",
       "      <td>36.02</td>\n",
       "      <td>32.07</td>\n",
       "      <td>87.19</td>\n",
       "      <td>97.17</td>\n",
       "    </tr>\n",
       "    <tr>\n",
       "      <th>Interest Coverage Ratios (Post Tax) (%)</th>\n",
       "      <td>47.66</td>\n",
       "      <td>36.02</td>\n",
       "      <td>32.07</td>\n",
       "      <td>87.19</td>\n",
       "      <td>97.17</td>\n",
       "    </tr>\n",
       "    <tr>\n",
       "      <th>Valuation Ratios</th>\n",
       "      <td></td>\n",
       "      <td></td>\n",
       "      <td></td>\n",
       "      <td></td>\n",
       "      <td></td>\n",
       "    </tr>\n",
       "    <tr>\n",
       "      <th>Enterprise Value (Cr.)</th>\n",
       "      <td>243,477.40</td>\n",
       "      <td>159,830.67</td>\n",
       "      <td>143,635.01</td>\n",
       "      <td>107,941.29</td>\n",
       "      <td>102,869.24</td>\n",
       "    </tr>\n",
       "    <tr>\n",
       "      <th>EV/Net Operating Revenue (X)</th>\n",
       "      <td>11.21</td>\n",
       "      <td>7.91</td>\n",
       "      <td>7.47</td>\n",
       "      <td>6.42</td>\n",
       "      <td>6.83</td>\n",
       "    </tr>\n",
       "    <tr>\n",
       "      <th>EV/EBITDA (X)</th>\n",
       "      <td>47.20</td>\n",
       "      <td>35.79</td>\n",
       "      <td>35.92</td>\n",
       "      <td>31.58</td>\n",
       "      <td>31.66</td>\n",
       "    </tr>\n",
       "    <tr>\n",
       "      <th>MarketCap/Net Operating Revenue (X)</th>\n",
       "      <td>11.21</td>\n",
       "      <td>7.91</td>\n",
       "      <td>7.44</td>\n",
       "      <td>6.39</td>\n",
       "      <td>6.82</td>\n",
       "    </tr>\n",
       "    <tr>\n",
       "      <th>Retention Ratios (%)</th>\n",
       "      <td>0.00</td>\n",
       "      <td>35.64</td>\n",
       "      <td>60.40</td>\n",
       "      <td>51.54</td>\n",
       "      <td>60.68</td>\n",
       "    </tr>\n",
       "    <tr>\n",
       "      <th>Price/BV (X)</th>\n",
       "      <td>19.00</td>\n",
       "      <td>15.78</td>\n",
       "      <td>15.11</td>\n",
       "      <td>12.78</td>\n",
       "      <td>13.51</td>\n",
       "    </tr>\n",
       "    <tr>\n",
       "      <th>Price/Net Operating Revenue</th>\n",
       "      <td>11.21</td>\n",
       "      <td>7.91</td>\n",
       "      <td>7.44</td>\n",
       "      <td>6.39</td>\n",
       "      <td>6.82</td>\n",
       "    </tr>\n",
       "    <tr>\n",
       "      <th>Earnings Yield</th>\n",
       "      <td>0.01</td>\n",
       "      <td>0.02</td>\n",
       "      <td>0.02</td>\n",
       "      <td>0.02</td>\n",
       "      <td>0.02</td>\n",
       "    </tr>\n",
       "  </tbody>\n",
       "</table>\n",
       "</div>"
      ],
      "text/plain": [
       "Key Financial Ratios of Asian Paints (in Rs. Cr.)      Mar 21      Mar 20  \\\n",
       "Per Share Ratios                                                            \n",
       "Basic EPS (Rs.)                                         32.73       28.20   \n",
       "Diluted EPS (Rs.)                                       32.73       28.20   \n",
       "Cash EPS (Rs.)                                          41.38       36.53   \n",
       "Book Value [ExclRevalReserve]/Share (Rs.)              137.92      109.82   \n",
       "Book Value [InclRevalReserve]/Share (Rs.)              137.92      109.82   \n",
       "Revenue from Operations/Share (Rs.)                    226.36      210.71   \n",
       "PBDIT/Share (Rs.)                                       53.78       46.56   \n",
       "PBIT/Share (Rs.)                                        45.53       38.42   \n",
       "PBT/Share (Rs.)                                         44.58       37.36   \n",
       "Net Profit/Share (Rs.)                                  33.13       28.39   \n",
       "NP After MI And SOA / Share (Rs.)                       32.73       28.20   \n",
       "Profitability Ratios                                                        \n",
       "PBDIT Margin (%)                                        23.75       22.09   \n",
       "PBIT Margin (%)                                         20.11       18.23   \n",
       "PBT Margin (%)                                          19.69       17.72   \n",
       "Net Profit Margin (%)                                   14.63       13.47   \n",
       "NP After MI And SOA Margin (%)                          14.45       13.38   \n",
       "Return on Networth/Equity (%)                           24.51       26.70   \n",
       "Return on Capital Employed (%)                          30.23       31.30   \n",
       "Return on Assets (%)                                    15.41       16.74   \n",
       "Total Debt/Equity (X)                                    0.03        0.03   \n",
       "Asset Turnover Ratio (%)                               106.59      125.11   \n",
       "Liquidity Ratios                                                            \n",
       "Current Ratio (X)                                        2.03        1.73   \n",
       "Quick Ratio (X)                                          1.39        0.96   \n",
       "Inventory Turnover Ratio (X)                             5.72        5.96   \n",
       "Dividend Payout Ratio (NP) (%)                           0.00       64.35   \n",
       "Dividend Payout Ratio (CP) (%)                           0.00       49.94   \n",
       "Earnings Retention Ratio (%)                             0.00       35.65   \n",
       "Cash Earnings Retention Ratio (%)                        0.00       50.06   \n",
       "Coverage Ratios                                                             \n",
       "Interest Coverage Ratios (%)                            47.66       36.02   \n",
       "Interest Coverage Ratios (Post Tax) (%)                 47.66       36.02   \n",
       "Valuation Ratios                                                            \n",
       "Enterprise Value (Cr.)                             243,477.40  159,830.67   \n",
       "EV/Net Operating Revenue (X)                            11.21        7.91   \n",
       "EV/EBITDA (X)                                           47.20       35.79   \n",
       "MarketCap/Net Operating Revenue (X)                     11.21        7.91   \n",
       "Retention Ratios (%)                                     0.00       35.64   \n",
       "Price/BV (X)                                            19.00       15.78   \n",
       "Price/Net Operating Revenue                             11.21        7.91   \n",
       "Earnings Yield                                           0.01        0.02   \n",
       "\n",
       "Key Financial Ratios of Asian Paints (in Rs. Cr.)      Mar 19      Mar 18  \\\n",
       "Per Share Ratios                                                            \n",
       "Basic EPS (Rs.)                                         22.48       21.26   \n",
       "Diluted EPS (Rs.)                                       22.48       21.26   \n",
       "Cash EPS (Rs.)                                          29.08       25.15   \n",
       "Book Value [ExclRevalReserve]/Share (Rs.)              102.50       91.10   \n",
       "Book Value [InclRevalReserve]/Share (Rs.)              102.50       91.10   \n",
       "Revenue from Operations/Share (Rs.)                    200.59      175.40   \n",
       "PBDIT/Share (Rs.)                                       41.69       35.64   \n",
       "PBIT/Share (Rs.)                                        35.20       31.88   \n",
       "PBT/Share (Rs.)                                         34.10       31.51   \n",
       "Net Profit/Share (Rs.)                                  22.59       21.39   \n",
       "NP After MI And SOA / Share (Rs.)                       22.48       21.26   \n",
       "Profitability Ratios                                                        \n",
       "PBDIT Margin (%)                                        20.78       20.31   \n",
       "PBIT Margin (%)                                         17.54       18.17   \n",
       "PBT Margin (%)                                          17.00       17.96   \n",
       "Net Profit Margin (%)                                   11.26       12.19   \n",
       "NP After MI And SOA Margin (%)                          11.20       12.11   \n",
       "Return on Networth/Equity (%)                           22.76       24.24   \n",
       "Return on Capital Employed (%)                          30.42       32.76   \n",
       "Return on Assets (%)                                    13.24       14.79   \n",
       "Total Debt/Equity (X)                                    0.07        0.06   \n",
       "Asset Turnover Ratio (%)                               118.19      122.06   \n",
       "Liquidity Ratios                                                            \n",
       "Current Ratio (X)                                        1.47        1.55   \n",
       "Quick Ratio (X)                                          0.86        0.96   \n",
       "Inventory Turnover Ratio (X)                             6.11        6.33   \n",
       "Dividend Payout Ratio (NP) (%)                          39.59       48.45   \n",
       "Dividend Payout Ratio (CP) (%)                          30.72       41.17   \n",
       "Earnings Retention Ratio (%)                            60.41       51.55   \n",
       "Cash Earnings Retention Ratio (%)                       69.28       58.83   \n",
       "Coverage Ratios                                                             \n",
       "Interest Coverage Ratios (%)                            32.07       87.19   \n",
       "Interest Coverage Ratios (Post Tax) (%)                 32.07       87.19   \n",
       "Valuation Ratios                                                            \n",
       "Enterprise Value (Cr.)                             143,635.01  107,941.29   \n",
       "EV/Net Operating Revenue (X)                             7.47        6.42   \n",
       "EV/EBITDA (X)                                           35.92       31.58   \n",
       "MarketCap/Net Operating Revenue (X)                      7.44        6.39   \n",
       "Retention Ratios (%)                                    60.40       51.54   \n",
       "Price/BV (X)                                            15.11       12.78   \n",
       "Price/Net Operating Revenue                              7.44        6.39   \n",
       "Earnings Yield                                           0.02        0.02   \n",
       "\n",
       "Key Financial Ratios of Asian Paints (in Rs. Cr.)      Mar 17  \n",
       "Per Share Ratios                                               \n",
       "Basic EPS (Rs.)                                         20.22  \n",
       "Diluted EPS (Rs.)                                       20.22  \n",
       "Cash EPS (Rs.)                                          23.99  \n",
       "Book Value [ExclRevalReserve]/Share (Rs.)               83.19  \n",
       "Book Value [InclRevalReserve]/Share (Rs.)               83.19  \n",
       "Revenue from Operations/Share (Rs.)                    157.03  \n",
       "PBDIT/Share (Rs.)                                       33.87  \n",
       "PBIT/Share (Rs.)                                        30.38  \n",
       "PBT/Share (Rs.)                                         30.07  \n",
       "Net Profit/Share (Rs.)                                  20.50  \n",
       "NP After MI And SOA / Share (Rs.)                       20.22  \n",
       "Profitability Ratios                                           \n",
       "PBDIT Margin (%)                                        21.56  \n",
       "PBIT Margin (%)                                         19.34  \n",
       "PBT Margin (%)                                          19.14  \n",
       "Net Profit Margin (%)                                   13.05  \n",
       "NP After MI And SOA Margin (%)                          12.87  \n",
       "Return on Networth/Equity (%)                           25.50  \n",
       "Return on Capital Employed (%)                          34.13  \n",
       "Return on Assets (%)                                    15.61  \n",
       "Total Debt/Equity (X)                                    0.07  \n",
       "Asset Turnover Ratio (%)                               121.25  \n",
       "Liquidity Ratios                                               \n",
       "Current Ratio (X)                                        1.79  \n",
       "Quick Ratio (X)                                          1.12  \n",
       "Inventory Turnover Ratio (X)                             5.73  \n",
       "Dividend Payout Ratio (NP) (%)                          39.31  \n",
       "Dividend Payout Ratio (CP) (%)                          33.53  \n",
       "Earnings Retention Ratio (%)                            60.69  \n",
       "Cash Earnings Retention Ratio (%)                       66.47  \n",
       "Coverage Ratios                                                \n",
       "Interest Coverage Ratios (%)                            97.17  \n",
       "Interest Coverage Ratios (Post Tax) (%)                 97.17  \n",
       "Valuation Ratios                                               \n",
       "Enterprise Value (Cr.)                             102,869.24  \n",
       "EV/Net Operating Revenue (X)                             6.83  \n",
       "EV/EBITDA (X)                                           31.66  \n",
       "MarketCap/Net Operating Revenue (X)                      6.82  \n",
       "Retention Ratios (%)                                    60.68  \n",
       "Price/BV (X)                                            13.51  \n",
       "Price/Net Operating Revenue                              6.82  \n",
       "Earnings Yield                                           0.02  "
      ]
     },
     "execution_count": 54,
     "metadata": {},
     "output_type": "execute_result"
    }
   ],
   "source": [
    "ap_df1"
   ]
  },
  {
   "cell_type": "code",
   "execution_count": 94,
   "metadata": {},
   "outputs": [],
   "source": [
    "ap_data = valuer(betas2021,companies2021,erpdata2021,'Asian Paints',ap_df1,ap_df2,ap_df3,capex=288.71,dcf_type='firm',shares=95919779)"
   ]
  },
  {
   "cell_type": "code",
   "execution_count": 95,
   "metadata": {},
   "outputs": [
    {
     "data": {
      "text/plain": [
       "0.12097286086539372"
      ]
     },
     "execution_count": 95,
     "metadata": {},
     "output_type": "execute_result"
    }
   ],
   "source": [
    "ap_data.r()"
   ]
  },
  {
   "cell_type": "code",
   "execution_count": 59,
   "metadata": {},
   "outputs": [
    {
     "data": {
      "text/plain": [
       "0.12329263441095298"
      ]
     },
     "execution_count": 59,
     "metadata": {},
     "output_type": "execute_result"
    }
   ],
   "source": [
    "ap_data.r_equity()"
   ]
  },
  {
   "cell_type": "code",
   "execution_count": 61,
   "metadata": {},
   "outputs": [
    {
     "data": {
      "text/plain": [
       "849.55776699029"
      ]
     },
     "execution_count": 61,
     "metadata": {},
     "output_type": "execute_result"
    }
   ],
   "source": [
    "ap_data.FCFE()"
   ]
  },
  {
   "cell_type": "code",
   "execution_count": 62,
   "metadata": {},
   "outputs": [
    {
     "data": {
      "text/plain": [
       "2768.4559999999997"
      ]
     },
     "execution_count": 62,
     "metadata": {},
     "output_type": "execute_result"
    }
   ],
   "source": [
    "ap_data.FCFF()"
   ]
  },
  {
   "cell_type": "code",
   "execution_count": 64,
   "metadata": {},
   "outputs": [
    {
     "data": {
      "text/plain": [
       "0.12748917438575558"
      ]
     },
     "execution_count": 64,
     "metadata": {},
     "output_type": "execute_result"
    }
   ],
   "source": [
    "ap_data.growth_ni()"
   ]
  },
  {
   "cell_type": "code",
   "execution_count": 66,
   "metadata": {},
   "outputs": [
    {
     "data": {
      "text/plain": [
       "0.23990398479535235"
      ]
     },
     "execution_count": 66,
     "metadata": {},
     "output_type": "execute_result"
    }
   ],
   "source": [
    "ap_data.rev_growth()"
   ]
  },
  {
   "cell_type": "code",
   "execution_count": 68,
   "metadata": {},
   "outputs": [
    {
     "data": {
      "text/plain": [
       "1.1732903791472213"
      ]
     },
     "execution_count": 68,
     "metadata": {},
     "output_type": "execute_result"
    }
   ],
   "source": [
    "ap_data.beta()"
   ]
  },
  {
   "cell_type": "code",
   "execution_count": 69,
   "metadata": {},
   "outputs": [
    {
     "data": {
      "text/plain": [
       "0.03"
      ]
     },
     "execution_count": 69,
     "metadata": {},
     "output_type": "execute_result"
    }
   ],
   "source": [
    "ap_data.DE()"
   ]
  },
  {
   "cell_type": "code",
   "execution_count": 70,
   "metadata": {},
   "outputs": [
    {
     "data": {
      "text/plain": [
       "0.029126213592233007"
      ]
     },
     "execution_count": 70,
     "metadata": {},
     "output_type": "execute_result"
    }
   ],
   "source": [
    "ap_data.DR()"
   ]
  },
  {
   "cell_type": "code",
   "execution_count": 71,
   "metadata": {},
   "outputs": [
    {
     "data": {
      "text/html": [
       "<div>\n",
       "<style scoped>\n",
       "    .dataframe tbody tr th:only-of-type {\n",
       "        vertical-align: middle;\n",
       "    }\n",
       "\n",
       "    .dataframe tbody tr th {\n",
       "        vertical-align: top;\n",
       "    }\n",
       "\n",
       "    .dataframe thead th {\n",
       "        text-align: right;\n",
       "    }\n",
       "</style>\n",
       "<table border=\"1\" class=\"dataframe\">\n",
       "  <thead>\n",
       "    <tr style=\"text-align: right;\">\n",
       "      <th>Balance Sheet of Asian Paints (in Rs. Cr.)</th>\n",
       "      <th>Mar 21</th>\n",
       "      <th>Mar 20</th>\n",
       "      <th>Mar 19</th>\n",
       "      <th>Mar 18</th>\n",
       "      <th>Mar 17</th>\n",
       "    </tr>\n",
       "  </thead>\n",
       "  <tbody>\n",
       "    <tr>\n",
       "      <th>Total Share Capital</th>\n",
       "      <td>95.92</td>\n",
       "      <td>95.92</td>\n",
       "      <td>95.92</td>\n",
       "      <td>95.92</td>\n",
       "      <td>95.92</td>\n",
       "    </tr>\n",
       "    <tr>\n",
       "      <th>Total Reserves and Surplus</th>\n",
       "      <td>12710.37</td>\n",
       "      <td>10034.24</td>\n",
       "      <td>9374.63</td>\n",
       "      <td>8314.31</td>\n",
       "      <td>7507.97</td>\n",
       "    </tr>\n",
       "    <tr>\n",
       "      <th>Total Shareholders Funds</th>\n",
       "      <td>12806.29</td>\n",
       "      <td>10130.16</td>\n",
       "      <td>9470.55</td>\n",
       "      <td>8410.23</td>\n",
       "      <td>7603.89</td>\n",
       "    </tr>\n",
       "    <tr>\n",
       "      <th>Total Non-Current Liabilities</th>\n",
       "      <td>1214.61</td>\n",
       "      <td>1240.70</td>\n",
       "      <td>1266.20</td>\n",
       "      <td>594.13</td>\n",
       "      <td>557.14</td>\n",
       "    </tr>\n",
       "    <tr>\n",
       "      <th>Total Current Liabilities</th>\n",
       "      <td>5925.86</td>\n",
       "      <td>4380.38</td>\n",
       "      <td>5180.10</td>\n",
       "      <td>4451.07</td>\n",
       "      <td>3884.87</td>\n",
       "    </tr>\n",
       "    <tr>\n",
       "      <th>Total Capital And Liabilities</th>\n",
       "      <td>20369.62</td>\n",
       "      <td>16154.77</td>\n",
       "      <td>16278.10</td>\n",
       "      <td>13783.08</td>\n",
       "      <td>12421.35</td>\n",
       "    </tr>\n",
       "    <tr>\n",
       "      <th>Fixed Assets</th>\n",
       "      <td>5738.87</td>\n",
       "      <td>6092.56</td>\n",
       "      <td>6384.93</td>\n",
       "      <td>4810.09</td>\n",
       "      <td>3367.80</td>\n",
       "    </tr>\n",
       "    <tr>\n",
       "      <th>Total Non-Current Assets</th>\n",
       "      <td>8343.02</td>\n",
       "      <td>8574.66</td>\n",
       "      <td>8651.15</td>\n",
       "      <td>6869.00</td>\n",
       "      <td>5455.67</td>\n",
       "    </tr>\n",
       "    <tr>\n",
       "      <th>Total Current Assets</th>\n",
       "      <td>12026.60</td>\n",
       "      <td>7580.11</td>\n",
       "      <td>7626.95</td>\n",
       "      <td>6914.08</td>\n",
       "      <td>6965.68</td>\n",
       "    </tr>\n",
       "    <tr>\n",
       "      <th>Total Assets</th>\n",
       "      <td>20369.62</td>\n",
       "      <td>16154.77</td>\n",
       "      <td>16278.10</td>\n",
       "      <td>13783.08</td>\n",
       "      <td>12421.35</td>\n",
       "    </tr>\n",
       "  </tbody>\n",
       "</table>\n",
       "</div>"
      ],
      "text/plain": [
       "Balance Sheet of Asian Paints (in Rs. Cr.)    Mar 21    Mar 20    Mar 19  \\\n",
       "Total Share Capital                            95.92     95.92     95.92   \n",
       "Total Reserves and Surplus                  12710.37  10034.24   9374.63   \n",
       "Total Shareholders Funds                    12806.29  10130.16   9470.55   \n",
       "Total Non-Current Liabilities                1214.61   1240.70   1266.20   \n",
       "Total Current Liabilities                    5925.86   4380.38   5180.10   \n",
       "Total Capital And Liabilities               20369.62  16154.77  16278.10   \n",
       "Fixed Assets                                 5738.87   6092.56   6384.93   \n",
       "Total Non-Current Assets                     8343.02   8574.66   8651.15   \n",
       "Total Current Assets                        12026.60   7580.11   7626.95   \n",
       "Total Assets                                20369.62  16154.77  16278.10   \n",
       "\n",
       "Balance Sheet of Asian Paints (in Rs. Cr.)    Mar 18    Mar 17  \n",
       "Total Share Capital                            95.92     95.92  \n",
       "Total Reserves and Surplus                   8314.31   7507.97  \n",
       "Total Shareholders Funds                     8410.23   7603.89  \n",
       "Total Non-Current Liabilities                 594.13    557.14  \n",
       "Total Current Liabilities                    4451.07   3884.87  \n",
       "Total Capital And Liabilities               13783.08  12421.35  \n",
       "Fixed Assets                                 4810.09   3367.80  \n",
       "Total Non-Current Assets                     6869.00   5455.67  \n",
       "Total Current Assets                         6914.08   6965.68  \n",
       "Total Assets                                13783.08  12421.35  "
      ]
     },
     "execution_count": 71,
     "metadata": {},
     "output_type": "execute_result"
    }
   ],
   "source": [
    "ap_data.balance"
   ]
  },
  {
   "cell_type": "code",
   "execution_count": 73,
   "metadata": {},
   "outputs": [
    {
     "data": {
      "text/html": [
       "<div>\n",
       "<style scoped>\n",
       "    .dataframe tbody tr th:only-of-type {\n",
       "        vertical-align: middle;\n",
       "    }\n",
       "\n",
       "    .dataframe tbody tr th {\n",
       "        vertical-align: top;\n",
       "    }\n",
       "\n",
       "    .dataframe thead th {\n",
       "        text-align: right;\n",
       "    }\n",
       "</style>\n",
       "<table border=\"1\" class=\"dataframe\">\n",
       "  <thead>\n",
       "    <tr style=\"text-align: right;\">\n",
       "      <th>Key Financial Ratios of Asian Paints (in Rs. Cr.)</th>\n",
       "      <th>Mar 21</th>\n",
       "      <th>Mar 20</th>\n",
       "      <th>Mar 19</th>\n",
       "      <th>Mar 18</th>\n",
       "      <th>Mar 17</th>\n",
       "    </tr>\n",
       "  </thead>\n",
       "  <tbody>\n",
       "    <tr>\n",
       "      <th>Per Share Ratios</th>\n",
       "      <td></td>\n",
       "      <td></td>\n",
       "      <td></td>\n",
       "      <td></td>\n",
       "      <td></td>\n",
       "    </tr>\n",
       "    <tr>\n",
       "      <th>Basic EPS (Rs.)</th>\n",
       "      <td>32.73</td>\n",
       "      <td>28.20</td>\n",
       "      <td>22.48</td>\n",
       "      <td>21.26</td>\n",
       "      <td>20.22</td>\n",
       "    </tr>\n",
       "    <tr>\n",
       "      <th>Diluted EPS (Rs.)</th>\n",
       "      <td>32.73</td>\n",
       "      <td>28.20</td>\n",
       "      <td>22.48</td>\n",
       "      <td>21.26</td>\n",
       "      <td>20.22</td>\n",
       "    </tr>\n",
       "    <tr>\n",
       "      <th>Cash EPS (Rs.)</th>\n",
       "      <td>41.38</td>\n",
       "      <td>36.53</td>\n",
       "      <td>29.08</td>\n",
       "      <td>25.15</td>\n",
       "      <td>23.99</td>\n",
       "    </tr>\n",
       "    <tr>\n",
       "      <th>Book Value [ExclRevalReserve]/Share (Rs.)</th>\n",
       "      <td>137.92</td>\n",
       "      <td>109.82</td>\n",
       "      <td>102.50</td>\n",
       "      <td>91.10</td>\n",
       "      <td>83.19</td>\n",
       "    </tr>\n",
       "    <tr>\n",
       "      <th>Book Value [InclRevalReserve]/Share (Rs.)</th>\n",
       "      <td>137.92</td>\n",
       "      <td>109.82</td>\n",
       "      <td>102.50</td>\n",
       "      <td>91.10</td>\n",
       "      <td>83.19</td>\n",
       "    </tr>\n",
       "    <tr>\n",
       "      <th>Revenue from Operations/Share (Rs.)</th>\n",
       "      <td>226.36</td>\n",
       "      <td>210.71</td>\n",
       "      <td>200.59</td>\n",
       "      <td>175.40</td>\n",
       "      <td>157.03</td>\n",
       "    </tr>\n",
       "    <tr>\n",
       "      <th>PBDIT/Share (Rs.)</th>\n",
       "      <td>53.78</td>\n",
       "      <td>46.56</td>\n",
       "      <td>41.69</td>\n",
       "      <td>35.64</td>\n",
       "      <td>33.87</td>\n",
       "    </tr>\n",
       "    <tr>\n",
       "      <th>PBIT/Share (Rs.)</th>\n",
       "      <td>45.53</td>\n",
       "      <td>38.42</td>\n",
       "      <td>35.20</td>\n",
       "      <td>31.88</td>\n",
       "      <td>30.38</td>\n",
       "    </tr>\n",
       "    <tr>\n",
       "      <th>PBT/Share (Rs.)</th>\n",
       "      <td>44.58</td>\n",
       "      <td>37.36</td>\n",
       "      <td>34.10</td>\n",
       "      <td>31.51</td>\n",
       "      <td>30.07</td>\n",
       "    </tr>\n",
       "    <tr>\n",
       "      <th>Net Profit/Share (Rs.)</th>\n",
       "      <td>33.13</td>\n",
       "      <td>28.39</td>\n",
       "      <td>22.59</td>\n",
       "      <td>21.39</td>\n",
       "      <td>20.50</td>\n",
       "    </tr>\n",
       "    <tr>\n",
       "      <th>NP After MI And SOA / Share (Rs.)</th>\n",
       "      <td>32.73</td>\n",
       "      <td>28.20</td>\n",
       "      <td>22.48</td>\n",
       "      <td>21.26</td>\n",
       "      <td>20.22</td>\n",
       "    </tr>\n",
       "    <tr>\n",
       "      <th>Profitability Ratios</th>\n",
       "      <td></td>\n",
       "      <td></td>\n",
       "      <td></td>\n",
       "      <td></td>\n",
       "      <td></td>\n",
       "    </tr>\n",
       "    <tr>\n",
       "      <th>PBDIT Margin (%)</th>\n",
       "      <td>23.75</td>\n",
       "      <td>22.09</td>\n",
       "      <td>20.78</td>\n",
       "      <td>20.31</td>\n",
       "      <td>21.56</td>\n",
       "    </tr>\n",
       "    <tr>\n",
       "      <th>PBIT Margin (%)</th>\n",
       "      <td>20.11</td>\n",
       "      <td>18.23</td>\n",
       "      <td>17.54</td>\n",
       "      <td>18.17</td>\n",
       "      <td>19.34</td>\n",
       "    </tr>\n",
       "    <tr>\n",
       "      <th>PBT Margin (%)</th>\n",
       "      <td>19.69</td>\n",
       "      <td>17.72</td>\n",
       "      <td>17.00</td>\n",
       "      <td>17.96</td>\n",
       "      <td>19.14</td>\n",
       "    </tr>\n",
       "    <tr>\n",
       "      <th>Net Profit Margin (%)</th>\n",
       "      <td>14.63</td>\n",
       "      <td>13.47</td>\n",
       "      <td>11.26</td>\n",
       "      <td>12.19</td>\n",
       "      <td>13.05</td>\n",
       "    </tr>\n",
       "    <tr>\n",
       "      <th>NP After MI And SOA Margin (%)</th>\n",
       "      <td>14.45</td>\n",
       "      <td>13.38</td>\n",
       "      <td>11.20</td>\n",
       "      <td>12.11</td>\n",
       "      <td>12.87</td>\n",
       "    </tr>\n",
       "    <tr>\n",
       "      <th>Return on Networth/Equity (%)</th>\n",
       "      <td>24.51</td>\n",
       "      <td>26.70</td>\n",
       "      <td>22.76</td>\n",
       "      <td>24.24</td>\n",
       "      <td>25.50</td>\n",
       "    </tr>\n",
       "    <tr>\n",
       "      <th>Return on Capital Employed (%)</th>\n",
       "      <td>30.23</td>\n",
       "      <td>31.30</td>\n",
       "      <td>30.42</td>\n",
       "      <td>32.76</td>\n",
       "      <td>34.13</td>\n",
       "    </tr>\n",
       "    <tr>\n",
       "      <th>Return on Assets (%)</th>\n",
       "      <td>15.41</td>\n",
       "      <td>16.74</td>\n",
       "      <td>13.24</td>\n",
       "      <td>14.79</td>\n",
       "      <td>15.61</td>\n",
       "    </tr>\n",
       "    <tr>\n",
       "      <th>Total Debt/Equity (X)</th>\n",
       "      <td>0.03</td>\n",
       "      <td>0.03</td>\n",
       "      <td>0.07</td>\n",
       "      <td>0.06</td>\n",
       "      <td>0.07</td>\n",
       "    </tr>\n",
       "    <tr>\n",
       "      <th>Asset Turnover Ratio (%)</th>\n",
       "      <td>106.59</td>\n",
       "      <td>125.11</td>\n",
       "      <td>118.19</td>\n",
       "      <td>122.06</td>\n",
       "      <td>121.25</td>\n",
       "    </tr>\n",
       "    <tr>\n",
       "      <th>Liquidity Ratios</th>\n",
       "      <td></td>\n",
       "      <td></td>\n",
       "      <td></td>\n",
       "      <td></td>\n",
       "      <td></td>\n",
       "    </tr>\n",
       "    <tr>\n",
       "      <th>Current Ratio (X)</th>\n",
       "      <td>2.03</td>\n",
       "      <td>1.73</td>\n",
       "      <td>1.47</td>\n",
       "      <td>1.55</td>\n",
       "      <td>1.79</td>\n",
       "    </tr>\n",
       "    <tr>\n",
       "      <th>Quick Ratio (X)</th>\n",
       "      <td>1.39</td>\n",
       "      <td>0.96</td>\n",
       "      <td>0.86</td>\n",
       "      <td>0.96</td>\n",
       "      <td>1.12</td>\n",
       "    </tr>\n",
       "    <tr>\n",
       "      <th>Inventory Turnover Ratio (X)</th>\n",
       "      <td>5.72</td>\n",
       "      <td>5.96</td>\n",
       "      <td>6.11</td>\n",
       "      <td>6.33</td>\n",
       "      <td>5.73</td>\n",
       "    </tr>\n",
       "    <tr>\n",
       "      <th>Dividend Payout Ratio (NP) (%)</th>\n",
       "      <td>0.00</td>\n",
       "      <td>64.35</td>\n",
       "      <td>39.59</td>\n",
       "      <td>48.45</td>\n",
       "      <td>39.31</td>\n",
       "    </tr>\n",
       "    <tr>\n",
       "      <th>Dividend Payout Ratio (CP) (%)</th>\n",
       "      <td>0.00</td>\n",
       "      <td>49.94</td>\n",
       "      <td>30.72</td>\n",
       "      <td>41.17</td>\n",
       "      <td>33.53</td>\n",
       "    </tr>\n",
       "    <tr>\n",
       "      <th>Earnings Retention Ratio (%)</th>\n",
       "      <td>0.00</td>\n",
       "      <td>35.65</td>\n",
       "      <td>60.41</td>\n",
       "      <td>51.55</td>\n",
       "      <td>60.69</td>\n",
       "    </tr>\n",
       "    <tr>\n",
       "      <th>Cash Earnings Retention Ratio (%)</th>\n",
       "      <td>0.00</td>\n",
       "      <td>50.06</td>\n",
       "      <td>69.28</td>\n",
       "      <td>58.83</td>\n",
       "      <td>66.47</td>\n",
       "    </tr>\n",
       "    <tr>\n",
       "      <th>Coverage Ratios</th>\n",
       "      <td></td>\n",
       "      <td></td>\n",
       "      <td></td>\n",
       "      <td></td>\n",
       "      <td></td>\n",
       "    </tr>\n",
       "    <tr>\n",
       "      <th>Interest Coverage Ratios (%)</th>\n",
       "      <td>47.66</td>\n",
       "      <td>36.02</td>\n",
       "      <td>32.07</td>\n",
       "      <td>87.19</td>\n",
       "      <td>97.17</td>\n",
       "    </tr>\n",
       "    <tr>\n",
       "      <th>Interest Coverage Ratios (Post Tax) (%)</th>\n",
       "      <td>47.66</td>\n",
       "      <td>36.02</td>\n",
       "      <td>32.07</td>\n",
       "      <td>87.19</td>\n",
       "      <td>97.17</td>\n",
       "    </tr>\n",
       "    <tr>\n",
       "      <th>Valuation Ratios</th>\n",
       "      <td></td>\n",
       "      <td></td>\n",
       "      <td></td>\n",
       "      <td></td>\n",
       "      <td></td>\n",
       "    </tr>\n",
       "    <tr>\n",
       "      <th>Enterprise Value (Cr.)</th>\n",
       "      <td>243,477.40</td>\n",
       "      <td>159,830.67</td>\n",
       "      <td>143,635.01</td>\n",
       "      <td>107,941.29</td>\n",
       "      <td>102,869.24</td>\n",
       "    </tr>\n",
       "    <tr>\n",
       "      <th>EV/Net Operating Revenue (X)</th>\n",
       "      <td>11.21</td>\n",
       "      <td>7.91</td>\n",
       "      <td>7.47</td>\n",
       "      <td>6.42</td>\n",
       "      <td>6.83</td>\n",
       "    </tr>\n",
       "    <tr>\n",
       "      <th>EV/EBITDA (X)</th>\n",
       "      <td>47.20</td>\n",
       "      <td>35.79</td>\n",
       "      <td>35.92</td>\n",
       "      <td>31.58</td>\n",
       "      <td>31.66</td>\n",
       "    </tr>\n",
       "    <tr>\n",
       "      <th>MarketCap/Net Operating Revenue (X)</th>\n",
       "      <td>11.21</td>\n",
       "      <td>7.91</td>\n",
       "      <td>7.44</td>\n",
       "      <td>6.39</td>\n",
       "      <td>6.82</td>\n",
       "    </tr>\n",
       "    <tr>\n",
       "      <th>Retention Ratios (%)</th>\n",
       "      <td>0.00</td>\n",
       "      <td>35.64</td>\n",
       "      <td>60.40</td>\n",
       "      <td>51.54</td>\n",
       "      <td>60.68</td>\n",
       "    </tr>\n",
       "    <tr>\n",
       "      <th>Price/BV (X)</th>\n",
       "      <td>19.00</td>\n",
       "      <td>15.78</td>\n",
       "      <td>15.11</td>\n",
       "      <td>12.78</td>\n",
       "      <td>13.51</td>\n",
       "    </tr>\n",
       "    <tr>\n",
       "      <th>Price/Net Operating Revenue</th>\n",
       "      <td>11.21</td>\n",
       "      <td>7.91</td>\n",
       "      <td>7.44</td>\n",
       "      <td>6.39</td>\n",
       "      <td>6.82</td>\n",
       "    </tr>\n",
       "    <tr>\n",
       "      <th>Earnings Yield</th>\n",
       "      <td>0.01</td>\n",
       "      <td>0.02</td>\n",
       "      <td>0.02</td>\n",
       "      <td>0.02</td>\n",
       "      <td>0.02</td>\n",
       "    </tr>\n",
       "  </tbody>\n",
       "</table>\n",
       "</div>"
      ],
      "text/plain": [
       "Key Financial Ratios of Asian Paints (in Rs. Cr.)      Mar 21      Mar 20  \\\n",
       "Per Share Ratios                                                            \n",
       "Basic EPS (Rs.)                                         32.73       28.20   \n",
       "Diluted EPS (Rs.)                                       32.73       28.20   \n",
       "Cash EPS (Rs.)                                          41.38       36.53   \n",
       "Book Value [ExclRevalReserve]/Share (Rs.)              137.92      109.82   \n",
       "Book Value [InclRevalReserve]/Share (Rs.)              137.92      109.82   \n",
       "Revenue from Operations/Share (Rs.)                    226.36      210.71   \n",
       "PBDIT/Share (Rs.)                                       53.78       46.56   \n",
       "PBIT/Share (Rs.)                                        45.53       38.42   \n",
       "PBT/Share (Rs.)                                         44.58       37.36   \n",
       "Net Profit/Share (Rs.)                                  33.13       28.39   \n",
       "NP After MI And SOA / Share (Rs.)                       32.73       28.20   \n",
       "Profitability Ratios                                                        \n",
       "PBDIT Margin (%)                                        23.75       22.09   \n",
       "PBIT Margin (%)                                         20.11       18.23   \n",
       "PBT Margin (%)                                          19.69       17.72   \n",
       "Net Profit Margin (%)                                   14.63       13.47   \n",
       "NP After MI And SOA Margin (%)                          14.45       13.38   \n",
       "Return on Networth/Equity (%)                           24.51       26.70   \n",
       "Return on Capital Employed (%)                          30.23       31.30   \n",
       "Return on Assets (%)                                    15.41       16.74   \n",
       "Total Debt/Equity (X)                                    0.03        0.03   \n",
       "Asset Turnover Ratio (%)                               106.59      125.11   \n",
       "Liquidity Ratios                                                            \n",
       "Current Ratio (X)                                        2.03        1.73   \n",
       "Quick Ratio (X)                                          1.39        0.96   \n",
       "Inventory Turnover Ratio (X)                             5.72        5.96   \n",
       "Dividend Payout Ratio (NP) (%)                           0.00       64.35   \n",
       "Dividend Payout Ratio (CP) (%)                           0.00       49.94   \n",
       "Earnings Retention Ratio (%)                             0.00       35.65   \n",
       "Cash Earnings Retention Ratio (%)                        0.00       50.06   \n",
       "Coverage Ratios                                                             \n",
       "Interest Coverage Ratios (%)                            47.66       36.02   \n",
       "Interest Coverage Ratios (Post Tax) (%)                 47.66       36.02   \n",
       "Valuation Ratios                                                            \n",
       "Enterprise Value (Cr.)                             243,477.40  159,830.67   \n",
       "EV/Net Operating Revenue (X)                            11.21        7.91   \n",
       "EV/EBITDA (X)                                           47.20       35.79   \n",
       "MarketCap/Net Operating Revenue (X)                     11.21        7.91   \n",
       "Retention Ratios (%)                                     0.00       35.64   \n",
       "Price/BV (X)                                            19.00       15.78   \n",
       "Price/Net Operating Revenue                             11.21        7.91   \n",
       "Earnings Yield                                           0.01        0.02   \n",
       "\n",
       "Key Financial Ratios of Asian Paints (in Rs. Cr.)      Mar 19      Mar 18  \\\n",
       "Per Share Ratios                                                            \n",
       "Basic EPS (Rs.)                                         22.48       21.26   \n",
       "Diluted EPS (Rs.)                                       22.48       21.26   \n",
       "Cash EPS (Rs.)                                          29.08       25.15   \n",
       "Book Value [ExclRevalReserve]/Share (Rs.)              102.50       91.10   \n",
       "Book Value [InclRevalReserve]/Share (Rs.)              102.50       91.10   \n",
       "Revenue from Operations/Share (Rs.)                    200.59      175.40   \n",
       "PBDIT/Share (Rs.)                                       41.69       35.64   \n",
       "PBIT/Share (Rs.)                                        35.20       31.88   \n",
       "PBT/Share (Rs.)                                         34.10       31.51   \n",
       "Net Profit/Share (Rs.)                                  22.59       21.39   \n",
       "NP After MI And SOA / Share (Rs.)                       22.48       21.26   \n",
       "Profitability Ratios                                                        \n",
       "PBDIT Margin (%)                                        20.78       20.31   \n",
       "PBIT Margin (%)                                         17.54       18.17   \n",
       "PBT Margin (%)                                          17.00       17.96   \n",
       "Net Profit Margin (%)                                   11.26       12.19   \n",
       "NP After MI And SOA Margin (%)                          11.20       12.11   \n",
       "Return on Networth/Equity (%)                           22.76       24.24   \n",
       "Return on Capital Employed (%)                          30.42       32.76   \n",
       "Return on Assets (%)                                    13.24       14.79   \n",
       "Total Debt/Equity (X)                                    0.07        0.06   \n",
       "Asset Turnover Ratio (%)                               118.19      122.06   \n",
       "Liquidity Ratios                                                            \n",
       "Current Ratio (X)                                        1.47        1.55   \n",
       "Quick Ratio (X)                                          0.86        0.96   \n",
       "Inventory Turnover Ratio (X)                             6.11        6.33   \n",
       "Dividend Payout Ratio (NP) (%)                          39.59       48.45   \n",
       "Dividend Payout Ratio (CP) (%)                          30.72       41.17   \n",
       "Earnings Retention Ratio (%)                            60.41       51.55   \n",
       "Cash Earnings Retention Ratio (%)                       69.28       58.83   \n",
       "Coverage Ratios                                                             \n",
       "Interest Coverage Ratios (%)                            32.07       87.19   \n",
       "Interest Coverage Ratios (Post Tax) (%)                 32.07       87.19   \n",
       "Valuation Ratios                                                            \n",
       "Enterprise Value (Cr.)                             143,635.01  107,941.29   \n",
       "EV/Net Operating Revenue (X)                             7.47        6.42   \n",
       "EV/EBITDA (X)                                           35.92       31.58   \n",
       "MarketCap/Net Operating Revenue (X)                      7.44        6.39   \n",
       "Retention Ratios (%)                                    60.40       51.54   \n",
       "Price/BV (X)                                            15.11       12.78   \n",
       "Price/Net Operating Revenue                              7.44        6.39   \n",
       "Earnings Yield                                           0.02        0.02   \n",
       "\n",
       "Key Financial Ratios of Asian Paints (in Rs. Cr.)      Mar 17  \n",
       "Per Share Ratios                                               \n",
       "Basic EPS (Rs.)                                         20.22  \n",
       "Diluted EPS (Rs.)                                       20.22  \n",
       "Cash EPS (Rs.)                                          23.99  \n",
       "Book Value [ExclRevalReserve]/Share (Rs.)               83.19  \n",
       "Book Value [InclRevalReserve]/Share (Rs.)               83.19  \n",
       "Revenue from Operations/Share (Rs.)                    157.03  \n",
       "PBDIT/Share (Rs.)                                       33.87  \n",
       "PBIT/Share (Rs.)                                        30.38  \n",
       "PBT/Share (Rs.)                                         30.07  \n",
       "Net Profit/Share (Rs.)                                  20.50  \n",
       "NP After MI And SOA / Share (Rs.)                       20.22  \n",
       "Profitability Ratios                                           \n",
       "PBDIT Margin (%)                                        21.56  \n",
       "PBIT Margin (%)                                         19.34  \n",
       "PBT Margin (%)                                          19.14  \n",
       "Net Profit Margin (%)                                   13.05  \n",
       "NP After MI And SOA Margin (%)                          12.87  \n",
       "Return on Networth/Equity (%)                           25.50  \n",
       "Return on Capital Employed (%)                          34.13  \n",
       "Return on Assets (%)                                    15.61  \n",
       "Total Debt/Equity (X)                                    0.07  \n",
       "Asset Turnover Ratio (%)                               121.25  \n",
       "Liquidity Ratios                                               \n",
       "Current Ratio (X)                                        1.79  \n",
       "Quick Ratio (X)                                          1.12  \n",
       "Inventory Turnover Ratio (X)                             5.73  \n",
       "Dividend Payout Ratio (NP) (%)                          39.31  \n",
       "Dividend Payout Ratio (CP) (%)                          33.53  \n",
       "Earnings Retention Ratio (%)                            60.69  \n",
       "Cash Earnings Retention Ratio (%)                       66.47  \n",
       "Coverage Ratios                                                \n",
       "Interest Coverage Ratios (%)                            97.17  \n",
       "Interest Coverage Ratios (Post Tax) (%)                 97.17  \n",
       "Valuation Ratios                                               \n",
       "Enterprise Value (Cr.)                             102,869.24  \n",
       "EV/Net Operating Revenue (X)                             6.83  \n",
       "EV/EBITDA (X)                                           31.66  \n",
       "MarketCap/Net Operating Revenue (X)                      6.82  \n",
       "Retention Ratios (%)                                    60.68  \n",
       "Price/BV (X)                                            13.51  \n",
       "Price/Net Operating Revenue                              6.82  \n",
       "Earnings Yield                                           0.02  "
      ]
     },
     "execution_count": 73,
     "metadata": {},
     "output_type": "execute_result"
    }
   ],
   "source": [
    "ap_data.ratios"
   ]
  },
  {
   "cell_type": "code",
   "execution_count": 75,
   "metadata": {},
   "outputs": [
    {
     "data": {
      "text/plain": [
       "0.31768"
      ]
     },
     "execution_count": 75,
     "metadata": {},
     "output_type": "execute_result"
    }
   ],
   "source": [
    "ap_data.roc()"
   ]
  },
  {
   "cell_type": "code",
   "execution_count": 76,
   "metadata": {},
   "outputs": [
    {
     "data": {
      "text/plain": [
       "0.09443713556934756"
      ]
     },
     "execution_count": 76,
     "metadata": {},
     "output_type": "execute_result"
    }
   ],
   "source": [
    "ap_data.reinvestment()"
   ]
  },
  {
   "cell_type": "code",
   "execution_count": 77,
   "metadata": {},
   "outputs": [
    {
     "data": {
      "text/plain": [
       "0.030000789227670334"
      ]
     },
     "execution_count": 77,
     "metadata": {},
     "output_type": "execute_result"
    }
   ],
   "source": [
    "ap_data.reinvestment()*ap_data.roc()"
   ]
  },
  {
   "cell_type": "code",
   "execution_count": 79,
   "metadata": {},
   "outputs": [
    {
     "data": {
      "text/plain": [
       "0.23990398479535235"
      ]
     },
     "execution_count": 79,
     "metadata": {},
     "output_type": "execute_result"
    }
   ],
   "source": [
    "ap_data.rev_growth()"
   ]
  },
  {
   "cell_type": "code",
   "execution_count": 81,
   "metadata": {},
   "outputs": [],
   "source": [
    "g0 = ap_data.growth_ni()"
   ]
  },
  {
   "cell_type": "code",
   "execution_count": 86,
   "metadata": {},
   "outputs": [],
   "source": [
    "r_ap = ap_data.r_equity()"
   ]
  },
  {
   "cell_type": "code",
   "execution_count": 87,
   "metadata": {},
   "outputs": [
    {
     "data": {
      "text/plain": [
       "0.12329263441095298"
      ]
     },
     "execution_count": 87,
     "metadata": {},
     "output_type": "execute_result"
    }
   ],
   "source": [
    "r_ap"
   ]
  },
  {
   "cell_type": "code",
   "execution_count": 88,
   "metadata": {},
   "outputs": [],
   "source": [
    "terminal_val = ap_data.FCFE()*1.06*(g0/r_ap)**5/(r_ap - 0.06)"
   ]
  },
  {
   "cell_type": "code",
   "execution_count": 89,
   "metadata": {},
   "outputs": [
    {
     "data": {
      "text/plain": [
       "16820.01927599389"
      ]
     },
     "execution_count": 89,
     "metadata": {},
     "output_type": "execute_result"
    }
   ],
   "source": [
    "terminal_val"
   ]
  },
  {
   "cell_type": "code",
   "execution_count": 90,
   "metadata": {},
   "outputs": [],
   "source": [
    "dcfs = ap_data.FCFE()*(g0/r_ap)*(1-(g0/r_ap)**5)/(1-(g0/r_ap))"
   ]
  },
  {
   "cell_type": "code",
   "execution_count": 91,
   "metadata": {},
   "outputs": [
    {
     "data": {
      "text/plain": [
       "4701.731964038878"
      ]
     },
     "execution_count": 91,
     "metadata": {},
     "output_type": "execute_result"
    }
   ],
   "source": [
    "dcfs"
   ]
  },
  {
   "cell_type": "code",
   "execution_count": 96,
   "metadata": {},
   "outputs": [
    {
     "data": {
      "text/plain": [
       "2243.724022762059"
      ]
     },
     "execution_count": 96,
     "metadata": {},
     "output_type": "execute_result"
    }
   ],
   "source": [
    "(terminal_val+dcfs)*(10**7)/ap_data.shares"
   ]
  },
  {
   "cell_type": "markdown",
   "metadata": {},
   "source": [
    "## HDFC"
   ]
  },
  {
   "cell_type": "code",
   "execution_count": 20,
   "metadata": {},
   "outputs": [],
   "source": [
    "hdfc = stock_ki_kundali('HDFC Bank',['ratios','profit and loss statement','balance sheet'],con=False)"
   ]
  },
  {
   "cell_type": "code",
   "execution_count": 21,
   "metadata": {},
   "outputs": [],
   "source": [
    "hdfc_ratios = hdfc[0]\n",
    "hdfc_pnl = hdfc[1]\n",
    "hdfc_bal = hdfc[2]"
   ]
  },
  {
   "cell_type": "code",
   "execution_count": 31,
   "metadata": {},
   "outputs": [
    {
     "data": {
      "text/plain": [
       "Key Financial Ratios of HDFC Bank (in Rs. Cr.)\n",
       "Mar 21    0.000000\n",
       "Mar 20    0.052072\n",
       "Mar 19    0.190718\n",
       "Mar 18    0.191854\n",
       "Mar 17    0.192375\n",
       "dtype: float64"
      ]
     },
     "execution_count": 31,
     "metadata": {},
     "output_type": "execute_result"
    }
   ],
   "source": [
    "hdfc_ratios.loc['Dividend/Share (Rs.)'].astype(float)/hdfc_ratios.loc['Basic EPS (Rs.)'].astype(float)"
   ]
  },
  {
   "cell_type": "code",
   "execution_count": 32,
   "metadata": {},
   "outputs": [],
   "source": [
    "payout = 19.15/100"
   ]
  },
  {
   "cell_type": "code",
   "execution_count": 33,
   "metadata": {},
   "outputs": [],
   "source": [
    "roe = 15.5/100"
   ]
  },
  {
   "cell_type": "code",
   "execution_count": 39,
   "metadata": {},
   "outputs": [
    {
     "data": {
      "text/plain": [
       "Key Financial Ratios of HDFC Bank (in Rs. Cr.)\n",
       "Mar 21    56.60\n",
       "Mar 20    48.01\n",
       "Mar 19    78.65\n",
       "Mar 18    67.76\n",
       "Mar 17    57.18\n",
       "Name: Basic EPS (Rs.), dtype: float64"
      ]
     },
     "execution_count": 39,
     "metadata": {},
     "output_type": "execute_result"
    }
   ],
   "source": [
    "hdfc_ratios.loc['Basic EPS (Rs.)',:].astype(float)"
   ]
  },
  {
   "cell_type": "code",
   "execution_count": 40,
   "metadata": {},
   "outputs": [
    {
     "data": {
      "text/plain": [
       "61.64"
      ]
     },
     "execution_count": 40,
     "metadata": {},
     "output_type": "execute_result"
    }
   ],
   "source": [
    "hdfc_ratios.loc['Basic EPS (Rs.)',:].astype(float).mean()"
   ]
  },
  {
   "cell_type": "code",
   "execution_count": 41,
   "metadata": {},
   "outputs": [
    {
     "data": {
      "text/plain": [
       "57.18"
      ]
     },
     "execution_count": 41,
     "metadata": {},
     "output_type": "execute_result"
    }
   ],
   "source": [
    "hdfc_ratios.loc['Basic EPS (Rs.)',:].astype(float).median()"
   ]
  },
  {
   "cell_type": "code",
   "execution_count": 42,
   "metadata": {},
   "outputs": [
    {
     "data": {
      "text/plain": [
       "11.80957873931158"
      ]
     },
     "execution_count": 42,
     "metadata": {},
     "output_type": "execute_result"
    }
   ],
   "source": [
    "hdfc_ratios.loc['Basic EPS (Rs.)',:].astype(float).std()"
   ]
  },
  {
   "cell_type": "code",
   "execution_count": 44,
   "metadata": {},
   "outputs": [],
   "source": [
    "eps0 = hdfc_ratios.loc['Basic EPS (Rs.)',:].astype(float)['Mar 21']"
   ]
  },
  {
   "cell_type": "code",
   "execution_count": 45,
   "metadata": {},
   "outputs": [
    {
     "data": {
      "text/plain": [
       "56.6"
      ]
     },
     "execution_count": 45,
     "metadata": {},
     "output_type": "execute_result"
    }
   ],
   "source": [
    "eps0"
   ]
  },
  {
   "cell_type": "code",
   "execution_count": 46,
   "metadata": {},
   "outputs": [],
   "source": [
    "g = roe*(1-payout)"
   ]
  },
  {
   "cell_type": "code",
   "execution_count": 47,
   "metadata": {},
   "outputs": [
    {
     "data": {
      "text/plain": [
       "0.1253175"
      ]
     },
     "execution_count": 47,
     "metadata": {},
     "output_type": "execute_result"
    }
   ],
   "source": [
    "g"
   ]
  },
  {
   "cell_type": "code",
   "execution_count": 51,
   "metadata": {},
   "outputs": [
    {
     "data": {
      "text/plain": [
       "GDP (in billions) in 2019      2875.1\n",
       "Moody's rating                   Baa3\n",
       "Sovereign CDS                  0.0124\n",
       "Adj. Default Spread          0.019453\n",
       "Equity Risk Premium          0.068519\n",
       "Country Risk Premium         0.021319\n",
       "Corporate Tax Rate                0.3\n",
       "Region                           Asia\n",
       "Name: India, dtype: object"
      ]
     },
     "execution_count": 51,
     "metadata": {},
     "output_type": "execute_result"
    }
   ],
   "source": [
    "erpdata2021.loc['India']"
   ]
  },
  {
   "cell_type": "code",
   "execution_count": 54,
   "metadata": {},
   "outputs": [
    {
     "data": {
      "text/html": [
       "<div>\n",
       "<style scoped>\n",
       "    .dataframe tbody tr th:only-of-type {\n",
       "        vertical-align: middle;\n",
       "    }\n",
       "\n",
       "    .dataframe tbody tr th {\n",
       "        vertical-align: top;\n",
       "    }\n",
       "\n",
       "    .dataframe thead th {\n",
       "        text-align: right;\n",
       "    }\n",
       "</style>\n",
       "<table border=\"1\" class=\"dataframe\">\n",
       "  <thead>\n",
       "    <tr style=\"text-align: right;\">\n",
       "      <th></th>\n",
       "      <th>Company Name</th>\n",
       "      <th>Exchange:Ticker</th>\n",
       "      <th>Industry Group</th>\n",
       "      <th>Country</th>\n",
       "      <th>Broad Group</th>\n",
       "      <th>Sub Group</th>\n",
       "    </tr>\n",
       "  </thead>\n",
       "  <tbody>\n",
       "    <tr>\n",
       "      <th>0</th>\n",
       "      <td>Activation Group Holdings Limited (SEHK:9919)</td>\n",
       "      <td>SEHK:9919</td>\n",
       "      <td>Advertising</td>\n",
       "      <td>China</td>\n",
       "      <td>Emerging Markets</td>\n",
       "      <td>China</td>\n",
       "    </tr>\n",
       "    <tr>\n",
       "      <th>1</th>\n",
       "      <td>Adamant DRI Processing and Minerals Group (OTC...</td>\n",
       "      <td>OTCPK:ADMG</td>\n",
       "      <td>Advertising</td>\n",
       "      <td>China</td>\n",
       "      <td>Emerging Markets</td>\n",
       "      <td>China</td>\n",
       "    </tr>\n",
       "    <tr>\n",
       "      <th>2</th>\n",
       "      <td>Adtiger Corporations Limited (SEHK:1163)</td>\n",
       "      <td>SEHK:1163</td>\n",
       "      <td>Advertising</td>\n",
       "      <td>China</td>\n",
       "      <td>Emerging Markets</td>\n",
       "      <td>China</td>\n",
       "    </tr>\n",
       "    <tr>\n",
       "      <th>3</th>\n",
       "      <td>Affle (India) Limited (NSEI:AFFLE)</td>\n",
       "      <td>NSEI:AFFLE</td>\n",
       "      <td>Advertising</td>\n",
       "      <td>India</td>\n",
       "      <td>Emerging Markets</td>\n",
       "      <td>India</td>\n",
       "    </tr>\n",
       "    <tr>\n",
       "      <th>4</th>\n",
       "      <td>Afromedia Plc (NGSE:AFROMEDIA)</td>\n",
       "      <td>NGSE:AFROMEDIA</td>\n",
       "      <td>Advertising</td>\n",
       "      <td>Nigeria</td>\n",
       "      <td>Emerging Markets</td>\n",
       "      <td>Africa and Middle East</td>\n",
       "    </tr>\n",
       "    <tr>\n",
       "      <th>...</th>\n",
       "      <td>...</td>\n",
       "      <td>...</td>\n",
       "      <td>...</td>\n",
       "      <td>...</td>\n",
       "      <td>...</td>\n",
       "      <td>...</td>\n",
       "    </tr>\n",
       "    <tr>\n",
       "      <th>23675</th>\n",
       "      <td>Luduson G Inc. (OTCPK:LDSN)</td>\n",
       "      <td>OTCPK:LDSN</td>\n",
       "      <td>NaN</td>\n",
       "      <td>Hong Kong</td>\n",
       "      <td>Emerging Markets</td>\n",
       "      <td>China</td>\n",
       "    </tr>\n",
       "    <tr>\n",
       "      <th>23676</th>\n",
       "      <td>PP Miletic AD (BELEX:PMLT)</td>\n",
       "      <td>BELEX:PMLT</td>\n",
       "      <td>NaN</td>\n",
       "      <td>Serbia</td>\n",
       "      <td>Emerging Markets</td>\n",
       "      <td>Eastern Europe &amp; Russia</td>\n",
       "    </tr>\n",
       "    <tr>\n",
       "      <th>23677</th>\n",
       "      <td>SOS Limited (NYSE:SOS)</td>\n",
       "      <td>NYSE:SOS</td>\n",
       "      <td>NaN</td>\n",
       "      <td>China</td>\n",
       "      <td>Emerging Markets</td>\n",
       "      <td>China</td>\n",
       "    </tr>\n",
       "    <tr>\n",
       "      <th>23678</th>\n",
       "      <td>Tianjin Faw Xiali Automobile Co.,Ltd. (SZSE:00...</td>\n",
       "      <td>SZSE:000927</td>\n",
       "      <td>NaN</td>\n",
       "      <td>China</td>\n",
       "      <td>Emerging Markets</td>\n",
       "      <td>China</td>\n",
       "    </tr>\n",
       "    <tr>\n",
       "      <th>23679</th>\n",
       "      <td>WSI Co., Ltd. (KOSDAQ:A299170)</td>\n",
       "      <td>KOSDAQ:A299170</td>\n",
       "      <td>NaN</td>\n",
       "      <td>South Korea</td>\n",
       "      <td>Emerging Markets</td>\n",
       "      <td>Small Asia</td>\n",
       "    </tr>\n",
       "  </tbody>\n",
       "</table>\n",
       "<p>23680 rows × 6 columns</p>\n",
       "</div>"
      ],
      "text/plain": [
       "                                            Company Name Exchange:Ticker  \\\n",
       "0          Activation Group Holdings Limited (SEHK:9919)       SEHK:9919   \n",
       "1      Adamant DRI Processing and Minerals Group (OTC...      OTCPK:ADMG   \n",
       "2               Adtiger Corporations Limited (SEHK:1163)       SEHK:1163   \n",
       "3                     Affle (India) Limited (NSEI:AFFLE)      NSEI:AFFLE   \n",
       "4                         Afromedia Plc (NGSE:AFROMEDIA)  NGSE:AFROMEDIA   \n",
       "...                                                  ...             ...   \n",
       "23675                        Luduson G Inc. (OTCPK:LDSN)      OTCPK:LDSN   \n",
       "23676                         PP Miletic AD (BELEX:PMLT)      BELEX:PMLT   \n",
       "23677                             SOS Limited (NYSE:SOS)        NYSE:SOS   \n",
       "23678  Tianjin Faw Xiali Automobile Co.,Ltd. (SZSE:00...     SZSE:000927   \n",
       "23679                     WSI Co., Ltd. (KOSDAQ:A299170)  KOSDAQ:A299170   \n",
       "\n",
       "      Industry Group      Country       Broad Group                Sub Group  \n",
       "0        Advertising        China  Emerging Markets                    China  \n",
       "1        Advertising        China  Emerging Markets                    China  \n",
       "2        Advertising        China  Emerging Markets                    China  \n",
       "3        Advertising        India  Emerging Markets                    India  \n",
       "4        Advertising      Nigeria  Emerging Markets   Africa and Middle East  \n",
       "...              ...          ...               ...                      ...  \n",
       "23675            NaN    Hong Kong  Emerging Markets                    China  \n",
       "23676            NaN       Serbia  Emerging Markets  Eastern Europe & Russia  \n",
       "23677            NaN        China  Emerging Markets                    China  \n",
       "23678            NaN        China  Emerging Markets                    China  \n",
       "23679            NaN  South Korea  Emerging Markets               Small Asia  \n",
       "\n",
       "[23680 rows x 6 columns]"
      ]
     },
     "execution_count": 54,
     "metadata": {},
     "output_type": "execute_result"
    }
   ],
   "source": [
    "companies2021"
   ]
  },
  {
   "cell_type": "code",
   "execution_count": 55,
   "metadata": {},
   "outputs": [
    {
     "data": {
      "text/html": [
       "<div>\n",
       "<style scoped>\n",
       "    .dataframe tbody tr th:only-of-type {\n",
       "        vertical-align: middle;\n",
       "    }\n",
       "\n",
       "    .dataframe tbody tr th {\n",
       "        vertical-align: top;\n",
       "    }\n",
       "\n",
       "    .dataframe thead th {\n",
       "        text-align: right;\n",
       "    }\n",
       "</style>\n",
       "<table border=\"1\" class=\"dataframe\">\n",
       "  <thead>\n",
       "    <tr style=\"text-align: right;\">\n",
       "      <th></th>\n",
       "      <th>Company Name</th>\n",
       "      <th>Exchange:Ticker</th>\n",
       "      <th>Industry Group</th>\n",
       "      <th>Country</th>\n",
       "      <th>Broad Group</th>\n",
       "      <th>Sub Group</th>\n",
       "    </tr>\n",
       "  </thead>\n",
       "  <tbody>\n",
       "    <tr>\n",
       "      <th>2038</th>\n",
       "      <td>HDFC Bank Limited (NSEI:HDFCBANK)</td>\n",
       "      <td>NSEI:HDFCBANK</td>\n",
       "      <td>Bank (Money Center)</td>\n",
       "      <td>India</td>\n",
       "      <td>Emerging Markets</td>\n",
       "      <td>India</td>\n",
       "    </tr>\n",
       "    <tr>\n",
       "      <th>14164</th>\n",
       "      <td>HDFC Life Insurance Company Limited (BSE:540777)</td>\n",
       "      <td>BSE:540777</td>\n",
       "      <td>Insurance (Life)</td>\n",
       "      <td>India</td>\n",
       "      <td>Emerging Markets</td>\n",
       "      <td>India</td>\n",
       "    </tr>\n",
       "    <tr>\n",
       "      <th>14513</th>\n",
       "      <td>HDFC Asset Management Company Limited (NSEI:HD...</td>\n",
       "      <td>NSEI:HDFCAMC</td>\n",
       "      <td>Investments &amp; Asset Management</td>\n",
       "      <td>India</td>\n",
       "      <td>Emerging Markets</td>\n",
       "      <td>India</td>\n",
       "    </tr>\n",
       "  </tbody>\n",
       "</table>\n",
       "</div>"
      ],
      "text/plain": [
       "                                            Company Name Exchange:Ticker  \\\n",
       "2038                   HDFC Bank Limited (NSEI:HDFCBANK)   NSEI:HDFCBANK   \n",
       "14164   HDFC Life Insurance Company Limited (BSE:540777)      BSE:540777   \n",
       "14513  HDFC Asset Management Company Limited (NSEI:HD...    NSEI:HDFCAMC   \n",
       "\n",
       "                       Industry Group Country       Broad Group Sub Group  \n",
       "2038              Bank (Money Center)   India  Emerging Markets     India  \n",
       "14164                Insurance (Life)   India  Emerging Markets     India  \n",
       "14513  Investments & Asset Management   India  Emerging Markets     India  "
      ]
     },
     "execution_count": 55,
     "metadata": {},
     "output_type": "execute_result"
    }
   ],
   "source": [
    "companies2021[companies2021['Company Name'].str.match('(^HDFC.*)')==True]"
   ]
  },
  {
   "cell_type": "code",
   "execution_count": 80,
   "metadata": {},
   "outputs": [],
   "source": [
    "bank_beta = betas2021.loc['Bank (Money Center)','Average Levered Beta']"
   ]
  },
  {
   "cell_type": "code",
   "execution_count": 81,
   "metadata": {},
   "outputs": [],
   "source": [
    "hdfc_beta = 1.29"
   ]
  },
  {
   "cell_type": "code",
   "execution_count": 82,
   "metadata": {},
   "outputs": [
    {
     "data": {
      "text/plain": [
       "0.6727983202814664"
      ]
     },
     "execution_count": 82,
     "metadata": {},
     "output_type": "execute_result"
    }
   ],
   "source": [
    "betas2021.loc['Investments & Asset Management','Average Levered Beta']"
   ]
  },
  {
   "cell_type": "code",
   "execution_count": 83,
   "metadata": {},
   "outputs": [],
   "source": [
    "indian_risk_free = 0.04"
   ]
  },
  {
   "cell_type": "code",
   "execution_count": 84,
   "metadata": {},
   "outputs": [
    {
     "data": {
      "text/plain": [
       "0.0472"
      ]
     },
     "execution_count": 84,
     "metadata": {},
     "output_type": "execute_result"
    }
   ],
   "source": [
    "erpdata2021.loc['United States','Equity Risk Premium']"
   ]
  },
  {
   "cell_type": "code",
   "execution_count": 93,
   "metadata": {},
   "outputs": [],
   "source": [
    "r_equity_hdfc = indian_risk_free + hdfc_beta*(erpdata2021.loc['United States','Equity Risk Premium'] + erpdata2021.loc['India','Country Risk Premium'])"
   ]
  },
  {
   "cell_type": "code",
   "execution_count": 94,
   "metadata": {},
   "outputs": [
    {
     "data": {
      "text/plain": [
       "0.1283894560402907"
      ]
     },
     "execution_count": 94,
     "metadata": {},
     "output_type": "execute_result"
    }
   ],
   "source": [
    "r_equity_hdfc"
   ]
  },
  {
   "cell_type": "code",
   "execution_count": 95,
   "metadata": {},
   "outputs": [],
   "source": [
    "mature_beta = 1"
   ]
  },
  {
   "cell_type": "code",
   "execution_count": 96,
   "metadata": {},
   "outputs": [],
   "source": [
    "#For first 5 years\n",
    "ratio = (1+g)/(1+r_equity_hdfc)"
   ]
  },
  {
   "cell_type": "code",
   "execution_count": 97,
   "metadata": {},
   "outputs": [],
   "source": [
    "#Next 5 years\n",
    "mature_growth = 3.9/100"
   ]
  },
  {
   "cell_type": "code",
   "execution_count": 99,
   "metadata": {},
   "outputs": [],
   "source": [
    "r_mature = indian_risk_free + mature_beta*(erpdata2021.loc['United States','Equity Risk Premium'] + erpdata2021.loc['India','Country Risk Premium'])"
   ]
  },
  {
   "cell_type": "code",
   "execution_count": 100,
   "metadata": {},
   "outputs": [
    {
     "data": {
      "text/plain": [
       "0.10851895817076798"
      ]
     },
     "execution_count": 100,
     "metadata": {},
     "output_type": "execute_result"
    }
   ],
   "source": [
    "r_mature"
   ]
  },
  {
   "cell_type": "code",
   "execution_count": 101,
   "metadata": {},
   "outputs": [],
   "source": [
    "roe_final = 16/100"
   ]
  },
  {
   "cell_type": "code",
   "execution_count": 102,
   "metadata": {},
   "outputs": [],
   "source": [
    "payout_final = 1 - (mature_growth/roe_final)"
   ]
  },
  {
   "cell_type": "code",
   "execution_count": 103,
   "metadata": {},
   "outputs": [
    {
     "data": {
      "text/plain": [
       "0.75625"
      ]
     },
     "execution_count": 103,
     "metadata": {},
     "output_type": "execute_result"
    }
   ],
   "source": [
    "payout_final"
   ]
  },
  {
   "cell_type": "code",
   "execution_count": 104,
   "metadata": {},
   "outputs": [
    {
     "data": {
      "text/plain": [
       "0.19149999999999998"
      ]
     },
     "execution_count": 104,
     "metadata": {},
     "output_type": "execute_result"
    }
   ],
   "source": [
    "payout"
   ]
  },
  {
   "cell_type": "code",
   "execution_count": 106,
   "metadata": {},
   "outputs": [],
   "source": [
    "payouts = np.linspace(payout,payout_final,5)"
   ]
  },
  {
   "cell_type": "code",
   "execution_count": 107,
   "metadata": {},
   "outputs": [],
   "source": [
    "growths = np.linspace(g,mature_growth,5)"
   ]
  },
  {
   "cell_type": "code",
   "execution_count": 108,
   "metadata": {},
   "outputs": [
    {
     "data": {
      "text/plain": [
       "array([0.1253175 , 0.10373813, 0.08215875, 0.06057938, 0.039     ])"
      ]
     },
     "execution_count": 108,
     "metadata": {},
     "output_type": "execute_result"
    }
   ],
   "source": [
    "growths"
   ]
  },
  {
   "cell_type": "code",
   "execution_count": 111,
   "metadata": {},
   "outputs": [],
   "source": [
    "#growth stage\n",
    "dcfs = eps0*payout*ratio*(1-ratio**5)/(1-ratio)"
   ]
  },
  {
   "cell_type": "code",
   "execution_count": 112,
   "metadata": {},
   "outputs": [
    {
     "data": {
      "text/plain": [
       "53.75348195571481"
      ]
     },
     "execution_count": 112,
     "metadata": {},
     "output_type": "execute_result"
    }
   ],
   "source": [
    "dcfs"
   ]
  },
  {
   "cell_type": "code",
   "execution_count": 113,
   "metadata": {},
   "outputs": [
    {
     "data": {
      "text/plain": [
       "56.6"
      ]
     },
     "execution_count": 113,
     "metadata": {},
     "output_type": "execute_result"
    }
   ],
   "source": [
    "eps0"
   ]
  },
  {
   "cell_type": "code",
   "execution_count": 114,
   "metadata": {},
   "outputs": [
    {
     "data": {
      "text/plain": [
       "0.9972775746672866"
      ]
     },
     "execution_count": 114,
     "metadata": {},
     "output_type": "execute_result"
    }
   ],
   "source": [
    "ratio"
   ]
  },
  {
   "cell_type": "code",
   "execution_count": 115,
   "metadata": {},
   "outputs": [
    {
     "data": {
      "text/plain": [
       "56.6"
      ]
     },
     "execution_count": 115,
     "metadata": {},
     "output_type": "execute_result"
    }
   ],
   "source": [
    "eps0"
   ]
  },
  {
   "cell_type": "code",
   "execution_count": 116,
   "metadata": {},
   "outputs": [
    {
     "data": {
      "text/plain": [
       "0.19149999999999998"
      ]
     },
     "execution_count": 116,
     "metadata": {},
     "output_type": "execute_result"
    }
   ],
   "source": [
    "payout"
   ]
  },
  {
   "cell_type": "code",
   "execution_count": 117,
   "metadata": {},
   "outputs": [],
   "source": [
    "#steadying stage\n",
    "eps5 = eps0*(1+g)**5"
   ]
  },
  {
   "cell_type": "code",
   "execution_count": 118,
   "metadata": {},
   "outputs": [
    {
     "data": {
      "text/plain": [
       "102.13904543432218"
      ]
     },
     "execution_count": 118,
     "metadata": {},
     "output_type": "execute_result"
    }
   ],
   "source": [
    "eps5"
   ]
  },
  {
   "cell_type": "code",
   "execution_count": 119,
   "metadata": {},
   "outputs": [
    {
     "data": {
      "text/plain": [
       "array([1.1253175 , 1.24205583, 1.34410158, 1.42552642, 1.48112195])"
      ]
     },
     "execution_count": 119,
     "metadata": {},
     "output_type": "execute_result"
    }
   ],
   "source": [
    "(1+growths).cumprod()"
   ]
  },
  {
   "cell_type": "code",
   "execution_count": 120,
   "metadata": {},
   "outputs": [
    {
     "data": {
      "text/plain": [
       "array([0.1915   , 0.3326875, 0.473875 , 0.6150625, 0.75625  ])"
      ]
     },
     "execution_count": 120,
     "metadata": {},
     "output_type": "execute_result"
    }
   ],
   "source": [
    "payouts"
   ]
  },
  {
   "cell_type": "code",
   "execution_count": 124,
   "metadata": {},
   "outputs": [
    {
     "data": {
      "text/plain": [
       "array([ 22.01079078,  42.20553357,  65.05604904,  89.55427312,\n",
       "       114.40578866])"
      ]
     },
     "execution_count": 124,
     "metadata": {},
     "output_type": "execute_result"
    }
   ],
   "source": [
    "eps5*(1+growths).cumprod()*payouts"
   ]
  },
  {
   "cell_type": "code",
   "execution_count": 125,
   "metadata": {},
   "outputs": [],
   "source": [
    "discount_factors = np.array([(1+r_equity_hdfc)**i for i in range(6,11)])"
   ]
  },
  {
   "cell_type": "code",
   "execution_count": 126,
   "metadata": {},
   "outputs": [
    {
     "data": {
      "text/plain": [
       "array([2.06421113, 2.32923408, 2.62828317, 2.96572702, 3.3464951 ])"
      ]
     },
     "execution_count": 126,
     "metadata": {},
     "output_type": "execute_result"
    }
   ],
   "source": [
    "discount_factors"
   ]
  },
  {
   "cell_type": "code",
   "execution_count": 129,
   "metadata": {},
   "outputs": [],
   "source": [
    "dcfs_steady = eps5*(1+growths).cumprod()*payouts/discount_factors"
   ]
  },
  {
   "cell_type": "code",
   "execution_count": 131,
   "metadata": {},
   "outputs": [
    {
     "data": {
      "text/plain": [
       "117.91841671542129"
      ]
     },
     "execution_count": 131,
     "metadata": {},
     "output_type": "execute_result"
    }
   ],
   "source": [
    "dcfs_steady.sum() "
   ]
  },
  {
   "cell_type": "code",
   "execution_count": 132,
   "metadata": {},
   "outputs": [],
   "source": [
    "eps10 = eps5*(1+growths).cumprod()[-1]"
   ]
  },
  {
   "cell_type": "code",
   "execution_count": 136,
   "metadata": {},
   "outputs": [],
   "source": [
    "terminal_val = eps10*(1+mature_growth)*payout_final/((r_mature - mature_growth)*(1+r_equity_hdfc)**10)"
   ]
  },
  {
   "cell_type": "code",
   "execution_count": 137,
   "metadata": {},
   "outputs": [],
   "source": [
    "final_val = terminal_val + dcfs_steady.sum() + dcfs"
   ]
  },
  {
   "cell_type": "code",
   "execution_count": 138,
   "metadata": {},
   "outputs": [
    {
     "data": {
      "text/plain": [
       "682.6121277391898"
      ]
     },
     "execution_count": 138,
     "metadata": {},
     "output_type": "execute_result"
    }
   ],
   "source": [
    "final_val"
   ]
  },
  {
   "cell_type": "markdown",
   "metadata": {},
   "source": [
    "## HDFC Asset Management Company"
   ]
  },
  {
   "cell_type": "code",
   "execution_count": 141,
   "metadata": {},
   "outputs": [],
   "source": [
    "hdfc_amc = stock_ki_kundali('HDFC AMC',['ratios','profit and loss statement','balance sheet'],con=False)"
   ]
  },
  {
   "cell_type": "code",
   "execution_count": 145,
   "metadata": {},
   "outputs": [],
   "source": [
    "amc_ratios=hdfc_amc[0]"
   ]
  },
  {
   "cell_type": "code",
   "execution_count": 149,
   "metadata": {},
   "outputs": [
    {
     "data": {
      "text/plain": [
       "Key Financial Ratios of HDFC Asset Management Company (in Rs. Cr.)\n",
       "Mar 20    28.0\n",
       "Mar 19    24.0\n",
       "Mar 18    16.0\n",
       "Mar 17    92.0\n",
       "Mar 16    80.0\n",
       "Name: Dividend / Share(Rs.), dtype: float64"
      ]
     },
     "execution_count": 149,
     "metadata": {},
     "output_type": "execute_result"
    }
   ],
   "source": [
    "amc_ratios.loc['Dividend / Share(Rs.)'].astype(float)"
   ]
  },
  {
   "cell_type": "code",
   "execution_count": 153,
   "metadata": {},
   "outputs": [
    {
     "data": {
      "text/plain": [
       "Key Financial Ratios of HDFC Asset Management Company (in Rs. Cr.)\n",
       "Mar 20    59.37\n",
       "Mar 19    43.87\n",
       "Mar 18    34.52\n",
       "Mar 17    27.33\n",
       "Mar 16    23.64\n",
       "Name: Basic EPS (Rs.), dtype: float64"
      ]
     },
     "execution_count": 153,
     "metadata": {},
     "output_type": "execute_result"
    }
   ],
   "source": [
    "amc_ratios.loc['Basic EPS (Rs.)'].astype(float)"
   ]
  },
  {
   "cell_type": "code",
   "execution_count": 154,
   "metadata": {},
   "outputs": [
    {
     "data": {
      "text/plain": [
       "Key Financial Ratios of HDFC Asset Management Company (in Rs. Cr.)\n",
       "Mar 20    0.471619\n",
       "Mar 19    0.547071\n",
       "Mar 18    0.463499\n",
       "Mar 17    3.366264\n",
       "Mar 16    3.384095\n",
       "dtype: float64"
      ]
     },
     "execution_count": 154,
     "metadata": {},
     "output_type": "execute_result"
    }
   ],
   "source": [
    "amc_ratios.loc['Dividend / Share(Rs.)'].astype(float)/amc_ratios.loc['Basic EPS (Rs.)'].astype(float)"
   ]
  },
  {
   "cell_type": "code",
   "execution_count": 157,
   "metadata": {},
   "outputs": [
    {
     "data": {
      "text/plain": [
       "34.669999999999995"
      ]
     },
     "execution_count": 157,
     "metadata": {},
     "output_type": "execute_result"
    }
   ],
   "source": [
    "amc_ratios.loc['Return on Networth / Equity (%)',:].astype(float).mean()"
   ]
  },
  {
   "cell_type": "code",
   "execution_count": 158,
   "metadata": {},
   "outputs": [
    {
     "data": {
      "text/plain": [
       "31.55"
      ]
     },
     "execution_count": 158,
     "metadata": {},
     "output_type": "execute_result"
    }
   ],
   "source": [
    "amc_ratios.loc['Return on Networth / Equity (%)',:].astype(float).median()"
   ]
  },
  {
   "cell_type": "code",
   "execution_count": 159,
   "metadata": {},
   "outputs": [
    {
     "data": {
      "text/plain": [
       "5.066867868812052"
      ]
     },
     "execution_count": 159,
     "metadata": {},
     "output_type": "execute_result"
    }
   ],
   "source": [
    "amc_ratios.loc['Return on Networth / Equity (%)',:].astype(float).std()"
   ]
  },
  {
   "cell_type": "code",
   "execution_count": 160,
   "metadata": {},
   "outputs": [],
   "source": [
    "roe_amc = 34.7/100"
   ]
  },
  {
   "cell_type": "code",
   "execution_count": 187,
   "metadata": {},
   "outputs": [],
   "source": [
    "amc_g = roe_amc*(1-0.48)"
   ]
  },
  {
   "cell_type": "code",
   "execution_count": 194,
   "metadata": {},
   "outputs": [],
   "source": [
    "amc_eps0=amc_ratios.loc['Basic EPS (Rs.)',:].astype(float)['Mar 20']"
   ]
  },
  {
   "cell_type": "code",
   "execution_count": 195,
   "metadata": {},
   "outputs": [
    {
     "data": {
      "text/plain": [
       "59.37"
      ]
     },
     "execution_count": 195,
     "metadata": {},
     "output_type": "execute_result"
    }
   ],
   "source": [
    "amc_eps0"
   ]
  },
  {
   "cell_type": "code",
   "execution_count": 177,
   "metadata": {},
   "outputs": [
    {
     "data": {
      "text/html": [
       "<div>\n",
       "<style scoped>\n",
       "    .dataframe tbody tr th:only-of-type {\n",
       "        vertical-align: middle;\n",
       "    }\n",
       "\n",
       "    .dataframe tbody tr th {\n",
       "        vertical-align: top;\n",
       "    }\n",
       "\n",
       "    .dataframe thead th {\n",
       "        text-align: right;\n",
       "    }\n",
       "</style>\n",
       "<table border=\"1\" class=\"dataframe\">\n",
       "  <thead>\n",
       "    <tr style=\"text-align: right;\">\n",
       "      <th></th>\n",
       "      <th>Company Name</th>\n",
       "      <th>Exchange:Ticker</th>\n",
       "      <th>Industry Group</th>\n",
       "      <th>Country</th>\n",
       "      <th>Broad Group</th>\n",
       "      <th>Sub Group</th>\n",
       "    </tr>\n",
       "  </thead>\n",
       "  <tbody>\n",
       "    <tr>\n",
       "      <th>14513</th>\n",
       "      <td>HDFC Asset Management Company Limited (NSEI:HD...</td>\n",
       "      <td>NSEI:HDFCAMC</td>\n",
       "      <td>Investments &amp; Asset Management</td>\n",
       "      <td>India</td>\n",
       "      <td>Emerging Markets</td>\n",
       "      <td>India</td>\n",
       "    </tr>\n",
       "  </tbody>\n",
       "</table>\n",
       "</div>"
      ],
      "text/plain": [
       "                                            Company Name Exchange:Ticker  \\\n",
       "14513  HDFC Asset Management Company Limited (NSEI:HD...    NSEI:HDFCAMC   \n",
       "\n",
       "                       Industry Group Country       Broad Group Sub Group  \n",
       "14513  Investments & Asset Management   India  Emerging Markets     India  "
      ]
     },
     "execution_count": 177,
     "metadata": {},
     "output_type": "execute_result"
    }
   ],
   "source": [
    "companies2021[companies2021['Company Name'].str.match('(^HDFC Asset.*)')==True]"
   ]
  },
  {
   "cell_type": "code",
   "execution_count": 178,
   "metadata": {},
   "outputs": [
    {
     "data": {
      "text/plain": [
       "0\n",
       "Number of firms                              78\n",
       "Average Unlevered Beta                 0.552355\n",
       "Average Levered Beta                   0.672798\n",
       "Average correlation with the market     0.18511\n",
       "Total Unlevered Beta                    2.98393\n",
       "Total Levered Beta                      3.63459\n",
       "Name: Investments & Asset Management, dtype: object"
      ]
     },
     "execution_count": 178,
     "metadata": {},
     "output_type": "execute_result"
    }
   ],
   "source": [
    "betas2021.loc['Investments & Asset Management',:]"
   ]
  },
  {
   "cell_type": "code",
   "execution_count": 179,
   "metadata": {},
   "outputs": [],
   "source": [
    "amc_beta = betas2021.loc['Investments & Asset Management','Average Levered Beta']"
   ]
  },
  {
   "cell_type": "code",
   "execution_count": 180,
   "metadata": {},
   "outputs": [],
   "source": [
    "r_equity_hdfc_amc = indian_risk_free + amc_beta*(erpdata2021.loc['United States','Equity Risk Premium'] + erpdata2021.loc['India','Country Risk Premium'])"
   ]
  },
  {
   "cell_type": "code",
   "execution_count": 181,
   "metadata": {},
   "outputs": [
    {
     "data": {
      "text/plain": [
       "0.08609943996472876"
      ]
     },
     "execution_count": 181,
     "metadata": {},
     "output_type": "execute_result"
    }
   ],
   "source": [
    "r_equity_hdfc_amc"
   ]
  },
  {
   "cell_type": "code",
   "execution_count": 182,
   "metadata": {},
   "outputs": [],
   "source": [
    "roe_stable = 0.2"
   ]
  },
  {
   "cell_type": "code",
   "execution_count": 183,
   "metadata": {},
   "outputs": [],
   "source": [
    "amc_payout_stable = 1 - 0.05/0.2"
   ]
  },
  {
   "cell_type": "code",
   "execution_count": 184,
   "metadata": {},
   "outputs": [
    {
     "data": {
      "text/plain": [
       "0.75"
      ]
     },
     "execution_count": 184,
     "metadata": {},
     "output_type": "execute_result"
    }
   ],
   "source": [
    "payout_stable"
   ]
  },
  {
   "cell_type": "code",
   "execution_count": 188,
   "metadata": {},
   "outputs": [],
   "source": [
    "amc_payout = 0.48"
   ]
  },
  {
   "cell_type": "code",
   "execution_count": 190,
   "metadata": {},
   "outputs": [
    {
     "data": {
      "text/plain": [
       "0.18044000000000002"
      ]
     },
     "execution_count": 190,
     "metadata": {},
     "output_type": "execute_result"
    }
   ],
   "source": [
    "amc_g"
   ]
  },
  {
   "cell_type": "code",
   "execution_count": 191,
   "metadata": {},
   "outputs": [],
   "source": [
    "g_amc_stable = 0.05"
   ]
  },
  {
   "cell_type": "code",
   "execution_count": 205,
   "metadata": {},
   "outputs": [],
   "source": [
    "#Growth stage : 5 years\n",
    "dividend_amc = amc_eps0*amc_payout"
   ]
  },
  {
   "cell_type": "code",
   "execution_count": 206,
   "metadata": {},
   "outputs": [
    {
     "data": {
      "text/plain": [
       "28.4976"
      ]
     },
     "execution_count": 206,
     "metadata": {},
     "output_type": "execute_result"
    }
   ],
   "source": [
    "dividend_amc"
   ]
  },
  {
   "cell_type": "code",
   "execution_count": 207,
   "metadata": {},
   "outputs": [],
   "source": [
    "amc_ratio = (1+amc_g)/(1+r_equity_hdfc_amc)"
   ]
  },
  {
   "cell_type": "code",
   "execution_count": 208,
   "metadata": {},
   "outputs": [
    {
     "data": {
      "text/plain": [
       "1.0868618070904583"
      ]
     },
     "execution_count": 208,
     "metadata": {},
     "output_type": "execute_result"
    }
   ],
   "source": [
    "amc_ratio"
   ]
  },
  {
   "cell_type": "code",
   "execution_count": 209,
   "metadata": {},
   "outputs": [],
   "source": [
    "dcf1 = dividend_amc*amc_ratio*(1-amc_ratio**5)/(1-amc_ratio)"
   ]
  },
  {
   "cell_type": "code",
   "execution_count": 210,
   "metadata": {},
   "outputs": [
    {
     "data": {
      "text/plain": [
       "184.20858990358693"
      ]
     },
     "execution_count": 210,
     "metadata": {},
     "output_type": "execute_result"
    }
   ],
   "source": [
    "dcf1"
   ]
  },
  {
   "cell_type": "code",
   "execution_count": 211,
   "metadata": {},
   "outputs": [],
   "source": [
    "payouts_amc = np.linspace(amc_payout,payout_stable,5)"
   ]
  },
  {
   "cell_type": "code",
   "execution_count": 212,
   "metadata": {},
   "outputs": [
    {
     "data": {
      "text/plain": [
       "array([0.48  , 0.5475, 0.615 , 0.6825, 0.75  ])"
      ]
     },
     "execution_count": 212,
     "metadata": {},
     "output_type": "execute_result"
    }
   ],
   "source": [
    "payouts_amc"
   ]
  },
  {
   "cell_type": "code",
   "execution_count": 214,
   "metadata": {},
   "outputs": [],
   "source": [
    "growth_amc = np.linspace(amc_g,g_amc_stable,5)"
   ]
  },
  {
   "cell_type": "code",
   "execution_count": 215,
   "metadata": {},
   "outputs": [
    {
     "data": {
      "text/plain": [
       "array([0.18044, 0.14783, 0.11522, 0.08261, 0.05   ])"
      ]
     },
     "execution_count": 215,
     "metadata": {},
     "output_type": "execute_result"
    }
   ],
   "source": [
    "growth_amc"
   ]
  },
  {
   "cell_type": "code",
   "execution_count": 216,
   "metadata": {},
   "outputs": [],
   "source": [
    "amc_eps5 = amc_eps0*(1+amc_g)**5"
   ]
  },
  {
   "cell_type": "code",
   "execution_count": 224,
   "metadata": {},
   "outputs": [
    {
     "data": {
      "text/plain": [
       "array([ 77.10309136, 100.94672842, 126.45726655, 151.92993929,\n",
       "       175.30377611])"
      ]
     },
     "execution_count": 224,
     "metadata": {},
     "output_type": "execute_result"
    }
   ],
   "source": [
    "amc_eps5*(1+growth_amc).cumprod()*payouts_amc"
   ]
  },
  {
   "cell_type": "code",
   "execution_count": 225,
   "metadata": {},
   "outputs": [],
   "source": [
    "discount_factors = np.array([1/(1+r_equity_hdfc_amc)**i for i in range(6,11)])"
   ]
  },
  {
   "cell_type": "code",
   "execution_count": 226,
   "metadata": {},
   "outputs": [
    {
     "data": {
      "text/plain": [
       "array([0.60923166, 0.56093543, 0.51646784, 0.47552537, 0.43782857])"
      ]
     },
     "execution_count": 226,
     "metadata": {},
     "output_type": "execute_result"
    }
   ],
   "source": [
    "discount_factors"
   ]
  },
  {
   "cell_type": "code",
   "execution_count": 230,
   "metadata": {},
   "outputs": [],
   "source": [
    "dcf2 = (amc_eps5*(1+growth_amc).cumprod()*payouts_amc*discount_factors).sum()"
   ]
  },
  {
   "cell_type": "code",
   "execution_count": 231,
   "metadata": {},
   "outputs": [
    {
     "data": {
      "text/plain": [
       "317.9088946551354"
      ]
     },
     "execution_count": 231,
     "metadata": {},
     "output_type": "execute_result"
    }
   ],
   "source": [
    "dcf2"
   ]
  },
  {
   "cell_type": "code",
   "execution_count": 232,
   "metadata": {},
   "outputs": [],
   "source": [
    "eps10 = amc_eps5*(1+growth_amc).cumprod()[-1]"
   ]
  },
  {
   "cell_type": "code",
   "execution_count": 235,
   "metadata": {},
   "outputs": [],
   "source": [
    "final_dividend = eps10*0.75"
   ]
  },
  {
   "cell_type": "code",
   "execution_count": 236,
   "metadata": {},
   "outputs": [
    {
     "data": {
      "text/plain": [
       "175.3037761062171"
      ]
     },
     "execution_count": 236,
     "metadata": {},
     "output_type": "execute_result"
    }
   ],
   "source": [
    "final_dividend"
   ]
  },
  {
   "cell_type": "code",
   "execution_count": 237,
   "metadata": {},
   "outputs": [],
   "source": [
    "terminal_val = final_dividend*(1.05)/((r_equity_hdfc_amc - 0.05)*(1+r_equity_hdfc_amc)**10)"
   ]
  },
  {
   "cell_type": "code",
   "execution_count": 238,
   "metadata": {},
   "outputs": [
    {
     "data": {
      "text/plain": [
       "2734.580167501751"
      ]
     },
     "execution_count": 238,
     "metadata": {},
     "output_type": "execute_result"
    }
   ],
   "source": [
    "terminal_val+dcf2+dcf1"
   ]
  },
  {
   "cell_type": "markdown",
   "metadata": {},
   "source": [
    "## ICICI Securities"
   ]
  },
  {
   "cell_type": "code",
   "execution_count": 11,
   "metadata": {},
   "outputs": [],
   "source": [
    "isec = stock_ki_kundali('ICICI Securities',['ratios','profit and loss statement','balance sheet'],con=False)"
   ]
  },
  {
   "cell_type": "code",
   "execution_count": 14,
   "metadata": {},
   "outputs": [],
   "source": [
    "isec_ratios = isec[0]"
   ]
  },
  {
   "cell_type": "code",
   "execution_count": 16,
   "metadata": {},
   "outputs": [
    {
     "data": {
      "text/plain": [
       "Key Financial Ratios of ICICI Securities Ltd. (in Rs. Cr.)\n",
       "Mar 20    11.00\n",
       "Mar 19     9.40\n",
       "Mar 18     3.90\n",
       "Mar 17     2.55\n",
       "Mar 16     2.00\n",
       "Name: Dividend / Share(Rs.), dtype: object"
      ]
     },
     "execution_count": 16,
     "metadata": {},
     "output_type": "execute_result"
    }
   ],
   "source": [
    "isec_ratios.loc['Dividend / Share(Rs.)'].astype(float)"
   ]
  },
  {
   "cell_type": "code",
   "execution_count": 19,
   "metadata": {},
   "outputs": [
    {
     "data": {
      "text/plain": [
       "Key Financial Ratios of ICICI Securities Ltd. (in Rs. Cr.)\n",
       "Mar 20    0.660264\n",
       "Mar 19    0.621693\n",
       "Mar 18    0.228739\n",
       "Mar 17    0.243321\n",
       "Mar 16    0.273224\n",
       "dtype: float64"
      ]
     },
     "execution_count": 19,
     "metadata": {},
     "output_type": "execute_result"
    }
   ],
   "source": [
    "isec_ratios.loc['Dividend / Share(Rs.)'].astype(float)/isec_ratios.loc['Basic EPS (Rs.)'].astype(float)"
   ]
  },
  {
   "cell_type": "code",
   "execution_count": 20,
   "metadata": {},
   "outputs": [],
   "source": [
    "isec_payout = 60/100"
   ]
  },
  {
   "cell_type": "code",
   "execution_count": 23,
   "metadata": {},
   "outputs": [
    {
     "data": {
      "text/plain": [
       "Key Financial Ratios of ICICI Securities Ltd. (in Rs. Cr.)\n",
       "Mar 20    45.04\n",
       "Mar 19    47.07\n",
       "Mar 18    65.47\n",
       "Mar 17    69.60\n",
       "Mar 16    59.79\n",
       "Name: Return on Networth / Equity (%), dtype: float64"
      ]
     },
     "execution_count": 23,
     "metadata": {},
     "output_type": "execute_result"
    }
   ],
   "source": [
    "isec_ratios.loc['Return on Networth / Equity (%)'].astype(float)"
   ]
  },
  {
   "cell_type": "code",
   "execution_count": 24,
   "metadata": {},
   "outputs": [
    {
     "data": {
      "text/plain": [
       "57.39399999999999"
      ]
     },
     "execution_count": 24,
     "metadata": {},
     "output_type": "execute_result"
    }
   ],
   "source": [
    "isec_ratios.loc['Return on Networth / Equity (%)'].astype(float).mean()"
   ]
  },
  {
   "cell_type": "code",
   "execution_count": 25,
   "metadata": {
    "scrolled": true
   },
   "outputs": [
    {
     "data": {
      "text/plain": [
       "10.944808358303948"
      ]
     },
     "execution_count": 25,
     "metadata": {},
     "output_type": "execute_result"
    }
   ],
   "source": [
    "isec_ratios.loc['Return on Networth / Equity (%)'].astype(float).std()"
   ]
  },
  {
   "cell_type": "code",
   "execution_count": 26,
   "metadata": {},
   "outputs": [
    {
     "data": {
      "text/plain": [
       "59.79"
      ]
     },
     "execution_count": 26,
     "metadata": {},
     "output_type": "execute_result"
    }
   ],
   "source": [
    "isec_ratios.loc['Return on Networth / Equity (%)'].astype(float).median()"
   ]
  },
  {
   "cell_type": "code",
   "execution_count": 27,
   "metadata": {},
   "outputs": [],
   "source": [
    "roe0 = 0.5"
   ]
  },
  {
   "cell_type": "code",
   "execution_count": 28,
   "metadata": {},
   "outputs": [],
   "source": [
    "g = roe0*(1-isec_payout)"
   ]
  },
  {
   "cell_type": "code",
   "execution_count": 29,
   "metadata": {},
   "outputs": [
    {
     "data": {
      "text/plain": [
       "0.2"
      ]
     },
     "execution_count": 29,
     "metadata": {},
     "output_type": "execute_result"
    }
   ],
   "source": [
    "g"
   ]
  },
  {
   "cell_type": "code",
   "execution_count": 32,
   "metadata": {},
   "outputs": [],
   "source": [
    "ind_risk_free = 5.1/100"
   ]
  },
  {
   "cell_type": "code",
   "execution_count": 33,
   "metadata": {},
   "outputs": [],
   "source": [
    "stable_g = 0.05"
   ]
  },
  {
   "cell_type": "code",
   "execution_count": 36,
   "metadata": {},
   "outputs": [
    {
     "data": {
      "text/html": [
       "<div>\n",
       "<style scoped>\n",
       "    .dataframe tbody tr th:only-of-type {\n",
       "        vertical-align: middle;\n",
       "    }\n",
       "\n",
       "    .dataframe tbody tr th {\n",
       "        vertical-align: top;\n",
       "    }\n",
       "\n",
       "    .dataframe thead th {\n",
       "        text-align: right;\n",
       "    }\n",
       "</style>\n",
       "<table border=\"1\" class=\"dataframe\">\n",
       "  <thead>\n",
       "    <tr style=\"text-align: right;\">\n",
       "      <th></th>\n",
       "      <th>Company Name</th>\n",
       "      <th>Exchange:Ticker</th>\n",
       "      <th>Industry Group</th>\n",
       "      <th>Country</th>\n",
       "      <th>Broad Group</th>\n",
       "      <th>Sub Group</th>\n",
       "    </tr>\n",
       "  </thead>\n",
       "  <tbody>\n",
       "    <tr>\n",
       "      <th>2048</th>\n",
       "      <td>ICICI Bank Limited (NSEI:ICICIBANK)</td>\n",
       "      <td>NSEI:ICICIBANK</td>\n",
       "      <td>Bank (Money Center)</td>\n",
       "      <td>India</td>\n",
       "      <td>Emerging Markets</td>\n",
       "      <td>India</td>\n",
       "    </tr>\n",
       "    <tr>\n",
       "      <th>2804</th>\n",
       "      <td>ICICI Securities Limited (NSEI:ISEC)</td>\n",
       "      <td>NSEI:ISEC</td>\n",
       "      <td>Brokerage &amp; Investment Banking</td>\n",
       "      <td>India</td>\n",
       "      <td>Emerging Markets</td>\n",
       "      <td>India</td>\n",
       "    </tr>\n",
       "    <tr>\n",
       "      <th>14166</th>\n",
       "      <td>ICICI Prudential Life Insurance Company Limite...</td>\n",
       "      <td>BSE:540133</td>\n",
       "      <td>Insurance (Life)</td>\n",
       "      <td>India</td>\n",
       "      <td>Emerging Markets</td>\n",
       "      <td>India</td>\n",
       "    </tr>\n",
       "    <tr>\n",
       "      <th>14270</th>\n",
       "      <td>ICICI Lombard General Insurance Company Limite...</td>\n",
       "      <td>BSE:540716</td>\n",
       "      <td>Insurance (Prop/Cas.)</td>\n",
       "      <td>India</td>\n",
       "      <td>Emerging Markets</td>\n",
       "      <td>India</td>\n",
       "    </tr>\n",
       "  </tbody>\n",
       "</table>\n",
       "</div>"
      ],
      "text/plain": [
       "                                            Company Name Exchange:Ticker  \\\n",
       "2048                 ICICI Bank Limited (NSEI:ICICIBANK)  NSEI:ICICIBANK   \n",
       "2804                ICICI Securities Limited (NSEI:ISEC)       NSEI:ISEC   \n",
       "14166  ICICI Prudential Life Insurance Company Limite...      BSE:540133   \n",
       "14270  ICICI Lombard General Insurance Company Limite...      BSE:540716   \n",
       "\n",
       "                       Industry Group Country       Broad Group Sub Group  \n",
       "2048              Bank (Money Center)   India  Emerging Markets     India  \n",
       "2804   Brokerage & Investment Banking   India  Emerging Markets     India  \n",
       "14166                Insurance (Life)   India  Emerging Markets     India  \n",
       "14270           Insurance (Prop/Cas.)   India  Emerging Markets     India  "
      ]
     },
     "execution_count": 36,
     "metadata": {},
     "output_type": "execute_result"
    }
   ],
   "source": [
    "companies2021[companies2021['Company Name'].str.match('(^ICICI.*)')==True]"
   ]
  },
  {
   "cell_type": "code",
   "execution_count": 37,
   "metadata": {},
   "outputs": [
    {
     "data": {
      "text/plain": [
       "0\n",
       "Number of firms                             148\n",
       "Average Unlevered Beta                 0.421148\n",
       "Average Levered Beta                   0.539985\n",
       "Average correlation with the market    0.147072\n",
       "Total Unlevered Beta                    2.86354\n",
       "Total Levered Beta                      3.67156\n",
       "Name: Brokerage & Investment Banking, dtype: object"
      ]
     },
     "execution_count": 37,
     "metadata": {},
     "output_type": "execute_result"
    }
   ],
   "source": [
    "betas2021.loc['Brokerage & Investment Banking',:]"
   ]
  },
  {
   "cell_type": "code",
   "execution_count": 38,
   "metadata": {},
   "outputs": [],
   "source": [
    "isec_beta = betas2021.loc['Brokerage & Investment Banking','Average Levered Beta']"
   ]
  },
  {
   "cell_type": "code",
   "execution_count": 40,
   "metadata": {},
   "outputs": [],
   "source": [
    "r_eq = ind_risk_free + isec_beta*(erpdata2021.loc['United States','Equity Risk Premium'] + erpdata2021.loc['India','Country Risk Premium'])"
   ]
  },
  {
   "cell_type": "code",
   "execution_count": 41,
   "metadata": {},
   "outputs": [
    {
     "data": {
      "text/plain": [
       "0.08799919964841585"
      ]
     },
     "execution_count": 41,
     "metadata": {},
     "output_type": "execute_result"
    }
   ],
   "source": [
    "r_eq"
   ]
  },
  {
   "cell_type": "code",
   "execution_count": 52,
   "metadata": {},
   "outputs": [],
   "source": [
    "eps0 = float(isec_ratios.loc['Basic EPS (Rs.)','Mar 20'])"
   ]
  },
  {
   "cell_type": "code",
   "execution_count": 53,
   "metadata": {},
   "outputs": [
    {
     "data": {
      "text/plain": [
       "16.66"
      ]
     },
     "execution_count": 53,
     "metadata": {},
     "output_type": "execute_result"
    }
   ],
   "source": [
    "eps0"
   ]
  },
  {
   "cell_type": "code",
   "execution_count": 58,
   "metadata": {},
   "outputs": [
    {
     "data": {
      "text/plain": [
       "array([0.2  , 0.175, 0.15 , 0.125, 0.1  , 0.075, 0.05 ])"
      ]
     },
     "execution_count": 58,
     "metadata": {},
     "output_type": "execute_result"
    }
   ],
   "source": [
    "np.linspace(g,stable_g,7)"
   ]
  },
  {
   "cell_type": "code",
   "execution_count": 69,
   "metadata": {},
   "outputs": [],
   "source": [
    "growth_arr = np.hstack((np.array([0.2,0.2,0.2]),np.linspace(g,stable_g,7)))"
   ]
  },
  {
   "cell_type": "code",
   "execution_count": 70,
   "metadata": {},
   "outputs": [
    {
     "data": {
      "text/plain": [
       "0.6"
      ]
     },
     "execution_count": 70,
     "metadata": {},
     "output_type": "execute_result"
    }
   ],
   "source": [
    "isec_payout"
   ]
  },
  {
   "cell_type": "code",
   "execution_count": 71,
   "metadata": {},
   "outputs": [],
   "source": [
    "final_payout = (1 - stable_g/0.2)"
   ]
  },
  {
   "cell_type": "code",
   "execution_count": 72,
   "metadata": {},
   "outputs": [
    {
     "data": {
      "text/plain": [
       "0.75"
      ]
     },
     "execution_count": 72,
     "metadata": {},
     "output_type": "execute_result"
    }
   ],
   "source": [
    "final_payout"
   ]
  },
  {
   "cell_type": "code",
   "execution_count": 73,
   "metadata": {},
   "outputs": [],
   "source": [
    "payout_arr = np.hstack((np.array([0.6,0.6,0.6]),np.linspace(isec_payout,final_payout,7)))"
   ]
  },
  {
   "cell_type": "code",
   "execution_count": 74,
   "metadata": {},
   "outputs": [
    {
     "data": {
      "text/plain": [
       "array([0.6  , 0.6  , 0.6  , 0.6  , 0.625, 0.65 , 0.675, 0.7  , 0.725,\n",
       "       0.75 ])"
      ]
     },
     "execution_count": 74,
     "metadata": {},
     "output_type": "execute_result"
    }
   ],
   "source": [
    "payout_arr"
   ]
  },
  {
   "cell_type": "code",
   "execution_count": 77,
   "metadata": {},
   "outputs": [],
   "source": [
    "isec_df = pd.DataFrame({'Growth':growth_arr,'Payout':payout_arr,'Year':np.array(range(1,11)),'Discount factor':np.array([(1+r_eq)**-i for i in range(1,11)])})"
   ]
  },
  {
   "cell_type": "code",
   "execution_count": 78,
   "metadata": {},
   "outputs": [
    {
     "data": {
      "text/html": [
       "<div>\n",
       "<style scoped>\n",
       "    .dataframe tbody tr th:only-of-type {\n",
       "        vertical-align: middle;\n",
       "    }\n",
       "\n",
       "    .dataframe tbody tr th {\n",
       "        vertical-align: top;\n",
       "    }\n",
       "\n",
       "    .dataframe thead th {\n",
       "        text-align: right;\n",
       "    }\n",
       "</style>\n",
       "<table border=\"1\" class=\"dataframe\">\n",
       "  <thead>\n",
       "    <tr style=\"text-align: right;\">\n",
       "      <th></th>\n",
       "      <th>Growth</th>\n",
       "      <th>Payout</th>\n",
       "      <th>Year</th>\n",
       "      <th>Discount factor</th>\n",
       "    </tr>\n",
       "  </thead>\n",
       "  <tbody>\n",
       "    <tr>\n",
       "      <th>0</th>\n",
       "      <td>0.200</td>\n",
       "      <td>0.600</td>\n",
       "      <td>1</td>\n",
       "      <td>0.919118</td>\n",
       "    </tr>\n",
       "    <tr>\n",
       "      <th>1</th>\n",
       "      <td>0.200</td>\n",
       "      <td>0.600</td>\n",
       "      <td>2</td>\n",
       "      <td>0.844778</td>\n",
       "    </tr>\n",
       "    <tr>\n",
       "      <th>2</th>\n",
       "      <td>0.200</td>\n",
       "      <td>0.600</td>\n",
       "      <td>3</td>\n",
       "      <td>0.776451</td>\n",
       "    </tr>\n",
       "    <tr>\n",
       "      <th>3</th>\n",
       "      <td>0.200</td>\n",
       "      <td>0.600</td>\n",
       "      <td>4</td>\n",
       "      <td>0.713651</td>\n",
       "    </tr>\n",
       "    <tr>\n",
       "      <th>4</th>\n",
       "      <td>0.175</td>\n",
       "      <td>0.625</td>\n",
       "      <td>5</td>\n",
       "      <td>0.655929</td>\n",
       "    </tr>\n",
       "    <tr>\n",
       "      <th>5</th>\n",
       "      <td>0.150</td>\n",
       "      <td>0.650</td>\n",
       "      <td>6</td>\n",
       "      <td>0.602877</td>\n",
       "    </tr>\n",
       "    <tr>\n",
       "      <th>6</th>\n",
       "      <td>0.125</td>\n",
       "      <td>0.675</td>\n",
       "      <td>7</td>\n",
       "      <td>0.554115</td>\n",
       "    </tr>\n",
       "    <tr>\n",
       "      <th>7</th>\n",
       "      <td>0.100</td>\n",
       "      <td>0.700</td>\n",
       "      <td>8</td>\n",
       "      <td>0.509297</td>\n",
       "    </tr>\n",
       "    <tr>\n",
       "      <th>8</th>\n",
       "      <td>0.075</td>\n",
       "      <td>0.725</td>\n",
       "      <td>9</td>\n",
       "      <td>0.468105</td>\n",
       "    </tr>\n",
       "    <tr>\n",
       "      <th>9</th>\n",
       "      <td>0.050</td>\n",
       "      <td>0.750</td>\n",
       "      <td>10</td>\n",
       "      <td>0.430243</td>\n",
       "    </tr>\n",
       "  </tbody>\n",
       "</table>\n",
       "</div>"
      ],
      "text/plain": [
       "   Growth  Payout  Year  Discount factor\n",
       "0   0.200   0.600     1         0.919118\n",
       "1   0.200   0.600     2         0.844778\n",
       "2   0.200   0.600     3         0.776451\n",
       "3   0.200   0.600     4         0.713651\n",
       "4   0.175   0.625     5         0.655929\n",
       "5   0.150   0.650     6         0.602877\n",
       "6   0.125   0.675     7         0.554115\n",
       "7   0.100   0.700     8         0.509297\n",
       "8   0.075   0.725     9         0.468105\n",
       "9   0.050   0.750    10         0.430243"
      ]
     },
     "execution_count": 78,
     "metadata": {},
     "output_type": "execute_result"
    }
   ],
   "source": [
    "isec_df"
   ]
  },
  {
   "cell_type": "code",
   "execution_count": 79,
   "metadata": {},
   "outputs": [],
   "source": [
    "isec_df.set_index('Year',inplace=True)"
   ]
  },
  {
   "cell_type": "code",
   "execution_count": 82,
   "metadata": {},
   "outputs": [],
   "source": [
    "isec_df['Compound factor'] = (1+isec_df['Growth']).cumprod()"
   ]
  },
  {
   "cell_type": "code",
   "execution_count": 83,
   "metadata": {},
   "outputs": [
    {
     "data": {
      "text/html": [
       "<div>\n",
       "<style scoped>\n",
       "    .dataframe tbody tr th:only-of-type {\n",
       "        vertical-align: middle;\n",
       "    }\n",
       "\n",
       "    .dataframe tbody tr th {\n",
       "        vertical-align: top;\n",
       "    }\n",
       "\n",
       "    .dataframe thead th {\n",
       "        text-align: right;\n",
       "    }\n",
       "</style>\n",
       "<table border=\"1\" class=\"dataframe\">\n",
       "  <thead>\n",
       "    <tr style=\"text-align: right;\">\n",
       "      <th></th>\n",
       "      <th>Growth</th>\n",
       "      <th>Payout</th>\n",
       "      <th>Discount factor</th>\n",
       "      <th>Compound factor</th>\n",
       "    </tr>\n",
       "    <tr>\n",
       "      <th>Year</th>\n",
       "      <th></th>\n",
       "      <th></th>\n",
       "      <th></th>\n",
       "      <th></th>\n",
       "    </tr>\n",
       "  </thead>\n",
       "  <tbody>\n",
       "    <tr>\n",
       "      <th>1</th>\n",
       "      <td>0.200</td>\n",
       "      <td>0.600</td>\n",
       "      <td>0.919118</td>\n",
       "      <td>1.200000</td>\n",
       "    </tr>\n",
       "    <tr>\n",
       "      <th>2</th>\n",
       "      <td>0.200</td>\n",
       "      <td>0.600</td>\n",
       "      <td>0.844778</td>\n",
       "      <td>1.440000</td>\n",
       "    </tr>\n",
       "    <tr>\n",
       "      <th>3</th>\n",
       "      <td>0.200</td>\n",
       "      <td>0.600</td>\n",
       "      <td>0.776451</td>\n",
       "      <td>1.728000</td>\n",
       "    </tr>\n",
       "    <tr>\n",
       "      <th>4</th>\n",
       "      <td>0.200</td>\n",
       "      <td>0.600</td>\n",
       "      <td>0.713651</td>\n",
       "      <td>2.073600</td>\n",
       "    </tr>\n",
       "    <tr>\n",
       "      <th>5</th>\n",
       "      <td>0.175</td>\n",
       "      <td>0.625</td>\n",
       "      <td>0.655929</td>\n",
       "      <td>2.436480</td>\n",
       "    </tr>\n",
       "    <tr>\n",
       "      <th>6</th>\n",
       "      <td>0.150</td>\n",
       "      <td>0.650</td>\n",
       "      <td>0.602877</td>\n",
       "      <td>2.801952</td>\n",
       "    </tr>\n",
       "    <tr>\n",
       "      <th>7</th>\n",
       "      <td>0.125</td>\n",
       "      <td>0.675</td>\n",
       "      <td>0.554115</td>\n",
       "      <td>3.152196</td>\n",
       "    </tr>\n",
       "    <tr>\n",
       "      <th>8</th>\n",
       "      <td>0.100</td>\n",
       "      <td>0.700</td>\n",
       "      <td>0.509297</td>\n",
       "      <td>3.467416</td>\n",
       "    </tr>\n",
       "    <tr>\n",
       "      <th>9</th>\n",
       "      <td>0.075</td>\n",
       "      <td>0.725</td>\n",
       "      <td>0.468105</td>\n",
       "      <td>3.727472</td>\n",
       "    </tr>\n",
       "    <tr>\n",
       "      <th>10</th>\n",
       "      <td>0.050</td>\n",
       "      <td>0.750</td>\n",
       "      <td>0.430243</td>\n",
       "      <td>3.913845</td>\n",
       "    </tr>\n",
       "  </tbody>\n",
       "</table>\n",
       "</div>"
      ],
      "text/plain": [
       "      Growth  Payout  Discount factor  Compound factor\n",
       "Year                                                  \n",
       "1      0.200   0.600         0.919118         1.200000\n",
       "2      0.200   0.600         0.844778         1.440000\n",
       "3      0.200   0.600         0.776451         1.728000\n",
       "4      0.200   0.600         0.713651         2.073600\n",
       "5      0.175   0.625         0.655929         2.436480\n",
       "6      0.150   0.650         0.602877         2.801952\n",
       "7      0.125   0.675         0.554115         3.152196\n",
       "8      0.100   0.700         0.509297         3.467416\n",
       "9      0.075   0.725         0.468105         3.727472\n",
       "10     0.050   0.750         0.430243         3.913845"
      ]
     },
     "execution_count": 83,
     "metadata": {},
     "output_type": "execute_result"
    }
   ],
   "source": [
    "isec_df"
   ]
  },
  {
   "cell_type": "code",
   "execution_count": 86,
   "metadata": {},
   "outputs": [],
   "source": [
    "isec_df['Discounted dividends'] = isec_df['Discount factor']*isec_df['Compound factor']*isec_df['Payout']*eps0"
   ]
  },
  {
   "cell_type": "code",
   "execution_count": 87,
   "metadata": {},
   "outputs": [
    {
     "data": {
      "text/html": [
       "<div>\n",
       "<style scoped>\n",
       "    .dataframe tbody tr th:only-of-type {\n",
       "        vertical-align: middle;\n",
       "    }\n",
       "\n",
       "    .dataframe tbody tr th {\n",
       "        vertical-align: top;\n",
       "    }\n",
       "\n",
       "    .dataframe thead th {\n",
       "        text-align: right;\n",
       "    }\n",
       "</style>\n",
       "<table border=\"1\" class=\"dataframe\">\n",
       "  <thead>\n",
       "    <tr style=\"text-align: right;\">\n",
       "      <th></th>\n",
       "      <th>Growth</th>\n",
       "      <th>Payout</th>\n",
       "      <th>Discount factor</th>\n",
       "      <th>Compound factor</th>\n",
       "      <th>Discounted dividends</th>\n",
       "    </tr>\n",
       "    <tr>\n",
       "      <th>Year</th>\n",
       "      <th></th>\n",
       "      <th></th>\n",
       "      <th></th>\n",
       "      <th></th>\n",
       "      <th></th>\n",
       "    </tr>\n",
       "  </thead>\n",
       "  <tbody>\n",
       "    <tr>\n",
       "      <th>1</th>\n",
       "      <td>0.200</td>\n",
       "      <td>0.600</td>\n",
       "      <td>0.919118</td>\n",
       "      <td>1.200000</td>\n",
       "      <td>11.025008</td>\n",
       "    </tr>\n",
       "    <tr>\n",
       "      <th>2</th>\n",
       "      <td>0.200</td>\n",
       "      <td>0.600</td>\n",
       "      <td>0.844778</td>\n",
       "      <td>1.440000</td>\n",
       "      <td>12.159944</td>\n",
       "    </tr>\n",
       "    <tr>\n",
       "      <th>3</th>\n",
       "      <td>0.200</td>\n",
       "      <td>0.600</td>\n",
       "      <td>0.776451</td>\n",
       "      <td>1.728000</td>\n",
       "      <td>13.411713</td>\n",
       "    </tr>\n",
       "    <tr>\n",
       "      <th>4</th>\n",
       "      <td>0.200</td>\n",
       "      <td>0.600</td>\n",
       "      <td>0.713651</td>\n",
       "      <td>2.073600</td>\n",
       "      <td>14.792342</td>\n",
       "    </tr>\n",
       "    <tr>\n",
       "      <th>5</th>\n",
       "      <td>0.175</td>\n",
       "      <td>0.625</td>\n",
       "      <td>0.655929</td>\n",
       "      <td>2.436480</td>\n",
       "      <td>16.640830</td>\n",
       "    </tr>\n",
       "    <tr>\n",
       "      <th>6</th>\n",
       "      <td>0.150</td>\n",
       "      <td>0.650</td>\n",
       "      <td>0.602877</td>\n",
       "      <td>2.801952</td>\n",
       "      <td>18.292691</td>\n",
       "    </tr>\n",
       "    <tr>\n",
       "      <th>7</th>\n",
       "      <td>0.125</td>\n",
       "      <td>0.675</td>\n",
       "      <td>0.554115</td>\n",
       "      <td>3.152196</td>\n",
       "      <td>19.642282</td>\n",
       "    </tr>\n",
       "    <tr>\n",
       "      <th>8</th>\n",
       "      <td>0.100</td>\n",
       "      <td>0.700</td>\n",
       "      <td>0.509297</td>\n",
       "      <td>3.467416</td>\n",
       "      <td>20.594456</td>\n",
       "    </tr>\n",
       "    <tr>\n",
       "      <th>9</th>\n",
       "      <td>0.075</td>\n",
       "      <td>0.725</td>\n",
       "      <td>0.468105</td>\n",
       "      <td>3.727472</td>\n",
       "      <td>21.075126</td>\n",
       "    </tr>\n",
       "    <tr>\n",
       "      <th>10</th>\n",
       "      <td>0.050</td>\n",
       "      <td>0.750</td>\n",
       "      <td>0.430243</td>\n",
       "      <td>3.913845</td>\n",
       "      <td>21.040408</td>\n",
       "    </tr>\n",
       "  </tbody>\n",
       "</table>\n",
       "</div>"
      ],
      "text/plain": [
       "      Growth  Payout  Discount factor  Compound factor  Discounted dividends\n",
       "Year                                                                        \n",
       "1      0.200   0.600         0.919118         1.200000             11.025008\n",
       "2      0.200   0.600         0.844778         1.440000             12.159944\n",
       "3      0.200   0.600         0.776451         1.728000             13.411713\n",
       "4      0.200   0.600         0.713651         2.073600             14.792342\n",
       "5      0.175   0.625         0.655929         2.436480             16.640830\n",
       "6      0.150   0.650         0.602877         2.801952             18.292691\n",
       "7      0.125   0.675         0.554115         3.152196             19.642282\n",
       "8      0.100   0.700         0.509297         3.467416             20.594456\n",
       "9      0.075   0.725         0.468105         3.727472             21.075126\n",
       "10     0.050   0.750         0.430243         3.913845             21.040408"
      ]
     },
     "execution_count": 87,
     "metadata": {},
     "output_type": "execute_result"
    }
   ],
   "source": [
    "isec_df"
   ]
  },
  {
   "cell_type": "code",
   "execution_count": 99,
   "metadata": {},
   "outputs": [],
   "source": [
    "terminal_val = isec_df.loc[10,'Compound factor']*eps0*0.75*(1+stable_g)*isec_df.loc[10,'Discount factor']/(r_eq-stable_g)"
   ]
  },
  {
   "cell_type": "code",
   "execution_count": 102,
   "metadata": {},
   "outputs": [
    {
     "data": {
      "text/plain": [
       "750.0667499375982"
      ]
     },
     "execution_count": 102,
     "metadata": {},
     "output_type": "execute_result"
    }
   ],
   "source": [
    "terminal_val + isec_df['Discounted dividends'].sum()"
   ]
  },
  {
   "cell_type": "code",
   "execution_count": null,
   "metadata": {},
   "outputs": [],
   "source": []
  }
 ],
 "metadata": {
  "kernelspec": {
   "display_name": "Python 3",
   "language": "python",
   "name": "python3"
  },
  "language_info": {
   "codemirror_mode": {
    "name": "ipython",
    "version": 3
   },
   "file_extension": ".py",
   "mimetype": "text/x-python",
   "name": "python",
   "nbconvert_exporter": "python",
   "pygments_lexer": "ipython3",
   "version": "3.7.6"
  }
 },
 "nbformat": 4,
 "nbformat_minor": 4
}
